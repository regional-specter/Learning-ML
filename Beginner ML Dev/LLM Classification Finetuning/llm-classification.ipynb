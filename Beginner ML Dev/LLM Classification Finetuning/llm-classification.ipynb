{
 "cells": [
  {
   "cell_type": "code",
   "execution_count": null,
   "id": "9ab5cf6f",
   "metadata": {},
   "outputs": [
    {
     "name": "stderr",
     "output_type": "stream",
     "text": [
      "/Library/Frameworks/Python.framework/Versions/3.12/lib/python3.12/pty.py:95: RuntimeWarning:\n",
      "\n",
      "os.fork() was called. os.fork() is incompatible with multithreaded code, and JAX is multithreaded, so this will likely lead to a deadlock.\n",
      "\n"
     ]
    },
    {
     "name": "stdout",
     "output_type": "stream",
     "text": [
      "Requirement already satisfied: keras_nlp in /Library/Frameworks/Python.framework/Versions/3.12/lib/python3.12/site-packages (0.22.1)\n",
      "Requirement already satisfied: keras-hub==0.22.1 in /Library/Frameworks/Python.framework/Versions/3.12/lib/python3.12/site-packages (from keras_nlp) (0.22.1)\n",
      "Requirement already satisfied: keras>=3.8 in /Library/Frameworks/Python.framework/Versions/3.12/lib/python3.12/site-packages (from keras-hub==0.22.1->keras_nlp) (3.11.2)\n",
      "Requirement already satisfied: absl-py in /Library/Frameworks/Python.framework/Versions/3.12/lib/python3.12/site-packages (from keras-hub==0.22.1->keras_nlp) (2.3.1)\n",
      "Requirement already satisfied: numpy in /Library/Frameworks/Python.framework/Versions/3.12/lib/python3.12/site-packages (from keras-hub==0.22.1->keras_nlp) (2.1.3)\n",
      "Requirement already satisfied: packaging in /Users/raoabdul/Library/Python/3.12/lib/python/site-packages (from keras-hub==0.22.1->keras_nlp) (25.0)\n",
      "Requirement already satisfied: regex in /Library/Frameworks/Python.framework/Versions/3.12/lib/python3.12/site-packages (from keras-hub==0.22.1->keras_nlp) (2025.7.34)\n",
      "Requirement already satisfied: rich in /Library/Frameworks/Python.framework/Versions/3.12/lib/python3.12/site-packages (from keras-hub==0.22.1->keras_nlp) (14.1.0)\n",
      "Requirement already satisfied: kagglehub in /Library/Frameworks/Python.framework/Versions/3.12/lib/python3.12/site-packages (from keras-hub==0.22.1->keras_nlp) (0.3.12)\n",
      "Requirement already satisfied: tensorflow-text in /Library/Frameworks/Python.framework/Versions/3.12/lib/python3.12/site-packages (from keras-hub==0.22.1->keras_nlp) (2.19.0)\n",
      "Requirement already satisfied: namex in /Library/Frameworks/Python.framework/Versions/3.12/lib/python3.12/site-packages (from keras>=3.8->keras-hub==0.22.1->keras_nlp) (0.1.0)\n",
      "Requirement already satisfied: h5py in /Library/Frameworks/Python.framework/Versions/3.12/lib/python3.12/site-packages (from keras>=3.8->keras-hub==0.22.1->keras_nlp) (3.14.0)\n",
      "Requirement already satisfied: optree in /Library/Frameworks/Python.framework/Versions/3.12/lib/python3.12/site-packages (from keras>=3.8->keras-hub==0.22.1->keras_nlp) (0.17.0)\n",
      "Requirement already satisfied: ml-dtypes in /Library/Frameworks/Python.framework/Versions/3.12/lib/python3.12/site-packages (from keras>=3.8->keras-hub==0.22.1->keras_nlp) (0.5.3)\n",
      "Requirement already satisfied: pyyaml in /Library/Frameworks/Python.framework/Versions/3.12/lib/python3.12/site-packages (from kagglehub->keras-hub==0.22.1->keras_nlp) (6.0.2)\n",
      "Requirement already satisfied: requests in /Library/Frameworks/Python.framework/Versions/3.12/lib/python3.12/site-packages (from kagglehub->keras-hub==0.22.1->keras_nlp) (2.32.4)\n",
      "Requirement already satisfied: tqdm in /Library/Frameworks/Python.framework/Versions/3.12/lib/python3.12/site-packages (from kagglehub->keras-hub==0.22.1->keras_nlp) (4.67.1)\n",
      "Requirement already satisfied: markdown-it-py>=2.2.0 in /Library/Frameworks/Python.framework/Versions/3.12/lib/python3.12/site-packages (from rich->keras-hub==0.22.1->keras_nlp) (4.0.0)\n",
      "Requirement already satisfied: pygments<3.0.0,>=2.13.0 in /Users/raoabdul/Library/Python/3.12/lib/python/site-packages (from rich->keras-hub==0.22.1->keras_nlp) (2.19.2)\n",
      "Requirement already satisfied: tensorflow<2.20,>=2.19.0 in /Library/Frameworks/Python.framework/Versions/3.12/lib/python3.12/site-packages (from tensorflow-text->keras-hub==0.22.1->keras_nlp) (2.19.0)\n",
      "Requirement already satisfied: mdurl~=0.1 in /Library/Frameworks/Python.framework/Versions/3.12/lib/python3.12/site-packages (from markdown-it-py>=2.2.0->rich->keras-hub==0.22.1->keras_nlp) (0.1.2)\n",
      "Requirement already satisfied: astunparse>=1.6.0 in /Library/Frameworks/Python.framework/Versions/3.12/lib/python3.12/site-packages (from tensorflow<2.20,>=2.19.0->tensorflow-text->keras-hub==0.22.1->keras_nlp) (1.6.3)\n",
      "Requirement already satisfied: flatbuffers>=24.3.25 in /Library/Frameworks/Python.framework/Versions/3.12/lib/python3.12/site-packages (from tensorflow<2.20,>=2.19.0->tensorflow-text->keras-hub==0.22.1->keras_nlp) (25.2.10)\n",
      "Requirement already satisfied: gast!=0.5.0,!=0.5.1,!=0.5.2,>=0.2.1 in /Library/Frameworks/Python.framework/Versions/3.12/lib/python3.12/site-packages (from tensorflow<2.20,>=2.19.0->tensorflow-text->keras-hub==0.22.1->keras_nlp) (0.6.0)\n",
      "Requirement already satisfied: google-pasta>=0.1.1 in /Library/Frameworks/Python.framework/Versions/3.12/lib/python3.12/site-packages (from tensorflow<2.20,>=2.19.0->tensorflow-text->keras-hub==0.22.1->keras_nlp) (0.2.0)\n",
      "Requirement already satisfied: libclang>=13.0.0 in /Library/Frameworks/Python.framework/Versions/3.12/lib/python3.12/site-packages (from tensorflow<2.20,>=2.19.0->tensorflow-text->keras-hub==0.22.1->keras_nlp) (18.1.1)\n",
      "Requirement already satisfied: opt-einsum>=2.3.2 in /Library/Frameworks/Python.framework/Versions/3.12/lib/python3.12/site-packages (from tensorflow<2.20,>=2.19.0->tensorflow-text->keras-hub==0.22.1->keras_nlp) (3.4.0)\n",
      "Requirement already satisfied: protobuf!=4.21.0,!=4.21.1,!=4.21.2,!=4.21.3,!=4.21.4,!=4.21.5,<6.0.0dev,>=3.20.3 in /Library/Frameworks/Python.framework/Versions/3.12/lib/python3.12/site-packages (from tensorflow<2.20,>=2.19.0->tensorflow-text->keras-hub==0.22.1->keras_nlp) (5.29.5)\n",
      "Requirement already satisfied: setuptools in /Library/Frameworks/Python.framework/Versions/3.12/lib/python3.12/site-packages (from tensorflow<2.20,>=2.19.0->tensorflow-text->keras-hub==0.22.1->keras_nlp) (80.9.0)\n",
      "Requirement already satisfied: six>=1.12.0 in /Users/raoabdul/Library/Python/3.12/lib/python/site-packages (from tensorflow<2.20,>=2.19.0->tensorflow-text->keras-hub==0.22.1->keras_nlp) (1.17.0)\n",
      "Requirement already satisfied: termcolor>=1.1.0 in /Library/Frameworks/Python.framework/Versions/3.12/lib/python3.12/site-packages (from tensorflow<2.20,>=2.19.0->tensorflow-text->keras-hub==0.22.1->keras_nlp) (3.1.0)\n",
      "Requirement already satisfied: typing-extensions>=3.6.6 in /Library/Frameworks/Python.framework/Versions/3.12/lib/python3.12/site-packages (from tensorflow<2.20,>=2.19.0->tensorflow-text->keras-hub==0.22.1->keras_nlp) (4.14.1)\n",
      "Requirement already satisfied: wrapt>=1.11.0 in /Library/Frameworks/Python.framework/Versions/3.12/lib/python3.12/site-packages (from tensorflow<2.20,>=2.19.0->tensorflow-text->keras-hub==0.22.1->keras_nlp) (1.17.3)\n",
      "Requirement already satisfied: grpcio<2.0,>=1.24.3 in /Library/Frameworks/Python.framework/Versions/3.12/lib/python3.12/site-packages (from tensorflow<2.20,>=2.19.0->tensorflow-text->keras-hub==0.22.1->keras_nlp) (1.74.0)\n",
      "Requirement already satisfied: tensorboard~=2.19.0 in /Library/Frameworks/Python.framework/Versions/3.12/lib/python3.12/site-packages (from tensorflow<2.20,>=2.19.0->tensorflow-text->keras-hub==0.22.1->keras_nlp) (2.19.0)\n",
      "Requirement already satisfied: charset_normalizer<4,>=2 in /Library/Frameworks/Python.framework/Versions/3.12/lib/python3.12/site-packages (from requests->kagglehub->keras-hub==0.22.1->keras_nlp) (3.4.3)\n",
      "Requirement already satisfied: idna<4,>=2.5 in /Library/Frameworks/Python.framework/Versions/3.12/lib/python3.12/site-packages (from requests->kagglehub->keras-hub==0.22.1->keras_nlp) (3.10)\n",
      "Requirement already satisfied: urllib3<3,>=1.21.1 in /Library/Frameworks/Python.framework/Versions/3.12/lib/python3.12/site-packages (from requests->kagglehub->keras-hub==0.22.1->keras_nlp) (2.5.0)\n",
      "Requirement already satisfied: certifi>=2017.4.17 in /Library/Frameworks/Python.framework/Versions/3.12/lib/python3.12/site-packages (from requests->kagglehub->keras-hub==0.22.1->keras_nlp) (2025.8.3)\n",
      "Requirement already satisfied: wheel<1.0,>=0.23.0 in /Library/Frameworks/Python.framework/Versions/3.12/lib/python3.12/site-packages (from astunparse>=1.6.0->tensorflow<2.20,>=2.19.0->tensorflow-text->keras-hub==0.22.1->keras_nlp) (0.45.1)\n",
      "Requirement already satisfied: markdown>=2.6.8 in /Library/Frameworks/Python.framework/Versions/3.12/lib/python3.12/site-packages (from tensorboard~=2.19.0->tensorflow<2.20,>=2.19.0->tensorflow-text->keras-hub==0.22.1->keras_nlp) (3.8.2)\n",
      "Requirement already satisfied: tensorboard-data-server<0.8.0,>=0.7.0 in /Library/Frameworks/Python.framework/Versions/3.12/lib/python3.12/site-packages (from tensorboard~=2.19.0->tensorflow<2.20,>=2.19.0->tensorflow-text->keras-hub==0.22.1->keras_nlp) (0.7.2)\n",
      "Requirement already satisfied: werkzeug>=1.0.1 in /Library/Frameworks/Python.framework/Versions/3.12/lib/python3.12/site-packages (from tensorboard~=2.19.0->tensorflow<2.20,>=2.19.0->tensorflow-text->keras-hub==0.22.1->keras_nlp) (3.1.3)\n",
      "Requirement already satisfied: MarkupSafe>=2.1.1 in /Library/Frameworks/Python.framework/Versions/3.12/lib/python3.12/site-packages (from werkzeug>=1.0.1->tensorboard~=2.19.0->tensorflow<2.20,>=2.19.0->tensorflow-text->keras-hub==0.22.1->keras_nlp) (3.0.2)\n",
      "\n",
      "\u001b[1m[\u001b[0m\u001b[34;49mnotice\u001b[0m\u001b[1;39;49m]\u001b[0m\u001b[39;49m A new release of pip is available: \u001b[0m\u001b[31;49m24.2\u001b[0m\u001b[39;49m -> \u001b[0m\u001b[32;49m25.2\u001b[0m\n",
      "\u001b[1m[\u001b[0m\u001b[34;49mnotice\u001b[0m\u001b[1;39;49m]\u001b[0m\u001b[39;49m To update, run: \u001b[0m\u001b[32;49mpip3 install --upgrade pip\u001b[0m\n",
      "Note: you may need to restart the kernel to use updated packages.\n",
      "Requirement already satisfied: jax in /Library/Frameworks/Python.framework/Versions/3.12/lib/python3.12/site-packages (0.7.1)\n",
      "Requirement already satisfied: jaxlib<=0.7.1,>=0.7.1 in /Library/Frameworks/Python.framework/Versions/3.12/lib/python3.12/site-packages (from jax) (0.7.1)\n",
      "Requirement already satisfied: ml_dtypes>=0.5.0 in /Library/Frameworks/Python.framework/Versions/3.12/lib/python3.12/site-packages (from jax) (0.5.3)\n",
      "Requirement already satisfied: numpy>=1.26 in /Library/Frameworks/Python.framework/Versions/3.12/lib/python3.12/site-packages (from jax) (2.1.3)\n",
      "Requirement already satisfied: opt_einsum in /Library/Frameworks/Python.framework/Versions/3.12/lib/python3.12/site-packages (from jax) (3.4.0)\n",
      "Requirement already satisfied: scipy>=1.12 in /Library/Frameworks/Python.framework/Versions/3.12/lib/python3.12/site-packages (from jax) (1.16.1)\n",
      "\n",
      "\u001b[1m[\u001b[0m\u001b[34;49mnotice\u001b[0m\u001b[1;39;49m]\u001b[0m\u001b[39;49m A new release of pip is available: \u001b[0m\u001b[31;49m24.2\u001b[0m\u001b[39;49m -> \u001b[0m\u001b[32;49m25.2\u001b[0m\n",
      "\u001b[1m[\u001b[0m\u001b[34;49mnotice\u001b[0m\u001b[1;39;49m]\u001b[0m\u001b[39;49m To update, run: \u001b[0m\u001b[32;49mpip3 install --upgrade pip\u001b[0m\n",
      "Note: you may need to restart the kernel to use updated packages.\n",
      "Requirement already satisfied: plotly in /Library/Frameworks/Python.framework/Versions/3.12/lib/python3.12/site-packages (6.3.0)\n",
      "Requirement already satisfied: narwhals>=1.15.1 in /Library/Frameworks/Python.framework/Versions/3.12/lib/python3.12/site-packages (from plotly) (2.1.2)\n",
      "Requirement already satisfied: packaging in /Users/raoabdul/Library/Python/3.12/lib/python/site-packages (from plotly) (25.0)\n",
      "\n",
      "\u001b[1m[\u001b[0m\u001b[34;49mnotice\u001b[0m\u001b[1;39;49m]\u001b[0m\u001b[39;49m A new release of pip is available: \u001b[0m\u001b[31;49m24.2\u001b[0m\u001b[39;49m -> \u001b[0m\u001b[32;49m25.2\u001b[0m\n",
      "\u001b[1m[\u001b[0m\u001b[34;49mnotice\u001b[0m\u001b[1;39;49m]\u001b[0m\u001b[39;49m To update, run: \u001b[0m\u001b[32;49mpip3 install --upgrade pip\u001b[0m\n",
      "Note: you may need to restart the kernel to use updated packages.\n",
      "Requirement already satisfied: tqdm in /Library/Frameworks/Python.framework/Versions/3.12/lib/python3.12/site-packages (4.67.1)\n",
      "\n",
      "\u001b[1m[\u001b[0m\u001b[34;49mnotice\u001b[0m\u001b[1;39;49m]\u001b[0m\u001b[39;49m A new release of pip is available: \u001b[0m\u001b[31;49m24.2\u001b[0m\u001b[39;49m -> \u001b[0m\u001b[32;49m25.2\u001b[0m\n",
      "\u001b[1m[\u001b[0m\u001b[34;49mnotice\u001b[0m\u001b[1;39;49m]\u001b[0m\u001b[39;49m To update, run: \u001b[0m\u001b[32;49mpip3 install --upgrade pip\u001b[0m\n",
      "Note: you may need to restart the kernel to use updated packages.\n",
      "Requirement already satisfied: nbformat in /Library/Frameworks/Python.framework/Versions/3.12/lib/python3.12/site-packages (5.10.4)\n",
      "Requirement already satisfied: fastjsonschema>=2.15 in /Library/Frameworks/Python.framework/Versions/3.12/lib/python3.12/site-packages (from nbformat) (2.21.2)\n",
      "Requirement already satisfied: jsonschema>=2.6 in /Library/Frameworks/Python.framework/Versions/3.12/lib/python3.12/site-packages (from nbformat) (4.25.1)\n",
      "Requirement already satisfied: jupyter-core!=5.0.*,>=4.12 in /Users/raoabdul/Library/Python/3.12/lib/python/site-packages (from nbformat) (5.8.1)\n",
      "Requirement already satisfied: traitlets>=5.1 in /Users/raoabdul/Library/Python/3.12/lib/python/site-packages (from nbformat) (5.14.3)\n",
      "Requirement already satisfied: attrs>=22.2.0 in /Library/Frameworks/Python.framework/Versions/3.12/lib/python3.12/site-packages (from jsonschema>=2.6->nbformat) (25.3.0)\n",
      "Requirement already satisfied: jsonschema-specifications>=2023.03.6 in /Library/Frameworks/Python.framework/Versions/3.12/lib/python3.12/site-packages (from jsonschema>=2.6->nbformat) (2025.4.1)\n",
      "Requirement already satisfied: referencing>=0.28.4 in /Library/Frameworks/Python.framework/Versions/3.12/lib/python3.12/site-packages (from jsonschema>=2.6->nbformat) (0.36.2)\n",
      "Requirement already satisfied: rpds-py>=0.7.1 in /Library/Frameworks/Python.framework/Versions/3.12/lib/python3.12/site-packages (from jsonschema>=2.6->nbformat) (0.27.0)\n",
      "Requirement already satisfied: platformdirs>=2.5 in /Users/raoabdul/Library/Python/3.12/lib/python/site-packages (from jupyter-core!=5.0.*,>=4.12->nbformat) (4.3.8)\n",
      "Requirement already satisfied: typing-extensions>=4.4.0 in /Library/Frameworks/Python.framework/Versions/3.12/lib/python3.12/site-packages (from referencing>=0.28.4->jsonschema>=2.6->nbformat) (4.14.1)\n",
      "\n",
      "\u001b[1m[\u001b[0m\u001b[34;49mnotice\u001b[0m\u001b[1;39;49m]\u001b[0m\u001b[39;49m A new release of pip is available: \u001b[0m\u001b[31;49m24.2\u001b[0m\u001b[39;49m -> \u001b[0m\u001b[32;49m25.2\u001b[0m\n",
      "\u001b[1m[\u001b[0m\u001b[34;49mnotice\u001b[0m\u001b[1;39;49m]\u001b[0m\u001b[39;49m To update, run: \u001b[0m\u001b[32;49mpip3 install --upgrade pip\u001b[0m\n",
      "Note: you may need to restart the kernel to use updated packages.\n",
      "zsh:1: 4.2.0 not found\n",
      "Note: you may need to restart the kernel to use updated packages.\n",
      "\u001b[31mERROR: Could not find a version that satisfies the requirement math (from versions: none)\u001b[0m\u001b[31m\n",
      "\u001b[0m\n",
      "\u001b[1m[\u001b[0m\u001b[34;49mnotice\u001b[0m\u001b[1;39;49m]\u001b[0m\u001b[39;49m A new release of pip is available: \u001b[0m\u001b[31;49m24.2\u001b[0m\u001b[39;49m -> \u001b[0m\u001b[32;49m25.2\u001b[0m\n",
      "\u001b[1m[\u001b[0m\u001b[34;49mnotice\u001b[0m\u001b[1;39;49m]\u001b[0m\u001b[39;49m To update, run: \u001b[0m\u001b[32;49mpip3 install --upgrade pip\u001b[0m\n",
      "\u001b[31mERROR: No matching distribution found for math\u001b[0m\u001b[31m\n",
      "\u001b[0mNote: you may need to restart the kernel to use updated packages.\n"
     ]
    }
   ],
   "source": [
    "%pip install keras_nlp\n",
    "%pip install jax\n",
    "%pip install plotly\n",
    "%pip install tqdm\n",
    "%pip install nbformat\n",
    "%pip install nbformat>=4.2.0"
   ]
  },
  {
   "cell_type": "code",
   "execution_count": 2,
   "id": "05b66bf2",
   "metadata": {},
   "outputs": [
    {
     "name": "stderr",
     "output_type": "stream",
     "text": [
      "/Library/Frameworks/Python.framework/Versions/3.12/lib/python3.12/site-packages/tqdm/auto.py:21: TqdmWarning: IProgress not found. Please update jupyter and ipywidgets. See https://ipywidgets.readthedocs.io/en/stable/user_install.html\n",
      "  from .autonotebook import tqdm as notebook_tqdm\n"
     ]
    },
    {
     "name": "stdout",
     "output_type": "stream",
     "text": [
      "TensorFlow: 2.19.0\n",
      "Keras: 3.11.2\n",
      "KerasNLP: 0.22.1\n"
     ]
    }
   ],
   "source": [
    "import os\n",
    "os.environ[\"KERAS_BACKEND\"] = \"jax\"  # or \"tensorflow\" or \"torch\"\n",
    "\n",
    "import keras_nlp\n",
    "import keras\n",
    "import tensorflow as tf\n",
    "\n",
    "import numpy as np \n",
    "import pandas as pd\n",
    "from tqdm import tqdm\n",
    "import json\n",
    "import nbformat\n",
    "\n",
    "import matplotlib.pyplot as plt\n",
    "import matplotlib as mpl\n",
    "import plotly.express as px\n",
    "\n",
    "print(\"TensorFlow:\", tf.__version__)\n",
    "print(\"Keras:\", keras.__version__)\n",
    "print(\"KerasNLP:\", keras_nlp.__version__)"
   ]
  },
  {
   "cell_type": "code",
   "execution_count": 5,
   "id": "c7e614b5",
   "metadata": {},
   "outputs": [],
   "source": [
    "class CFG:\n",
    "    seed = 42  # Random seed\n",
    "    preset = \"deberta_v3_extra_small_en\" # Name of pretrained models\n",
    "    sequence_length = 512  # Input sequence length\n",
    "    epochs = 3 # Training epochs\n",
    "    batch_size = 16  # Batch size\n",
    "    scheduler = 'cosine'  # Learning rate scheduler\n",
    "    label2name = {0: 'winner_model_a', 1: 'winner_model_b', 2: 'winner_tie'}\n",
    "    name2label = {v:k for k, v in label2name.items()}\n",
    "    class_labels = list(label2name.keys())\n",
    "    class_names = list(label2name.values())"
   ]
  },
  {
   "cell_type": "code",
   "execution_count": 6,
   "id": "d21d5ba6",
   "metadata": {},
   "outputs": [
    {
     "name": "stderr",
     "output_type": "stream",
     "text": [
      "<string>:1: SyntaxWarning: invalid escape sequence '\\/'\n",
      "<string>:1: SyntaxWarning: invalid escape sequence '\\/'\n",
      "<string>:1: SyntaxWarning: invalid escape sequence '\\/'\n",
      "<string>:1: SyntaxWarning: invalid escape sequence '\\/'\n",
      "<string>:1: SyntaxWarning: invalid escape sequence '\\/'\n",
      "<string>:1: SyntaxWarning: invalid escape sequence '\\/'\n",
      "<string>:1: SyntaxWarning: invalid escape sequence '\\/'\n",
      "<string>:1: SyntaxWarning: invalid escape sequence '\\/'\n",
      "<string>:1: SyntaxWarning: invalid escape sequence '\\/'\n",
      "<string>:1: SyntaxWarning: invalid escape sequence '\\/'\n",
      "<string>:1: SyntaxWarning: invalid escape sequence '\\/'\n",
      "<string>:1: SyntaxWarning: invalid escape sequence '\\/'\n",
      "<string>:1: SyntaxWarning: invalid escape sequence '\\/'\n",
      "<string>:1: SyntaxWarning: invalid escape sequence '\\/'\n",
      "<string>:1: SyntaxWarning: invalid escape sequence '\\/'\n",
      "<string>:1: SyntaxWarning: invalid escape sequence '\\/'\n",
      "<string>:1: SyntaxWarning: invalid escape sequence '\\/'\n",
      "<string>:1: SyntaxWarning: invalid escape sequence '\\/'\n",
      "<string>:1: SyntaxWarning: invalid escape sequence '\\/'\n",
      "<string>:1: SyntaxWarning: invalid escape sequence '\\/'\n",
      "<string>:1: SyntaxWarning: invalid escape sequence '\\/'\n",
      "<string>:1: SyntaxWarning: invalid escape sequence '\\/'\n",
      "<string>:1: SyntaxWarning: invalid escape sequence '\\/'\n",
      "<string>:1: SyntaxWarning: invalid escape sequence '\\/'\n",
      "<string>:1: SyntaxWarning: invalid escape sequence '\\/'\n",
      "<string>:1: SyntaxWarning: invalid escape sequence '\\/'\n",
      "<string>:1: SyntaxWarning: invalid escape sequence '\\/'\n",
      "<string>:1: SyntaxWarning: invalid escape sequence '\\/'\n",
      "<string>:1: SyntaxWarning: invalid escape sequence '\\/'\n",
      "<string>:1: SyntaxWarning: invalid escape sequence '\\/'\n",
      "<string>:1: SyntaxWarning: invalid escape sequence '\\/'\n",
      "<string>:1: SyntaxWarning: invalid escape sequence '\\/'\n",
      "<string>:1: SyntaxWarning: invalid escape sequence '\\/'\n",
      "<string>:1: SyntaxWarning: invalid escape sequence '\\/'\n",
      "<string>:1: SyntaxWarning: invalid escape sequence '\\/'\n",
      "<string>:1: SyntaxWarning: invalid escape sequence '\\/'\n",
      "<string>:1: SyntaxWarning: invalid escape sequence '\\/'\n",
      "<string>:1: SyntaxWarning: invalid escape sequence '\\/'\n",
      "<string>:1: SyntaxWarning: invalid escape sequence '\\/'\n",
      "<string>:1: SyntaxWarning: invalid escape sequence '\\/'\n",
      "<string>:1: SyntaxWarning: invalid escape sequence '\\/'\n",
      "<string>:1: SyntaxWarning: invalid escape sequence '\\/'\n",
      "<string>:1: SyntaxWarning: invalid escape sequence '\\/'\n",
      "<string>:1: SyntaxWarning: invalid escape sequence '\\/'\n",
      "<string>:1: SyntaxWarning: invalid escape sequence '\\/'\n",
      "<string>:1: SyntaxWarning: invalid escape sequence '\\/'\n",
      "<string>:1: SyntaxWarning: invalid escape sequence '\\/'\n",
      "<string>:1: SyntaxWarning: invalid escape sequence '\\/'\n",
      "<string>:1: SyntaxWarning: invalid escape sequence '\\/'\n",
      "<string>:1: SyntaxWarning: invalid escape sequence '\\/'\n",
      "<string>:1: SyntaxWarning: invalid escape sequence '\\/'\n",
      "<string>:1: SyntaxWarning: invalid escape sequence '\\/'\n",
      "<string>:1: SyntaxWarning: invalid escape sequence '\\/'\n",
      "<string>:1: SyntaxWarning: invalid escape sequence '\\/'\n",
      "<string>:1: SyntaxWarning: invalid escape sequence '\\/'\n",
      "<string>:1: SyntaxWarning: invalid escape sequence '\\/'\n",
      "<string>:1: SyntaxWarning: invalid escape sequence '\\/'\n",
      "<string>:1: SyntaxWarning: invalid escape sequence '\\/'\n",
      "<string>:1: SyntaxWarning: invalid escape sequence '\\/'\n",
      "<string>:1: SyntaxWarning: invalid escape sequence '\\/'\n",
      "<string>:1: SyntaxWarning: invalid escape sequence '\\/'\n",
      "<string>:1: SyntaxWarning: invalid escape sequence '\\/'\n",
      "<string>:1: SyntaxWarning: invalid escape sequence '\\/'\n",
      "<string>:1: SyntaxWarning: invalid escape sequence '\\/'\n",
      "<string>:1: SyntaxWarning: invalid escape sequence '\\/'\n",
      "<string>:1: SyntaxWarning: invalid escape sequence '\\/'\n",
      "<string>:1: SyntaxWarning: invalid escape sequence '\\/'\n",
      "<string>:1: SyntaxWarning: invalid escape sequence '\\/'\n",
      "<string>:1: SyntaxWarning: invalid escape sequence '\\/'\n",
      "<string>:1: SyntaxWarning: invalid escape sequence '\\/'\n",
      "<string>:1: SyntaxWarning: invalid escape sequence '\\/'\n",
      "<string>:1: SyntaxWarning: invalid escape sequence '\\/'\n",
      "<string>:1: SyntaxWarning: invalid escape sequence '\\/'\n",
      "<string>:1: SyntaxWarning: invalid escape sequence '\\/'\n",
      "<string>:1: SyntaxWarning: invalid escape sequence '\\/'\n",
      "<string>:1: SyntaxWarning: invalid escape sequence '\\/'\n",
      "<string>:1: SyntaxWarning: invalid escape sequence '\\/'\n",
      "<string>:1: SyntaxWarning: invalid escape sequence '\\/'\n",
      "<string>:1: SyntaxWarning: invalid escape sequence '\\/'\n",
      "<string>:1: SyntaxWarning: invalid escape sequence '\\/'\n",
      "<string>:1: SyntaxWarning: invalid escape sequence '\\/'\n",
      "<string>:1: SyntaxWarning: invalid escape sequence '\\/'\n",
      "<string>:1: SyntaxWarning: invalid escape sequence '\\/'\n",
      "<string>:1: SyntaxWarning: invalid escape sequence '\\/'\n",
      "<string>:1: SyntaxWarning: invalid escape sequence '\\/'\n",
      "<string>:1: SyntaxWarning: invalid escape sequence '\\/'\n",
      "<string>:1: SyntaxWarning: invalid escape sequence '\\/'\n",
      "<string>:1: SyntaxWarning: invalid escape sequence '\\/'\n",
      "<string>:1: SyntaxWarning: invalid escape sequence '\\/'\n",
      "<string>:1: SyntaxWarning: invalid escape sequence '\\/'\n",
      "<string>:1: SyntaxWarning: invalid escape sequence '\\/'\n",
      "<string>:1: SyntaxWarning: invalid escape sequence '\\/'\n",
      "<string>:1: SyntaxWarning: invalid escape sequence '\\/'\n",
      "<string>:1: SyntaxWarning: invalid escape sequence '\\/'\n",
      "<string>:1: SyntaxWarning: invalid escape sequence '\\/'\n",
      "<string>:1: SyntaxWarning: invalid escape sequence '\\/'\n",
      "<string>:1: SyntaxWarning: invalid escape sequence '\\/'\n",
      "<string>:1: SyntaxWarning: invalid escape sequence '\\/'\n",
      "<string>:1: SyntaxWarning: invalid escape sequence '\\/'\n",
      "<string>:1: SyntaxWarning: invalid escape sequence '\\/'\n",
      "<string>:1: SyntaxWarning: invalid escape sequence '\\/'\n",
      "<string>:1: SyntaxWarning: invalid escape sequence '\\/'\n",
      "<string>:1: SyntaxWarning: invalid escape sequence '\\/'\n",
      "<string>:1: SyntaxWarning: invalid escape sequence '\\/'\n",
      "<string>:1: SyntaxWarning: invalid escape sequence '\\/'\n",
      "<string>:1: SyntaxWarning: invalid escape sequence '\\/'\n",
      "<string>:1: SyntaxWarning: invalid escape sequence '\\/'\n",
      "<string>:1: SyntaxWarning: invalid escape sequence '\\/'\n",
      "<string>:1: SyntaxWarning: invalid escape sequence '\\/'\n",
      "<string>:1: SyntaxWarning: invalid escape sequence '\\/'\n",
      "<string>:1: SyntaxWarning: invalid escape sequence '\\/'\n",
      "<string>:1: SyntaxWarning: invalid escape sequence '\\/'\n",
      "<string>:1: SyntaxWarning: invalid escape sequence '\\/'\n",
      "<string>:1: SyntaxWarning: invalid escape sequence '\\/'\n",
      "<string>:1: SyntaxWarning: invalid escape sequence '\\/'\n",
      "<string>:1: SyntaxWarning: invalid escape sequence '\\/'\n",
      "<string>:1: SyntaxWarning: invalid escape sequence '\\/'\n",
      "<string>:1: SyntaxWarning: invalid escape sequence '\\/'\n",
      "<string>:1: SyntaxWarning: invalid escape sequence '\\/'\n",
      "<string>:1: SyntaxWarning: invalid escape sequence '\\/'\n",
      "<string>:1: SyntaxWarning: invalid escape sequence '\\/'\n",
      "<string>:1: SyntaxWarning: invalid escape sequence '\\/'\n",
      "<string>:1: SyntaxWarning: invalid escape sequence '\\/'\n",
      "<string>:1: SyntaxWarning: invalid escape sequence '\\/'\n",
      "<string>:1: SyntaxWarning: invalid escape sequence '\\/'\n",
      "<string>:1: SyntaxWarning: invalid escape sequence '\\/'\n",
      "<string>:1: SyntaxWarning: invalid escape sequence '\\/'\n",
      "<string>:1: SyntaxWarning: invalid escape sequence '\\/'\n",
      "<string>:1: SyntaxWarning: invalid escape sequence '\\/'\n",
      "<string>:1: SyntaxWarning: invalid escape sequence '\\/'\n",
      "<string>:1: SyntaxWarning: invalid escape sequence '\\/'\n",
      "<string>:1: SyntaxWarning: invalid escape sequence '\\/'\n",
      "<string>:1: SyntaxWarning: invalid escape sequence '\\/'\n",
      "<string>:1: SyntaxWarning: invalid escape sequence '\\/'\n",
      "<string>:1: SyntaxWarning: invalid escape sequence '\\/'\n",
      "<string>:1: SyntaxWarning: invalid escape sequence '\\/'\n",
      "<string>:1: SyntaxWarning: invalid escape sequence '\\/'\n",
      "<string>:1: SyntaxWarning: invalid escape sequence '\\/'\n",
      "<string>:1: SyntaxWarning: invalid escape sequence '\\/'\n",
      "<string>:1: SyntaxWarning: invalid escape sequence '\\/'\n",
      "<string>:1: SyntaxWarning: invalid escape sequence '\\/'\n",
      "<string>:1: SyntaxWarning: invalid escape sequence '\\/'\n",
      "<string>:1: SyntaxWarning: invalid escape sequence '\\/'\n",
      "<string>:1: SyntaxWarning: invalid escape sequence '\\/'\n",
      "<string>:1: SyntaxWarning: invalid escape sequence '\\/'\n",
      "<string>:1: SyntaxWarning: invalid escape sequence '\\/'\n",
      "<string>:1: SyntaxWarning: invalid escape sequence '\\/'\n",
      "<string>:1: SyntaxWarning: invalid escape sequence '\\/'\n",
      "<string>:1: SyntaxWarning: invalid escape sequence '\\/'\n",
      "<string>:1: SyntaxWarning: invalid escape sequence '\\/'\n",
      "<string>:1: SyntaxWarning: invalid escape sequence '\\/'\n",
      "<string>:1: SyntaxWarning: invalid escape sequence '\\/'\n",
      "<string>:1: SyntaxWarning: invalid escape sequence '\\/'\n",
      "<string>:1: SyntaxWarning: invalid escape sequence '\\/'\n",
      "<string>:1: SyntaxWarning: invalid escape sequence '\\/'\n",
      "<string>:1: SyntaxWarning: invalid escape sequence '\\/'\n",
      "<string>:1: SyntaxWarning: invalid escape sequence '\\/'\n",
      "<string>:1: SyntaxWarning: invalid escape sequence '\\/'\n",
      "<string>:1: SyntaxWarning: invalid escape sequence '\\/'\n",
      "<string>:1: SyntaxWarning: invalid escape sequence '\\/'\n",
      "<string>:1: SyntaxWarning: invalid escape sequence '\\/'\n",
      "<string>:1: SyntaxWarning: invalid escape sequence '\\/'\n",
      "<string>:1: SyntaxWarning: invalid escape sequence '\\/'\n",
      "<string>:1: SyntaxWarning: invalid escape sequence '\\/'\n",
      "<string>:1: SyntaxWarning: invalid escape sequence '\\/'\n",
      "<string>:1: SyntaxWarning: invalid escape sequence '\\/'\n",
      "<string>:1: SyntaxWarning: invalid escape sequence '\\/'\n",
      "<string>:1: SyntaxWarning: invalid escape sequence '\\/'\n",
      "<string>:1: SyntaxWarning: invalid escape sequence '\\/'\n",
      "<string>:1: SyntaxWarning: invalid escape sequence '\\/'\n",
      "<string>:1: SyntaxWarning: invalid escape sequence '\\/'\n",
      "<string>:1: SyntaxWarning: invalid escape sequence '\\/'\n",
      "<string>:1: SyntaxWarning: invalid escape sequence '\\/'\n",
      "<string>:1: SyntaxWarning: invalid escape sequence '\\/'\n",
      "<string>:1: SyntaxWarning: invalid escape sequence '\\/'\n",
      "<string>:1: SyntaxWarning: invalid escape sequence '\\/'\n",
      "<string>:1: SyntaxWarning: invalid escape sequence '\\/'\n",
      "<string>:1: SyntaxWarning: invalid escape sequence '\\/'\n",
      "<string>:1: SyntaxWarning: invalid escape sequence '\\/'\n",
      "<string>:1: SyntaxWarning: invalid escape sequence '\\/'\n",
      "<string>:1: SyntaxWarning: invalid escape sequence '\\/'\n",
      "<string>:1: SyntaxWarning: invalid escape sequence '\\/'\n",
      "<string>:1: SyntaxWarning: invalid escape sequence '\\/'\n",
      "<string>:1: SyntaxWarning: invalid escape sequence '\\/'\n",
      "<string>:1: SyntaxWarning: invalid escape sequence '\\/'\n",
      "<string>:1: SyntaxWarning: invalid escape sequence '\\/'\n",
      "<string>:1: SyntaxWarning: invalid escape sequence '\\/'\n",
      "<string>:1: SyntaxWarning: invalid escape sequence '\\/'\n",
      "<string>:1: SyntaxWarning: invalid escape sequence '\\/'\n",
      "<string>:1: SyntaxWarning: invalid escape sequence '\\/'\n",
      "<string>:1: SyntaxWarning: invalid escape sequence '\\/'\n",
      "<string>:1: SyntaxWarning: invalid escape sequence '\\/'\n",
      "<string>:1: SyntaxWarning: invalid escape sequence '\\/'\n",
      "<string>:1: SyntaxWarning: invalid escape sequence '\\/'\n",
      "<string>:1: SyntaxWarning: invalid escape sequence '\\/'\n",
      "<string>:1: SyntaxWarning: invalid escape sequence '\\/'\n",
      "<string>:1: SyntaxWarning: invalid escape sequence '\\/'\n",
      "<string>:1: SyntaxWarning: invalid escape sequence '\\/'\n",
      "<string>:1: SyntaxWarning: invalid escape sequence '\\/'\n",
      "<string>:1: SyntaxWarning: invalid escape sequence '\\/'\n",
      "<string>:1: SyntaxWarning: invalid escape sequence '\\/'\n",
      "<string>:1: SyntaxWarning: invalid escape sequence '\\/'\n",
      "<string>:1: SyntaxWarning: invalid escape sequence '\\/'\n",
      "<string>:1: SyntaxWarning: invalid escape sequence '\\/'\n",
      "<string>:1: SyntaxWarning: invalid escape sequence '\\/'\n",
      "<string>:1: SyntaxWarning: invalid escape sequence '\\/'\n",
      "<string>:1: SyntaxWarning: invalid escape sequence '\\/'\n",
      "<string>:1: SyntaxWarning: invalid escape sequence '\\/'\n",
      "<string>:1: SyntaxWarning: invalid escape sequence '\\/'\n",
      "<string>:1: SyntaxWarning: invalid escape sequence '\\/'\n",
      "<string>:1: SyntaxWarning: invalid escape sequence '\\/'\n",
      "<string>:1: SyntaxWarning: invalid escape sequence '\\/'\n",
      "<string>:1: SyntaxWarning: invalid escape sequence '\\/'\n",
      "<string>:1: SyntaxWarning: invalid escape sequence '\\/'\n",
      "<string>:1: SyntaxWarning: invalid escape sequence '\\/'\n",
      "<string>:1: SyntaxWarning: invalid escape sequence '\\/'\n",
      "<string>:1: SyntaxWarning: invalid escape sequence '\\/'\n",
      "<string>:1: SyntaxWarning: invalid escape sequence '\\/'\n",
      "<string>:1: SyntaxWarning: invalid escape sequence '\\/'\n",
      "<string>:1: SyntaxWarning: invalid escape sequence '\\/'\n",
      "<string>:1: SyntaxWarning: invalid escape sequence '\\/'\n",
      "<string>:1: SyntaxWarning: invalid escape sequence '\\/'\n",
      "<string>:1: SyntaxWarning: invalid escape sequence '\\/'\n",
      "<string>:1: SyntaxWarning: invalid escape sequence '\\/'\n",
      "<string>:1: SyntaxWarning: invalid escape sequence '\\/'\n",
      "<string>:1: SyntaxWarning: invalid escape sequence '\\/'\n",
      "<string>:1: SyntaxWarning: invalid escape sequence '\\/'\n",
      "<string>:1: SyntaxWarning: invalid escape sequence '\\/'\n",
      "<string>:1: SyntaxWarning: invalid escape sequence '\\/'\n",
      "<string>:1: SyntaxWarning: invalid escape sequence '\\/'\n",
      "<string>:1: SyntaxWarning: invalid escape sequence '\\/'\n",
      "<string>:1: SyntaxWarning: invalid escape sequence '\\/'\n",
      "<string>:1: SyntaxWarning: invalid escape sequence '\\/'\n",
      "<string>:1: SyntaxWarning: invalid escape sequence '\\/'\n",
      "<string>:1: SyntaxWarning: invalid escape sequence '\\/'\n",
      "<string>:1: SyntaxWarning: invalid escape sequence '\\/'\n",
      "<string>:1: SyntaxWarning: invalid escape sequence '\\/'\n",
      "<string>:1: SyntaxWarning: invalid escape sequence '\\/'\n",
      "<string>:1: SyntaxWarning: invalid escape sequence '\\/'\n",
      "<string>:1: SyntaxWarning: invalid escape sequence '\\/'\n",
      "<string>:1: SyntaxWarning: invalid escape sequence '\\/'\n",
      "<string>:1: SyntaxWarning: invalid escape sequence '\\/'\n",
      "<string>:1: SyntaxWarning: invalid escape sequence '\\/'\n",
      "<string>:1: SyntaxWarning: invalid escape sequence '\\/'\n",
      "<string>:1: SyntaxWarning: invalid escape sequence '\\/'\n",
      "<string>:1: SyntaxWarning: invalid escape sequence '\\/'\n",
      "<string>:1: SyntaxWarning: invalid escape sequence '\\/'\n",
      "<string>:1: SyntaxWarning: invalid escape sequence '\\/'\n",
      "<string>:1: SyntaxWarning: invalid escape sequence '\\/'\n",
      "<string>:1: SyntaxWarning: invalid escape sequence '\\/'\n",
      "<string>:1: SyntaxWarning: invalid escape sequence '\\/'\n",
      "<string>:1: SyntaxWarning: invalid escape sequence '\\/'\n",
      "<string>:1: SyntaxWarning: invalid escape sequence '\\/'\n",
      "<string>:1: SyntaxWarning: invalid escape sequence '\\/'\n",
      "<string>:1: SyntaxWarning: invalid escape sequence '\\/'\n",
      "<string>:1: SyntaxWarning: invalid escape sequence '\\/'\n",
      "<string>:1: SyntaxWarning: invalid escape sequence '\\/'\n",
      "<string>:1: SyntaxWarning: invalid escape sequence '\\/'\n",
      "<string>:1: SyntaxWarning: invalid escape sequence '\\/'\n",
      "<string>:1: SyntaxWarning: invalid escape sequence '\\/'\n",
      "<string>:1: SyntaxWarning: invalid escape sequence '\\/'\n",
      "<string>:1: SyntaxWarning: invalid escape sequence '\\/'\n",
      "<string>:1: SyntaxWarning: invalid escape sequence '\\/'\n",
      "<string>:1: SyntaxWarning: invalid escape sequence '\\/'\n",
      "<string>:1: SyntaxWarning: invalid escape sequence '\\/'\n",
      "<string>:1: SyntaxWarning: invalid escape sequence '\\/'\n",
      "<string>:1: SyntaxWarning: invalid escape sequence '\\/'\n",
      "<string>:1: SyntaxWarning: invalid escape sequence '\\/'\n",
      "<string>:1: SyntaxWarning: invalid escape sequence '\\/'\n",
      "<string>:1: SyntaxWarning: invalid escape sequence '\\/'\n",
      "<string>:1: SyntaxWarning: invalid escape sequence '\\/'\n",
      "<string>:1: SyntaxWarning: invalid escape sequence '\\/'\n",
      "<string>:1: SyntaxWarning: invalid escape sequence '\\/'\n",
      "<string>:1: SyntaxWarning: invalid escape sequence '\\/'\n",
      "<string>:1: SyntaxWarning: invalid escape sequence '\\/'\n",
      "<string>:1: SyntaxWarning: invalid escape sequence '\\/'\n",
      "<string>:1: SyntaxWarning: invalid escape sequence '\\/'\n",
      "<string>:1: SyntaxWarning: invalid escape sequence '\\/'\n",
      "<string>:1: SyntaxWarning: invalid escape sequence '\\/'\n",
      "<string>:1: SyntaxWarning: invalid escape sequence '\\/'\n",
      "<string>:1: SyntaxWarning: invalid escape sequence '\\/'\n",
      "<string>:1: SyntaxWarning: invalid escape sequence '\\/'\n",
      "<string>:1: SyntaxWarning: invalid escape sequence '\\/'\n",
      "<string>:1: SyntaxWarning: invalid escape sequence '\\/'\n",
      "<string>:1: SyntaxWarning: invalid escape sequence '\\/'\n",
      "<string>:1: SyntaxWarning: invalid escape sequence '\\/'\n",
      "<string>:1: SyntaxWarning: invalid escape sequence '\\/'\n",
      "<string>:1: SyntaxWarning: invalid escape sequence '\\/'\n",
      "<string>:1: SyntaxWarning: invalid escape sequence '\\/'\n",
      "<string>:1: SyntaxWarning: invalid escape sequence '\\/'\n",
      "<string>:1: SyntaxWarning: invalid escape sequence '\\/'\n",
      "<string>:1: SyntaxWarning: invalid escape sequence '\\/'\n",
      "<string>:1: SyntaxWarning: invalid escape sequence '\\/'\n",
      "<string>:1: SyntaxWarning: invalid escape sequence '\\/'\n",
      "<string>:1: SyntaxWarning: invalid escape sequence '\\/'\n",
      "<string>:1: SyntaxWarning: invalid escape sequence '\\/'\n",
      "<string>:1: SyntaxWarning: invalid escape sequence '\\/'\n",
      "<string>:1: SyntaxWarning: invalid escape sequence '\\/'\n",
      "<string>:1: SyntaxWarning: invalid escape sequence '\\/'\n",
      "<string>:1: SyntaxWarning: invalid escape sequence '\\/'\n",
      "<string>:1: SyntaxWarning: invalid escape sequence '\\/'\n",
      "<string>:1: SyntaxWarning: invalid escape sequence '\\/'\n",
      "<string>:1: SyntaxWarning: invalid escape sequence '\\/'\n",
      "<string>:1: SyntaxWarning: invalid escape sequence '\\/'\n",
      "<string>:1: SyntaxWarning: invalid escape sequence '\\/'\n",
      "<string>:1: SyntaxWarning: invalid escape sequence '\\/'\n",
      "<string>:1: SyntaxWarning: invalid escape sequence '\\/'\n",
      "<string>:1: SyntaxWarning: invalid escape sequence '\\/'\n",
      "<string>:1: SyntaxWarning: invalid escape sequence '\\/'\n",
      "<string>:1: SyntaxWarning: invalid escape sequence '\\/'\n",
      "<string>:1: SyntaxWarning: invalid escape sequence '\\/'\n",
      "<string>:1: SyntaxWarning: invalid escape sequence '\\/'\n",
      "<string>:1: SyntaxWarning: invalid escape sequence '\\/'\n",
      "<string>:1: SyntaxWarning: invalid escape sequence '\\/'\n",
      "<string>:1: SyntaxWarning: invalid escape sequence '\\/'\n",
      "<string>:1: SyntaxWarning: invalid escape sequence '\\/'\n",
      "<string>:1: SyntaxWarning: invalid escape sequence '\\/'\n",
      "<string>:1: SyntaxWarning: invalid escape sequence '\\/'\n",
      "<string>:1: SyntaxWarning: invalid escape sequence '\\/'\n",
      "<string>:1: SyntaxWarning: invalid escape sequence '\\/'\n",
      "<string>:1: SyntaxWarning: invalid escape sequence '\\/'\n",
      "<string>:1: SyntaxWarning: invalid escape sequence '\\/'\n",
      "<string>:1: SyntaxWarning: invalid escape sequence '\\/'\n",
      "<string>:1: SyntaxWarning: invalid escape sequence '\\/'\n",
      "<string>:1: SyntaxWarning: invalid escape sequence '\\/'\n",
      "<string>:1: SyntaxWarning: invalid escape sequence '\\/'\n",
      "<string>:1: SyntaxWarning: invalid escape sequence '\\/'\n",
      "<string>:1: SyntaxWarning: invalid escape sequence '\\/'\n",
      "<string>:1: SyntaxWarning: invalid escape sequence '\\/'\n",
      "<string>:1: SyntaxWarning: invalid escape sequence '\\/'\n",
      "<string>:1: SyntaxWarning: invalid escape sequence '\\/'\n",
      "<string>:1: SyntaxWarning: invalid escape sequence '\\/'\n",
      "<string>:1: SyntaxWarning: invalid escape sequence '\\/'\n",
      "<string>:1: SyntaxWarning: invalid escape sequence '\\/'\n",
      "<string>:1: SyntaxWarning: invalid escape sequence '\\/'\n",
      "<string>:1: SyntaxWarning: invalid escape sequence '\\/'\n",
      "<string>:1: SyntaxWarning: invalid escape sequence '\\/'\n",
      "<string>:1: SyntaxWarning: invalid escape sequence '\\/'\n",
      "<string>:1: SyntaxWarning: invalid escape sequence '\\/'\n",
      "<string>:1: SyntaxWarning: invalid escape sequence '\\/'\n",
      "<string>:1: SyntaxWarning: invalid escape sequence '\\/'\n",
      "<string>:1: SyntaxWarning: invalid escape sequence '\\/'\n",
      "<string>:1: SyntaxWarning: invalid escape sequence '\\/'\n",
      "<string>:1: SyntaxWarning: invalid escape sequence '\\/'\n",
      "<string>:1: SyntaxWarning: invalid escape sequence '\\/'\n",
      "<string>:1: SyntaxWarning: invalid escape sequence '\\/'\n",
      "<string>:1: SyntaxWarning: invalid escape sequence '\\/'\n",
      "<string>:1: SyntaxWarning: invalid escape sequence '\\/'\n",
      "<string>:1: SyntaxWarning: invalid escape sequence '\\/'\n",
      "<string>:1: SyntaxWarning: invalid escape sequence '\\/'\n",
      "<string>:1: SyntaxWarning: invalid escape sequence '\\/'\n",
      "<string>:1: SyntaxWarning: invalid escape sequence '\\/'\n",
      "<string>:1: SyntaxWarning: invalid escape sequence '\\/'\n",
      "<string>:1: SyntaxWarning: invalid escape sequence '\\/'\n",
      "<string>:1: SyntaxWarning: invalid escape sequence '\\/'\n",
      "<string>:1: SyntaxWarning: invalid escape sequence '\\/'\n",
      "<string>:1: SyntaxWarning: invalid escape sequence '\\/'\n",
      "<string>:1: SyntaxWarning: invalid escape sequence '\\/'\n",
      "<string>:1: SyntaxWarning: invalid escape sequence '\\/'\n",
      "<string>:1: SyntaxWarning: invalid escape sequence '\\/'\n",
      "<string>:1: SyntaxWarning: invalid escape sequence '\\/'\n",
      "<string>:1: SyntaxWarning: invalid escape sequence '\\/'\n",
      "<string>:1: SyntaxWarning: invalid escape sequence '\\/'\n",
      "<string>:1: SyntaxWarning: invalid escape sequence '\\/'\n",
      "<string>:1: SyntaxWarning: invalid escape sequence '\\/'\n",
      "<string>:1: SyntaxWarning: invalid escape sequence '\\/'\n",
      "<string>:1: SyntaxWarning: invalid escape sequence '\\/'\n",
      "<string>:1: SyntaxWarning: invalid escape sequence '\\/'\n",
      "<string>:1: SyntaxWarning: invalid escape sequence '\\/'\n",
      "<string>:1: SyntaxWarning: invalid escape sequence '\\/'\n",
      "<string>:1: SyntaxWarning: invalid escape sequence '\\/'\n",
      "<string>:1: SyntaxWarning: invalid escape sequence '\\/'\n",
      "<string>:1: SyntaxWarning: invalid escape sequence '\\/'\n",
      "<string>:1: SyntaxWarning: invalid escape sequence '\\/'\n",
      "<string>:1: SyntaxWarning: invalid escape sequence '\\/'\n",
      "<string>:1: SyntaxWarning: invalid escape sequence '\\/'\n",
      "<string>:1: SyntaxWarning: invalid escape sequence '\\/'\n",
      "<string>:1: SyntaxWarning: invalid escape sequence '\\/'\n",
      "<string>:1: SyntaxWarning: invalid escape sequence '\\/'\n",
      "<string>:1: SyntaxWarning: invalid escape sequence '\\/'\n",
      "<string>:1: SyntaxWarning: invalid escape sequence '\\/'\n",
      "<string>:1: SyntaxWarning: invalid escape sequence '\\/'\n",
      "<string>:1: SyntaxWarning: invalid escape sequence '\\/'\n",
      "<string>:1: SyntaxWarning: invalid escape sequence '\\/'\n",
      "<string>:1: SyntaxWarning: invalid escape sequence '\\/'\n",
      "<string>:1: SyntaxWarning: invalid escape sequence '\\/'\n",
      "<string>:1: SyntaxWarning: invalid escape sequence '\\/'\n",
      "<string>:1: SyntaxWarning: invalid escape sequence '\\/'\n",
      "<string>:1: SyntaxWarning: invalid escape sequence '\\/'\n",
      "<string>:1: SyntaxWarning: invalid escape sequence '\\/'\n",
      "<string>:1: SyntaxWarning: invalid escape sequence '\\/'\n",
      "<string>:1: SyntaxWarning: invalid escape sequence '\\/'\n",
      "<string>:1: SyntaxWarning: invalid escape sequence '\\/'\n",
      "<string>:1: SyntaxWarning: invalid escape sequence '\\/'\n",
      "<string>:1: SyntaxWarning: invalid escape sequence '\\/'\n",
      "<string>:1: SyntaxWarning: invalid escape sequence '\\/'\n",
      "<string>:1: SyntaxWarning: invalid escape sequence '\\/'\n",
      "<string>:1: SyntaxWarning: invalid escape sequence '\\/'\n",
      "<string>:1: SyntaxWarning: invalid escape sequence '\\/'\n",
      "<string>:1: SyntaxWarning: invalid escape sequence '\\/'\n",
      "<string>:1: SyntaxWarning: invalid escape sequence '\\/'\n",
      "<string>:1: SyntaxWarning: invalid escape sequence '\\/'\n",
      "<string>:1: SyntaxWarning: invalid escape sequence '\\/'\n",
      "<string>:1: SyntaxWarning: invalid escape sequence '\\/'\n",
      "<string>:1: SyntaxWarning: invalid escape sequence '\\/'\n",
      "<string>:1: SyntaxWarning: invalid escape sequence '\\/'\n",
      "<string>:1: SyntaxWarning: invalid escape sequence '\\/'\n",
      "<string>:1: SyntaxWarning: invalid escape sequence '\\/'\n",
      "<string>:1: SyntaxWarning: invalid escape sequence '\\/'\n",
      "<string>:1: SyntaxWarning: invalid escape sequence '\\/'\n",
      "<string>:1: SyntaxWarning: invalid escape sequence '\\/'\n",
      "<string>:1: SyntaxWarning: invalid escape sequence '\\/'\n",
      "<string>:1: SyntaxWarning: invalid escape sequence '\\/'\n",
      "<string>:1: SyntaxWarning: invalid escape sequence '\\/'\n",
      "<string>:1: SyntaxWarning: invalid escape sequence '\\/'\n",
      "<string>:1: SyntaxWarning: invalid escape sequence '\\/'\n",
      "<string>:1: SyntaxWarning: invalid escape sequence '\\/'\n",
      "<string>:1: SyntaxWarning: invalid escape sequence '\\/'\n",
      "<string>:1: SyntaxWarning: invalid escape sequence '\\/'\n",
      "<string>:1: SyntaxWarning: invalid escape sequence '\\/'\n",
      "<string>:1: SyntaxWarning: invalid escape sequence '\\/'\n",
      "<string>:1: SyntaxWarning: invalid escape sequence '\\/'\n",
      "<string>:1: SyntaxWarning: invalid escape sequence '\\/'\n",
      "<string>:1: SyntaxWarning: invalid escape sequence '\\/'\n",
      "<string>:1: SyntaxWarning: invalid escape sequence '\\/'\n",
      "<string>:1: SyntaxWarning: invalid escape sequence '\\/'\n",
      "<string>:1: SyntaxWarning: invalid escape sequence '\\/'\n",
      "<string>:1: SyntaxWarning: invalid escape sequence '\\/'\n",
      "<string>:1: SyntaxWarning: invalid escape sequence '\\/'\n",
      "<string>:1: SyntaxWarning: invalid escape sequence '\\/'\n",
      "<string>:1: SyntaxWarning: invalid escape sequence '\\/'\n",
      "<string>:1: SyntaxWarning: invalid escape sequence '\\/'\n",
      "<string>:1: SyntaxWarning: invalid escape sequence '\\/'\n",
      "<string>:1: SyntaxWarning: invalid escape sequence '\\/'\n",
      "<string>:1: SyntaxWarning: invalid escape sequence '\\/'\n",
      "<string>:1: SyntaxWarning: invalid escape sequence '\\/'\n",
      "<string>:1: SyntaxWarning: invalid escape sequence '\\/'\n",
      "<string>:1: SyntaxWarning: invalid escape sequence '\\/'\n",
      "<string>:1: SyntaxWarning: invalid escape sequence '\\/'\n",
      "<string>:1: SyntaxWarning: invalid escape sequence '\\/'\n",
      "<string>:1: SyntaxWarning: invalid escape sequence '\\/'\n",
      "<string>:1: SyntaxWarning: invalid escape sequence '\\/'\n",
      "<string>:1: SyntaxWarning: invalid escape sequence '\\/'\n",
      "<string>:1: SyntaxWarning: invalid escape sequence '\\/'\n",
      "<string>:1: SyntaxWarning: invalid escape sequence '\\/'\n",
      "<string>:1: SyntaxWarning: invalid escape sequence '\\/'\n",
      "<string>:1: SyntaxWarning: invalid escape sequence '\\/'\n",
      "<string>:1: SyntaxWarning: invalid escape sequence '\\/'\n",
      "<string>:1: SyntaxWarning: invalid escape sequence '\\/'\n",
      "<string>:1: SyntaxWarning: invalid escape sequence '\\/'\n",
      "<string>:1: SyntaxWarning: invalid escape sequence '\\/'\n",
      "<string>:1: SyntaxWarning: invalid escape sequence '\\/'\n",
      "<string>:1: SyntaxWarning: invalid escape sequence '\\/'\n",
      "<string>:1: SyntaxWarning: invalid escape sequence '\\/'\n",
      "<string>:1: SyntaxWarning: invalid escape sequence '\\/'\n",
      "<string>:1: SyntaxWarning: invalid escape sequence '\\/'\n",
      "<string>:1: SyntaxWarning: invalid escape sequence '\\/'\n",
      "<string>:1: SyntaxWarning: invalid escape sequence '\\/'\n",
      "<string>:1: SyntaxWarning: invalid escape sequence '\\/'\n",
      "<string>:1: SyntaxWarning: invalid escape sequence '\\/'\n",
      "<string>:1: SyntaxWarning: invalid escape sequence '\\/'\n",
      "<string>:1: SyntaxWarning: invalid escape sequence '\\/'\n",
      "<string>:1: SyntaxWarning: invalid escape sequence '\\/'\n",
      "<string>:1: SyntaxWarning: invalid escape sequence '\\/'\n",
      "<string>:1: SyntaxWarning: invalid escape sequence '\\/'\n",
      "<string>:1: SyntaxWarning: invalid escape sequence '\\/'\n",
      "<string>:1: SyntaxWarning: invalid escape sequence '\\/'\n",
      "<string>:1: SyntaxWarning: invalid escape sequence '\\/'\n",
      "<string>:1: SyntaxWarning: invalid escape sequence '\\/'\n",
      "<string>:1: SyntaxWarning: invalid escape sequence '\\/'\n",
      "<string>:1: SyntaxWarning: invalid escape sequence '\\/'\n",
      "<string>:1: SyntaxWarning: invalid escape sequence '\\/'\n",
      "<string>:1: SyntaxWarning: invalid escape sequence '\\/'\n",
      "<string>:1: SyntaxWarning: invalid escape sequence '\\/'\n",
      "<string>:1: SyntaxWarning: invalid escape sequence '\\/'\n",
      "<string>:1: SyntaxWarning: invalid escape sequence '\\/'\n",
      "<string>:1: SyntaxWarning: invalid escape sequence '\\/'\n",
      "<string>:1: SyntaxWarning: invalid escape sequence '\\/'\n",
      "<string>:1: SyntaxWarning: invalid escape sequence '\\/'\n",
      "<string>:1: SyntaxWarning: invalid escape sequence '\\/'\n",
      "<string>:1: SyntaxWarning: invalid escape sequence '\\/'\n",
      "<string>:1: SyntaxWarning: invalid escape sequence '\\/'\n",
      "<string>:1: SyntaxWarning: invalid escape sequence '\\/'\n",
      "<string>:1: SyntaxWarning: invalid escape sequence '\\/'\n",
      "<string>:1: SyntaxWarning: invalid escape sequence '\\/'\n",
      "<string>:1: SyntaxWarning: invalid escape sequence '\\/'\n",
      "<string>:1: SyntaxWarning: invalid escape sequence '\\/'\n",
      "<string>:1: SyntaxWarning: invalid escape sequence '\\/'\n",
      "<string>:1: SyntaxWarning: invalid escape sequence '\\/'\n",
      "<string>:1: SyntaxWarning: invalid escape sequence '\\/'\n",
      "<string>:1: SyntaxWarning: invalid escape sequence '\\/'\n",
      "<string>:1: SyntaxWarning: invalid escape sequence '\\/'\n",
      "<string>:1: SyntaxWarning: invalid escape sequence '\\/'\n",
      "<string>:1: SyntaxWarning: invalid escape sequence '\\/'\n",
      "<string>:1: SyntaxWarning: invalid escape sequence '\\/'\n",
      "<string>:1: SyntaxWarning: invalid escape sequence '\\/'\n",
      "<string>:1: SyntaxWarning: invalid escape sequence '\\/'\n",
      "<string>:1: SyntaxWarning: invalid escape sequence '\\/'\n",
      "<string>:1: SyntaxWarning: invalid escape sequence '\\/'\n",
      "<string>:1: SyntaxWarning: invalid escape sequence '\\/'\n",
      "<string>:1: SyntaxWarning: invalid escape sequence '\\/'\n",
      "<string>:1: SyntaxWarning: invalid escape sequence '\\/'\n",
      "<string>:1: SyntaxWarning: invalid escape sequence '\\/'\n",
      "<string>:1: SyntaxWarning: invalid escape sequence '\\/'\n",
      "<string>:1: SyntaxWarning: invalid escape sequence '\\/'\n",
      "<string>:1: SyntaxWarning: invalid escape sequence '\\/'\n",
      "<string>:1: SyntaxWarning: invalid escape sequence '\\/'\n",
      "<string>:1: SyntaxWarning: invalid escape sequence '\\/'\n",
      "<string>:1: SyntaxWarning: invalid escape sequence '\\/'\n",
      "<string>:1: SyntaxWarning: invalid escape sequence '\\/'\n",
      "<string>:1: SyntaxWarning: invalid escape sequence '\\/'\n",
      "<string>:1: SyntaxWarning: invalid escape sequence '\\/'\n",
      "<string>:1: SyntaxWarning: invalid escape sequence '\\/'\n",
      "<string>:1: SyntaxWarning: invalid escape sequence '\\/'\n",
      "<string>:1: SyntaxWarning: invalid escape sequence '\\/'\n",
      "<string>:1: SyntaxWarning: invalid escape sequence '\\/'\n",
      "<string>:1: SyntaxWarning: invalid escape sequence '\\/'\n",
      "<string>:1: SyntaxWarning: invalid escape sequence '\\/'\n",
      "<string>:1: SyntaxWarning: invalid escape sequence '\\/'\n",
      "<string>:1: SyntaxWarning: invalid escape sequence '\\/'\n",
      "<string>:1: SyntaxWarning: invalid escape sequence '\\/'\n",
      "<string>:1: SyntaxWarning: invalid escape sequence '\\/'\n",
      "<string>:1: SyntaxWarning: invalid escape sequence '\\/'\n",
      "<string>:1: SyntaxWarning: invalid escape sequence '\\/'\n",
      "<string>:1: SyntaxWarning: invalid escape sequence '\\/'\n",
      "<string>:1: SyntaxWarning: invalid escape sequence '\\/'\n",
      "<string>:1: SyntaxWarning: invalid escape sequence '\\/'\n",
      "<string>:1: SyntaxWarning: invalid escape sequence '\\/'\n",
      "<string>:1: SyntaxWarning: invalid escape sequence '\\/'\n",
      "<string>:1: SyntaxWarning: invalid escape sequence '\\/'\n",
      "<string>:1: SyntaxWarning: invalid escape sequence '\\/'\n",
      "<string>:1: SyntaxWarning: invalid escape sequence '\\/'\n",
      "<string>:1: SyntaxWarning: invalid escape sequence '\\/'\n",
      "<string>:1: SyntaxWarning: invalid escape sequence '\\/'\n",
      "<string>:1: SyntaxWarning: invalid escape sequence '\\/'\n",
      "<string>:1: SyntaxWarning: invalid escape sequence '\\/'\n",
      "<string>:1: SyntaxWarning: invalid escape sequence '\\/'\n",
      "<string>:1: SyntaxWarning: invalid escape sequence '\\/'\n",
      "<string>:1: SyntaxWarning: invalid escape sequence '\\/'\n",
      "<string>:1: SyntaxWarning: invalid escape sequence '\\/'\n",
      "<string>:1: SyntaxWarning: invalid escape sequence '\\/'\n",
      "<string>:1: SyntaxWarning: invalid escape sequence '\\/'\n",
      "<string>:1: SyntaxWarning: invalid escape sequence '\\/'\n",
      "<string>:1: SyntaxWarning: invalid escape sequence '\\/'\n",
      "<string>:1: SyntaxWarning: invalid escape sequence '\\/'\n",
      "<string>:1: SyntaxWarning: invalid escape sequence '\\/'\n",
      "<string>:1: SyntaxWarning: invalid escape sequence '\\/'\n",
      "<string>:1: SyntaxWarning: invalid escape sequence '\\/'\n",
      "<string>:1: SyntaxWarning: invalid escape sequence '\\/'\n",
      "<string>:1: SyntaxWarning: invalid escape sequence '\\/'\n",
      "<string>:1: SyntaxWarning: invalid escape sequence '\\/'\n",
      "<string>:1: SyntaxWarning: invalid escape sequence '\\/'\n",
      "<string>:1: SyntaxWarning: invalid escape sequence '\\/'\n",
      "<string>:1: SyntaxWarning: invalid escape sequence '\\/'\n",
      "<string>:1: SyntaxWarning: invalid escape sequence '\\/'\n",
      "<string>:1: SyntaxWarning: invalid escape sequence '\\/'\n",
      "<string>:1: SyntaxWarning: invalid escape sequence '\\/'\n",
      "<string>:1: SyntaxWarning: invalid escape sequence '\\/'\n",
      "<string>:1: SyntaxWarning: invalid escape sequence '\\/'\n",
      "<string>:1: SyntaxWarning: invalid escape sequence '\\/'\n",
      "<string>:1: SyntaxWarning: invalid escape sequence '\\/'\n",
      "<string>:1: SyntaxWarning: invalid escape sequence '\\/'\n",
      "<string>:1: SyntaxWarning: invalid escape sequence '\\/'\n",
      "<string>:1: SyntaxWarning: invalid escape sequence '\\/'\n",
      "<string>:1: SyntaxWarning: invalid escape sequence '\\/'\n",
      "<string>:1: SyntaxWarning: invalid escape sequence '\\/'\n",
      "<string>:1: SyntaxWarning: invalid escape sequence '\\/'\n",
      "<string>:1: SyntaxWarning: invalid escape sequence '\\/'\n",
      "<string>:1: SyntaxWarning: invalid escape sequence '\\/'\n",
      "<string>:1: SyntaxWarning: invalid escape sequence '\\/'\n",
      "<string>:1: SyntaxWarning: invalid escape sequence '\\/'\n",
      "<string>:1: SyntaxWarning: invalid escape sequence '\\/'\n",
      "<string>:1: SyntaxWarning: invalid escape sequence '\\/'\n",
      "<string>:1: SyntaxWarning: invalid escape sequence '\\/'\n",
      "<string>:1: SyntaxWarning: invalid escape sequence '\\/'\n",
      "<string>:1: SyntaxWarning: invalid escape sequence '\\/'\n",
      "<string>:1: SyntaxWarning: invalid escape sequence '\\/'\n",
      "<string>:1: SyntaxWarning: invalid escape sequence '\\/'\n",
      "<string>:1: SyntaxWarning: invalid escape sequence '\\/'\n",
      "<string>:1: SyntaxWarning: invalid escape sequence '\\/'\n",
      "<string>:1: SyntaxWarning: invalid escape sequence '\\/'\n",
      "<string>:1: SyntaxWarning: invalid escape sequence '\\/'\n",
      "<string>:1: SyntaxWarning: invalid escape sequence '\\/'\n",
      "<string>:1: SyntaxWarning: invalid escape sequence '\\/'\n",
      "<string>:1: SyntaxWarning: invalid escape sequence '\\/'\n",
      "<string>:1: SyntaxWarning: invalid escape sequence '\\/'\n",
      "<string>:1: SyntaxWarning: invalid escape sequence '\\/'\n",
      "<string>:1: SyntaxWarning: invalid escape sequence '\\/'\n",
      "<string>:1: SyntaxWarning: invalid escape sequence '\\/'\n",
      "<string>:1: SyntaxWarning: invalid escape sequence '\\/'\n",
      "<string>:1: SyntaxWarning: invalid escape sequence '\\/'\n",
      "<string>:1: SyntaxWarning: invalid escape sequence '\\/'\n",
      "<string>:1: SyntaxWarning: invalid escape sequence '\\/'\n",
      "<string>:1: SyntaxWarning: invalid escape sequence '\\/'\n",
      "<string>:1: SyntaxWarning: invalid escape sequence '\\/'\n",
      "<string>:1: SyntaxWarning: invalid escape sequence '\\/'\n",
      "<string>:1: SyntaxWarning: invalid escape sequence '\\/'\n",
      "<string>:1: SyntaxWarning: invalid escape sequence '\\/'\n",
      "<string>:1: SyntaxWarning: invalid escape sequence '\\/'\n",
      "<string>:1: SyntaxWarning: invalid escape sequence '\\/'\n",
      "<string>:1: SyntaxWarning: invalid escape sequence '\\/'\n",
      "<string>:1: SyntaxWarning: invalid escape sequence '\\/'\n",
      "<string>:1: SyntaxWarning: invalid escape sequence '\\/'\n",
      "<string>:1: SyntaxWarning: invalid escape sequence '\\/'\n",
      "<string>:1: SyntaxWarning: invalid escape sequence '\\/'\n",
      "<string>:1: SyntaxWarning: invalid escape sequence '\\/'\n",
      "<string>:1: SyntaxWarning: invalid escape sequence '\\/'\n",
      "<string>:1: SyntaxWarning: invalid escape sequence '\\/'\n",
      "<string>:1: SyntaxWarning: invalid escape sequence '\\/'\n",
      "<string>:1: SyntaxWarning: invalid escape sequence '\\/'\n",
      "<string>:1: SyntaxWarning: invalid escape sequence '\\/'\n",
      "<string>:1: SyntaxWarning: invalid escape sequence '\\/'\n",
      "<string>:1: SyntaxWarning: invalid escape sequence '\\/'\n",
      "<string>:1: SyntaxWarning: invalid escape sequence '\\/'\n",
      "<string>:1: SyntaxWarning: invalid escape sequence '\\/'\n",
      "<string>:1: SyntaxWarning: invalid escape sequence '\\/'\n",
      "<string>:1: SyntaxWarning: invalid escape sequence '\\/'\n",
      "<string>:1: SyntaxWarning: invalid escape sequence '\\/'\n",
      "<string>:1: SyntaxWarning: invalid escape sequence '\\/'\n",
      "<string>:1: SyntaxWarning: invalid escape sequence '\\/'\n",
      "<string>:1: SyntaxWarning: invalid escape sequence '\\/'\n",
      "<string>:1: SyntaxWarning: invalid escape sequence '\\/'\n",
      "<string>:1: SyntaxWarning: invalid escape sequence '\\/'\n",
      "<string>:1: SyntaxWarning: invalid escape sequence '\\/'\n",
      "<string>:1: SyntaxWarning: invalid escape sequence '\\/'\n",
      "<string>:1: SyntaxWarning: invalid escape sequence '\\/'\n",
      "<string>:1: SyntaxWarning: invalid escape sequence '\\/'\n",
      "<string>:1: SyntaxWarning: invalid escape sequence '\\/'\n",
      "<string>:1: SyntaxWarning: invalid escape sequence '\\/'\n",
      "<string>:1: SyntaxWarning: invalid escape sequence '\\/'\n",
      "<string>:1: SyntaxWarning: invalid escape sequence '\\/'\n",
      "<string>:1: SyntaxWarning: invalid escape sequence '\\/'\n",
      "<string>:1: SyntaxWarning: invalid escape sequence '\\/'\n",
      "<string>:1: SyntaxWarning: invalid escape sequence '\\/'\n",
      "<string>:1: SyntaxWarning: invalid escape sequence '\\/'\n",
      "<string>:1: SyntaxWarning: invalid escape sequence '\\/'\n",
      "<string>:1: SyntaxWarning: invalid escape sequence '\\/'\n",
      "<string>:1: SyntaxWarning: invalid escape sequence '\\/'\n",
      "<string>:1: SyntaxWarning: invalid escape sequence '\\/'\n",
      "<string>:1: SyntaxWarning: invalid escape sequence '\\/'\n",
      "<string>:1: SyntaxWarning: invalid escape sequence '\\/'\n",
      "<string>:1: SyntaxWarning: invalid escape sequence '\\/'\n",
      "<string>:1: SyntaxWarning: invalid escape sequence '\\/'\n",
      "<string>:1: SyntaxWarning: invalid escape sequence '\\/'\n",
      "<string>:1: SyntaxWarning: invalid escape sequence '\\/'\n",
      "<string>:1: SyntaxWarning: invalid escape sequence '\\/'\n",
      "<string>:1: SyntaxWarning: invalid escape sequence '\\/'\n",
      "<string>:1: SyntaxWarning: invalid escape sequence '\\/'\n",
      "<string>:1: SyntaxWarning: invalid escape sequence '\\/'\n",
      "<string>:1: SyntaxWarning: invalid escape sequence '\\/'\n",
      "<string>:1: SyntaxWarning: invalid escape sequence '\\/'\n",
      "<string>:1: SyntaxWarning: invalid escape sequence '\\/'\n",
      "<string>:1: SyntaxWarning: invalid escape sequence '\\/'\n",
      "<string>:1: SyntaxWarning: invalid escape sequence '\\/'\n",
      "<string>:1: SyntaxWarning: invalid escape sequence '\\/'\n",
      "<string>:1: SyntaxWarning: invalid escape sequence '\\/'\n",
      "<string>:1: SyntaxWarning: invalid escape sequence '\\/'\n",
      "<string>:1: SyntaxWarning: invalid escape sequence '\\/'\n",
      "<string>:1: SyntaxWarning: invalid escape sequence '\\/'\n",
      "<string>:1: SyntaxWarning: invalid escape sequence '\\/'\n",
      "<string>:1: SyntaxWarning: invalid escape sequence '\\/'\n",
      "<string>:1: SyntaxWarning: invalid escape sequence '\\/'\n",
      "<string>:1: SyntaxWarning: invalid escape sequence '\\/'\n",
      "<string>:1: SyntaxWarning: invalid escape sequence '\\/'\n",
      "<string>:1: SyntaxWarning: invalid escape sequence '\\/'\n",
      "<string>:1: SyntaxWarning: invalid escape sequence '\\/'\n",
      "<string>:1: SyntaxWarning: invalid escape sequence '\\/'\n",
      "<string>:1: SyntaxWarning: invalid escape sequence '\\/'\n",
      "<string>:1: SyntaxWarning: invalid escape sequence '\\/'\n",
      "<string>:1: SyntaxWarning: invalid escape sequence '\\/'\n",
      "<string>:1: SyntaxWarning: invalid escape sequence '\\/'\n",
      "<string>:1: SyntaxWarning: invalid escape sequence '\\/'\n",
      "<string>:1: SyntaxWarning: invalid escape sequence '\\/'\n",
      "<string>:1: SyntaxWarning: invalid escape sequence '\\/'\n",
      "<string>:1: SyntaxWarning: invalid escape sequence '\\/'\n",
      "<string>:1: SyntaxWarning: invalid escape sequence '\\/'\n",
      "<string>:1: SyntaxWarning: invalid escape sequence '\\/'\n",
      "<string>:1: SyntaxWarning: invalid escape sequence '\\/'\n",
      "<string>:1: SyntaxWarning: invalid escape sequence '\\/'\n",
      "<string>:1: SyntaxWarning: invalid escape sequence '\\/'\n",
      "<string>:1: SyntaxWarning: invalid escape sequence '\\/'\n",
      "<string>:1: SyntaxWarning: invalid escape sequence '\\/'\n",
      "<string>:1: SyntaxWarning: invalid escape sequence '\\/'\n",
      "<string>:1: SyntaxWarning: invalid escape sequence '\\/'\n",
      "<string>:1: SyntaxWarning: invalid escape sequence '\\/'\n",
      "<string>:1: SyntaxWarning: invalid escape sequence '\\/'\n",
      "<string>:1: SyntaxWarning: invalid escape sequence '\\/'\n",
      "<string>:1: SyntaxWarning: invalid escape sequence '\\/'\n",
      "<string>:1: SyntaxWarning: invalid escape sequence '\\/'\n",
      "<string>:1: SyntaxWarning: invalid escape sequence '\\/'\n",
      "<string>:1: SyntaxWarning: invalid escape sequence '\\/'\n",
      "<string>:1: SyntaxWarning: invalid escape sequence '\\/'\n",
      "<string>:1: SyntaxWarning: invalid escape sequence '\\/'\n",
      "<string>:1: SyntaxWarning: invalid escape sequence '\\/'\n",
      "<string>:1: SyntaxWarning: invalid escape sequence '\\/'\n",
      "<string>:1: SyntaxWarning: invalid escape sequence '\\/'\n",
      "<string>:1: SyntaxWarning: invalid escape sequence '\\/'\n",
      "<string>:1: SyntaxWarning: invalid escape sequence '\\/'\n",
      "<string>:1: SyntaxWarning: invalid escape sequence '\\/'\n",
      "<string>:1: SyntaxWarning: invalid escape sequence '\\/'\n",
      "<string>:1: SyntaxWarning: invalid escape sequence '\\/'\n",
      "<string>:1: SyntaxWarning: invalid escape sequence '\\/'\n",
      "<string>:1: SyntaxWarning: invalid escape sequence '\\/'\n",
      "<string>:1: SyntaxWarning: invalid escape sequence '\\/'\n",
      "<string>:1: SyntaxWarning: invalid escape sequence '\\/'\n",
      "<string>:1: SyntaxWarning: invalid escape sequence '\\/'\n",
      "<string>:1: SyntaxWarning: invalid escape sequence '\\/'\n",
      "<string>:1: SyntaxWarning: invalid escape sequence '\\/'\n",
      "<string>:1: SyntaxWarning: invalid escape sequence '\\/'\n",
      "<string>:1: SyntaxWarning: invalid escape sequence '\\/'\n",
      "<string>:1: SyntaxWarning: invalid escape sequence '\\/'\n",
      "<string>:1: SyntaxWarning: invalid escape sequence '\\/'\n",
      "<string>:1: SyntaxWarning: invalid escape sequence '\\/'\n",
      "<string>:1: SyntaxWarning: invalid escape sequence '\\/'\n",
      "<string>:1: SyntaxWarning: invalid escape sequence '\\/'\n",
      "<string>:1: SyntaxWarning: invalid escape sequence '\\/'\n",
      "<string>:1: SyntaxWarning: invalid escape sequence '\\/'\n",
      "<string>:1: SyntaxWarning: invalid escape sequence '\\/'\n",
      "<string>:1: SyntaxWarning: invalid escape sequence '\\/'\n",
      "<string>:1: SyntaxWarning: invalid escape sequence '\\/'\n",
      "<string>:1: SyntaxWarning: invalid escape sequence '\\/'\n",
      "<string>:1: SyntaxWarning: invalid escape sequence '\\/'\n",
      "<string>:1: SyntaxWarning: invalid escape sequence '\\/'\n",
      "<string>:1: SyntaxWarning: invalid escape sequence '\\/'\n",
      "<string>:1: SyntaxWarning: invalid escape sequence '\\/'\n",
      "<string>:1: SyntaxWarning: invalid escape sequence '\\/'\n",
      "<string>:1: SyntaxWarning: invalid escape sequence '\\/'\n",
      "<string>:1: SyntaxWarning: invalid escape sequence '\\/'\n",
      "<string>:1: SyntaxWarning: invalid escape sequence '\\/'\n",
      "<string>:1: SyntaxWarning: invalid escape sequence '\\/'\n",
      "<string>:1: SyntaxWarning: invalid escape sequence '\\/'\n",
      "<string>:1: SyntaxWarning: invalid escape sequence '\\/'\n",
      "<string>:1: SyntaxWarning: invalid escape sequence '\\/'\n",
      "<string>:1: SyntaxWarning: invalid escape sequence '\\/'\n",
      "<string>:1: SyntaxWarning: invalid escape sequence '\\/'\n",
      "<string>:1: SyntaxWarning: invalid escape sequence '\\/'\n",
      "<string>:1: SyntaxWarning: invalid escape sequence '\\/'\n",
      "<string>:1: SyntaxWarning: invalid escape sequence '\\/'\n",
      "<string>:1: SyntaxWarning: invalid escape sequence '\\/'\n",
      "<string>:1: SyntaxWarning: invalid escape sequence '\\/'\n",
      "<string>:1: SyntaxWarning: invalid escape sequence '\\/'\n",
      "<string>:1: SyntaxWarning: invalid escape sequence '\\/'\n",
      "<string>:1: SyntaxWarning: invalid escape sequence '\\/'\n",
      "<string>:1: SyntaxWarning: invalid escape sequence '\\/'\n",
      "<string>:1: SyntaxWarning: invalid escape sequence '\\/'\n",
      "<string>:1: SyntaxWarning: invalid escape sequence '\\/'\n",
      "<string>:1: SyntaxWarning: invalid escape sequence '\\/'\n",
      "<string>:1: SyntaxWarning: invalid escape sequence '\\/'\n",
      "<string>:1: SyntaxWarning: invalid escape sequence '\\/'\n",
      "<string>:1: SyntaxWarning: invalid escape sequence '\\/'\n",
      "<string>:1: SyntaxWarning: invalid escape sequence '\\/'\n",
      "<string>:1: SyntaxWarning: invalid escape sequence '\\/'\n",
      "<string>:1: SyntaxWarning: invalid escape sequence '\\/'\n",
      "<string>:1: SyntaxWarning: invalid escape sequence '\\/'\n",
      "<string>:1: SyntaxWarning: invalid escape sequence '\\/'\n",
      "<string>:1: SyntaxWarning: invalid escape sequence '\\/'\n",
      "<string>:1: SyntaxWarning: invalid escape sequence '\\/'\n",
      "<string>:1: SyntaxWarning: invalid escape sequence '\\/'\n",
      "<string>:1: SyntaxWarning: invalid escape sequence '\\/'\n",
      "<string>:1: SyntaxWarning: invalid escape sequence '\\/'\n",
      "<string>:1: SyntaxWarning: invalid escape sequence '\\/'\n",
      "<string>:1: SyntaxWarning: invalid escape sequence '\\/'\n",
      "<string>:1: SyntaxWarning: invalid escape sequence '\\/'\n",
      "<string>:1: SyntaxWarning: invalid escape sequence '\\/'\n",
      "<string>:1: SyntaxWarning: invalid escape sequence '\\/'\n",
      "<string>:1: SyntaxWarning: invalid escape sequence '\\/'\n",
      "<string>:1: SyntaxWarning: invalid escape sequence '\\/'\n",
      "<string>:1: SyntaxWarning: invalid escape sequence '\\/'\n",
      "<string>:1: SyntaxWarning: invalid escape sequence '\\/'\n",
      "<string>:1: SyntaxWarning: invalid escape sequence '\\/'\n",
      "<string>:1: SyntaxWarning: invalid escape sequence '\\/'\n",
      "<string>:1: SyntaxWarning: invalid escape sequence '\\/'\n",
      "<string>:1: SyntaxWarning: invalid escape sequence '\\/'\n",
      "<string>:1: SyntaxWarning: invalid escape sequence '\\/'\n",
      "<string>:1: SyntaxWarning: invalid escape sequence '\\/'\n",
      "<string>:1: SyntaxWarning: invalid escape sequence '\\/'\n",
      "<string>:1: SyntaxWarning: invalid escape sequence '\\/'\n",
      "<string>:1: SyntaxWarning: invalid escape sequence '\\/'\n",
      "<string>:1: SyntaxWarning: invalid escape sequence '\\/'\n",
      "<string>:1: SyntaxWarning: invalid escape sequence '\\/'\n",
      "<string>:1: SyntaxWarning: invalid escape sequence '\\/'\n",
      "<string>:1: SyntaxWarning: invalid escape sequence '\\/'\n",
      "<string>:1: SyntaxWarning: invalid escape sequence '\\/'\n",
      "<string>:1: SyntaxWarning: invalid escape sequence '\\/'\n",
      "<string>:1: SyntaxWarning: invalid escape sequence '\\/'\n",
      "<string>:1: SyntaxWarning: invalid escape sequence '\\/'\n",
      "<string>:1: SyntaxWarning: invalid escape sequence '\\/'\n",
      "<string>:1: SyntaxWarning: invalid escape sequence '\\/'\n",
      "<string>:1: SyntaxWarning: invalid escape sequence '\\/'\n",
      "<string>:1: SyntaxWarning: invalid escape sequence '\\/'\n",
      "<string>:1: SyntaxWarning: invalid escape sequence '\\/'\n",
      "<string>:1: SyntaxWarning: invalid escape sequence '\\/'\n",
      "<string>:1: SyntaxWarning: invalid escape sequence '\\/'\n",
      "<string>:1: SyntaxWarning: invalid escape sequence '\\/'\n",
      "<string>:1: SyntaxWarning: invalid escape sequence '\\/'\n",
      "<string>:1: SyntaxWarning: invalid escape sequence '\\/'\n",
      "<string>:1: SyntaxWarning: invalid escape sequence '\\/'\n",
      "<string>:1: SyntaxWarning: invalid escape sequence '\\/'\n",
      "<string>:1: SyntaxWarning: invalid escape sequence '\\/'\n",
      "<string>:1: SyntaxWarning: invalid escape sequence '\\/'\n",
      "<string>:1: SyntaxWarning: invalid escape sequence '\\/'\n",
      "<string>:1: SyntaxWarning: invalid escape sequence '\\/'\n",
      "<string>:1: SyntaxWarning: invalid escape sequence '\\/'\n",
      "<string>:1: SyntaxWarning: invalid escape sequence '\\/'\n",
      "<string>:1: SyntaxWarning: invalid escape sequence '\\/'\n",
      "<string>:1: SyntaxWarning: invalid escape sequence '\\/'\n",
      "<string>:1: SyntaxWarning: invalid escape sequence '\\/'\n",
      "<string>:1: SyntaxWarning: invalid escape sequence '\\/'\n",
      "<string>:1: SyntaxWarning: invalid escape sequence '\\/'\n",
      "<string>:1: SyntaxWarning: invalid escape sequence '\\/'\n",
      "<string>:1: SyntaxWarning: invalid escape sequence '\\/'\n",
      "<string>:1: SyntaxWarning: invalid escape sequence '\\/'\n",
      "<string>:1: SyntaxWarning: invalid escape sequence '\\/'\n",
      "<string>:1: SyntaxWarning: invalid escape sequence '\\/'\n",
      "<string>:1: SyntaxWarning: invalid escape sequence '\\/'\n",
      "<string>:1: SyntaxWarning: invalid escape sequence '\\/'\n",
      "<string>:1: SyntaxWarning: invalid escape sequence '\\/'\n",
      "<string>:1: SyntaxWarning: invalid escape sequence '\\/'\n",
      "<string>:1: SyntaxWarning: invalid escape sequence '\\/'\n",
      "<string>:1: SyntaxWarning: invalid escape sequence '\\/'\n",
      "<string>:1: SyntaxWarning: invalid escape sequence '\\/'\n",
      "<string>:1: SyntaxWarning: invalid escape sequence '\\/'\n",
      "<string>:1: SyntaxWarning: invalid escape sequence '\\/'\n",
      "<string>:1: SyntaxWarning: invalid escape sequence '\\/'\n",
      "<string>:1: SyntaxWarning: invalid escape sequence '\\/'\n",
      "<string>:1: SyntaxWarning: invalid escape sequence '\\/'\n",
      "<string>:1: SyntaxWarning: invalid escape sequence '\\/'\n",
      "<string>:1: SyntaxWarning: invalid escape sequence '\\/'\n",
      "<string>:1: SyntaxWarning: invalid escape sequence '\\/'\n",
      "<string>:1: SyntaxWarning: invalid escape sequence '\\/'\n",
      "<string>:1: SyntaxWarning: invalid escape sequence '\\/'\n",
      "<string>:1: SyntaxWarning: invalid escape sequence '\\/'\n",
      "<string>:1: SyntaxWarning: invalid escape sequence '\\/'\n",
      "<string>:1: SyntaxWarning: invalid escape sequence '\\/'\n",
      "<string>:1: SyntaxWarning: invalid escape sequence '\\/'\n",
      "<string>:1: SyntaxWarning: invalid escape sequence '\\/'\n",
      "<string>:1: SyntaxWarning: invalid escape sequence '\\/'\n",
      "<string>:1: SyntaxWarning: invalid escape sequence '\\/'\n",
      "<string>:1: SyntaxWarning: invalid escape sequence '\\/'\n",
      "<string>:1: SyntaxWarning: invalid escape sequence '\\/'\n",
      "<string>:1: SyntaxWarning: invalid escape sequence '\\/'\n",
      "<string>:1: SyntaxWarning: invalid escape sequence '\\/'\n",
      "<string>:1: SyntaxWarning: invalid escape sequence '\\/'\n",
      "<string>:1: SyntaxWarning: invalid escape sequence '\\/'\n",
      "<string>:1: SyntaxWarning: invalid escape sequence '\\/'\n",
      "<string>:1: SyntaxWarning: invalid escape sequence '\\/'\n",
      "<string>:1: SyntaxWarning: invalid escape sequence '\\/'\n",
      "<string>:1: SyntaxWarning: invalid escape sequence '\\/'\n",
      "<string>:1: SyntaxWarning: invalid escape sequence '\\/'\n",
      "<string>:1: SyntaxWarning: invalid escape sequence '\\/'\n",
      "<string>:1: SyntaxWarning: invalid escape sequence '\\/'\n",
      "<string>:1: SyntaxWarning: invalid escape sequence '\\/'\n",
      "<string>:1: SyntaxWarning: invalid escape sequence '\\/'\n",
      "<string>:1: SyntaxWarning: invalid escape sequence '\\/'\n",
      "<string>:1: SyntaxWarning: invalid escape sequence '\\/'\n",
      "<string>:1: SyntaxWarning: invalid escape sequence '\\/'\n",
      "<string>:1: SyntaxWarning: invalid escape sequence '\\/'\n",
      "<string>:1: SyntaxWarning: invalid escape sequence '\\/'\n",
      "<string>:1: SyntaxWarning: invalid escape sequence '\\/'\n",
      "<string>:1: SyntaxWarning: invalid escape sequence '\\/'\n",
      "<string>:1: SyntaxWarning: invalid escape sequence '\\/'\n",
      "<string>:1: SyntaxWarning: invalid escape sequence '\\/'\n",
      "<string>:1: SyntaxWarning: invalid escape sequence '\\/'\n",
      "<string>:1: SyntaxWarning: invalid escape sequence '\\/'\n",
      "<string>:1: SyntaxWarning: invalid escape sequence '\\/'\n",
      "<string>:1: SyntaxWarning: invalid escape sequence '\\/'\n",
      "<string>:1: SyntaxWarning: invalid escape sequence '\\/'\n",
      "<string>:1: SyntaxWarning: invalid escape sequence '\\/'\n",
      "<string>:1: SyntaxWarning: invalid escape sequence '\\/'\n",
      "<string>:1: SyntaxWarning: invalid escape sequence '\\/'\n",
      "<string>:1: SyntaxWarning: invalid escape sequence '\\/'\n",
      "<string>:1: SyntaxWarning: invalid escape sequence '\\/'\n",
      "<string>:1: SyntaxWarning: invalid escape sequence '\\/'\n",
      "<string>:1: SyntaxWarning: invalid escape sequence '\\/'\n",
      "<string>:1: SyntaxWarning: invalid escape sequence '\\/'\n",
      "<string>:1: SyntaxWarning: invalid escape sequence '\\/'\n",
      "<string>:1: SyntaxWarning: invalid escape sequence '\\/'\n",
      "<string>:1: SyntaxWarning: invalid escape sequence '\\/'\n",
      "<string>:1: SyntaxWarning: invalid escape sequence '\\/'\n",
      "<string>:1: SyntaxWarning: invalid escape sequence '\\/'\n",
      "<string>:1: SyntaxWarning: invalid escape sequence '\\/'\n",
      "<string>:1: SyntaxWarning: invalid escape sequence '\\/'\n",
      "<string>:1: SyntaxWarning: invalid escape sequence '\\/'\n",
      "<string>:1: SyntaxWarning: invalid escape sequence '\\/'\n",
      "<string>:1: SyntaxWarning: invalid escape sequence '\\/'\n",
      "<string>:1: SyntaxWarning: invalid escape sequence '\\/'\n",
      "<string>:1: SyntaxWarning: invalid escape sequence '\\/'\n",
      "<string>:1: SyntaxWarning: invalid escape sequence '\\/'\n",
      "<string>:1: SyntaxWarning: invalid escape sequence '\\/'\n",
      "<string>:1: SyntaxWarning: invalid escape sequence '\\/'\n",
      "<string>:1: SyntaxWarning: invalid escape sequence '\\/'\n",
      "<string>:1: SyntaxWarning: invalid escape sequence '\\/'\n",
      "<string>:1: SyntaxWarning: invalid escape sequence '\\/'\n",
      "<string>:1: SyntaxWarning: invalid escape sequence '\\/'\n",
      "<string>:1: SyntaxWarning: invalid escape sequence '\\/'\n",
      "<string>:1: SyntaxWarning: invalid escape sequence '\\/'\n",
      "<string>:1: SyntaxWarning: invalid escape sequence '\\/'\n",
      "<string>:1: SyntaxWarning: invalid escape sequence '\\/'\n",
      "<string>:1: SyntaxWarning: invalid escape sequence '\\/'\n",
      "<string>:1: SyntaxWarning: invalid escape sequence '\\/'\n",
      "<string>:1: SyntaxWarning: invalid escape sequence '\\/'\n",
      "<string>:1: SyntaxWarning: invalid escape sequence '\\/'\n",
      "<string>:1: SyntaxWarning: invalid escape sequence '\\/'\n",
      "<string>:1: SyntaxWarning: invalid escape sequence '\\/'\n",
      "<string>:1: SyntaxWarning: invalid escape sequence '\\/'\n",
      "<string>:1: SyntaxWarning: invalid escape sequence '\\/'\n",
      "<string>:1: SyntaxWarning: invalid escape sequence '\\/'\n",
      "<string>:1: SyntaxWarning: invalid escape sequence '\\/'\n",
      "<string>:1: SyntaxWarning: invalid escape sequence '\\/'\n",
      "<string>:1: SyntaxWarning: invalid escape sequence '\\/'\n",
      "<string>:1: SyntaxWarning: invalid escape sequence '\\/'\n",
      "<string>:1: SyntaxWarning: invalid escape sequence '\\/'\n",
      "<string>:1: SyntaxWarning: invalid escape sequence '\\/'\n",
      "<string>:1: SyntaxWarning: invalid escape sequence '\\/'\n",
      "<string>:1: SyntaxWarning: invalid escape sequence '\\/'\n",
      "<string>:1: SyntaxWarning: invalid escape sequence '\\/'\n",
      "<string>:1: SyntaxWarning: invalid escape sequence '\\/'\n",
      "<string>:1: SyntaxWarning: invalid escape sequence '\\/'\n",
      "<string>:1: SyntaxWarning: invalid escape sequence '\\/'\n",
      "<string>:1: SyntaxWarning: invalid escape sequence '\\/'\n",
      "<string>:1: SyntaxWarning: invalid escape sequence '\\/'\n",
      "<string>:1: SyntaxWarning: invalid escape sequence '\\/'\n",
      "<string>:1: SyntaxWarning: invalid escape sequence '\\/'\n",
      "<string>:1: SyntaxWarning: invalid escape sequence '\\/'\n",
      "<string>:1: SyntaxWarning: invalid escape sequence '\\/'\n",
      "<string>:1: SyntaxWarning: invalid escape sequence '\\/'\n",
      "<string>:1: SyntaxWarning: invalid escape sequence '\\/'\n",
      "<string>:1: SyntaxWarning: invalid escape sequence '\\/'\n",
      "<string>:1: SyntaxWarning: invalid escape sequence '\\/'\n",
      "<string>:1: SyntaxWarning: invalid escape sequence '\\/'\n",
      "<string>:1: SyntaxWarning: invalid escape sequence '\\/'\n",
      "<string>:1: SyntaxWarning: invalid escape sequence '\\/'\n",
      "<string>:1: SyntaxWarning: invalid escape sequence '\\/'\n",
      "<string>:1: SyntaxWarning: invalid escape sequence '\\/'\n",
      "<string>:1: SyntaxWarning: invalid escape sequence '\\/'\n",
      "<string>:1: SyntaxWarning: invalid escape sequence '\\/'\n",
      "<string>:1: SyntaxWarning: invalid escape sequence '\\/'\n",
      "<string>:1: SyntaxWarning: invalid escape sequence '\\/'\n",
      "<string>:1: SyntaxWarning: invalid escape sequence '\\/'\n",
      "<string>:1: SyntaxWarning: invalid escape sequence '\\/'\n",
      "<string>:1: SyntaxWarning: invalid escape sequence '\\/'\n",
      "<string>:1: SyntaxWarning: invalid escape sequence '\\/'\n",
      "<string>:1: SyntaxWarning: invalid escape sequence '\\/'\n",
      "<string>:1: SyntaxWarning: invalid escape sequence '\\/'\n",
      "<string>:1: SyntaxWarning: invalid escape sequence '\\/'\n",
      "<string>:1: SyntaxWarning: invalid escape sequence '\\/'\n",
      "<string>:1: SyntaxWarning: invalid escape sequence '\\/'\n",
      "<string>:1: SyntaxWarning: invalid escape sequence '\\/'\n",
      "<string>:1: SyntaxWarning: invalid escape sequence '\\/'\n",
      "<string>:1: SyntaxWarning: invalid escape sequence '\\/'\n",
      "<string>:1: SyntaxWarning: invalid escape sequence '\\/'\n",
      "<string>:1: SyntaxWarning: invalid escape sequence '\\/'\n",
      "<string>:1: SyntaxWarning: invalid escape sequence '\\/'\n",
      "<string>:1: SyntaxWarning: invalid escape sequence '\\/'\n",
      "<string>:1: SyntaxWarning: invalid escape sequence '\\/'\n",
      "<string>:1: SyntaxWarning: invalid escape sequence '\\/'\n",
      "<string>:1: SyntaxWarning: invalid escape sequence '\\/'\n",
      "<string>:1: SyntaxWarning: invalid escape sequence '\\/'\n",
      "<string>:1: SyntaxWarning: invalid escape sequence '\\/'\n",
      "<string>:1: SyntaxWarning: invalid escape sequence '\\/'\n",
      "<string>:1: SyntaxWarning: invalid escape sequence '\\/'\n",
      "<string>:1: SyntaxWarning: invalid escape sequence '\\/'\n",
      "<string>:1: SyntaxWarning: invalid escape sequence '\\/'\n",
      "<string>:1: SyntaxWarning: invalid escape sequence '\\/'\n",
      "<string>:1: SyntaxWarning: invalid escape sequence '\\/'\n",
      "<string>:1: SyntaxWarning: invalid escape sequence '\\/'\n",
      "<string>:1: SyntaxWarning: invalid escape sequence '\\/'\n",
      "<string>:1: SyntaxWarning: invalid escape sequence '\\/'\n",
      "<string>:1: SyntaxWarning: invalid escape sequence '\\/'\n",
      "<string>:1: SyntaxWarning: invalid escape sequence '\\/'\n",
      "<string>:1: SyntaxWarning: invalid escape sequence '\\/'\n",
      "<string>:1: SyntaxWarning: invalid escape sequence '\\/'\n",
      "<string>:1: SyntaxWarning: invalid escape sequence '\\/'\n",
      "<string>:1: SyntaxWarning: invalid escape sequence '\\/'\n",
      "<string>:1: SyntaxWarning: invalid escape sequence '\\/'\n",
      "<string>:1: SyntaxWarning: invalid escape sequence '\\/'\n",
      "<string>:1: SyntaxWarning: invalid escape sequence '\\/'\n",
      "<string>:1: SyntaxWarning: invalid escape sequence '\\/'\n",
      "<string>:1: SyntaxWarning: invalid escape sequence '\\/'\n",
      "<string>:1: SyntaxWarning: invalid escape sequence '\\/'\n",
      "<string>:1: SyntaxWarning: invalid escape sequence '\\/'\n",
      "<string>:1: SyntaxWarning: invalid escape sequence '\\/'\n",
      "<string>:1: SyntaxWarning: invalid escape sequence '\\/'\n",
      "<string>:1: SyntaxWarning: invalid escape sequence '\\/'\n",
      "<string>:1: SyntaxWarning: invalid escape sequence '\\/'\n",
      "<string>:1: SyntaxWarning: invalid escape sequence '\\/'\n",
      "<string>:1: SyntaxWarning: invalid escape sequence '\\/'\n",
      "<string>:1: SyntaxWarning: invalid escape sequence '\\/'\n",
      "<string>:1: SyntaxWarning: invalid escape sequence '\\/'\n",
      "<string>:1: SyntaxWarning: invalid escape sequence '\\/'\n",
      "<string>:1: SyntaxWarning: invalid escape sequence '\\/'\n",
      "<string>:1: SyntaxWarning: invalid escape sequence '\\/'\n",
      "<string>:1: SyntaxWarning: invalid escape sequence '\\/'\n",
      "<string>:1: SyntaxWarning: invalid escape sequence '\\/'\n",
      "<string>:1: SyntaxWarning: invalid escape sequence '\\/'\n",
      "<string>:1: SyntaxWarning: invalid escape sequence '\\/'\n",
      "<string>:1: SyntaxWarning: invalid escape sequence '\\/'\n",
      "<string>:1: SyntaxWarning: invalid escape sequence '\\/'\n",
      "<string>:1: SyntaxWarning: invalid escape sequence '\\/'\n",
      "<string>:1: SyntaxWarning: invalid escape sequence '\\/'\n",
      "<string>:1: SyntaxWarning: invalid escape sequence '\\/'\n",
      "<string>:1: SyntaxWarning: invalid escape sequence '\\/'\n",
      "<string>:1: SyntaxWarning: invalid escape sequence '\\/'\n",
      "<string>:1: SyntaxWarning: invalid escape sequence '\\/'\n",
      "<string>:1: SyntaxWarning: invalid escape sequence '\\/'\n",
      "<string>:1: SyntaxWarning: invalid escape sequence '\\/'\n",
      "<string>:1: SyntaxWarning: invalid escape sequence '\\/'\n",
      "<string>:1: SyntaxWarning: invalid escape sequence '\\/'\n",
      "<string>:1: SyntaxWarning: invalid escape sequence '\\/'\n",
      "<string>:1: SyntaxWarning: invalid escape sequence '\\/'\n",
      "<string>:1: SyntaxWarning: invalid escape sequence '\\/'\n",
      "<string>:1: SyntaxWarning: invalid escape sequence '\\/'\n",
      "<string>:1: SyntaxWarning: invalid escape sequence '\\/'\n",
      "<string>:1: SyntaxWarning: invalid escape sequence '\\/'\n",
      "<string>:1: SyntaxWarning: invalid escape sequence '\\/'\n",
      "<string>:1: SyntaxWarning: invalid escape sequence '\\/'\n",
      "<string>:1: SyntaxWarning: invalid escape sequence '\\/'\n",
      "<string>:1: SyntaxWarning: invalid escape sequence '\\/'\n",
      "<string>:1: SyntaxWarning: invalid escape sequence '\\/'\n",
      "<string>:1: SyntaxWarning: invalid escape sequence '\\/'\n",
      "<string>:1: SyntaxWarning: invalid escape sequence '\\/'\n",
      "<string>:1: SyntaxWarning: invalid escape sequence '\\/'\n",
      "<string>:1: SyntaxWarning: invalid escape sequence '\\/'\n",
      "<string>:1: SyntaxWarning: invalid escape sequence '\\/'\n",
      "<string>:1: SyntaxWarning: invalid escape sequence '\\/'\n",
      "<string>:1: SyntaxWarning: invalid escape sequence '\\/'\n",
      "<string>:1: SyntaxWarning: invalid escape sequence '\\/'\n",
      "<string>:1: SyntaxWarning: invalid escape sequence '\\/'\n",
      "<string>:1: SyntaxWarning: invalid escape sequence '\\/'\n",
      "<string>:1: SyntaxWarning: invalid escape sequence '\\/'\n",
      "<string>:1: SyntaxWarning: invalid escape sequence '\\/'\n",
      "<string>:1: SyntaxWarning: invalid escape sequence '\\/'\n",
      "<string>:1: SyntaxWarning: invalid escape sequence '\\/'\n",
      "<string>:1: SyntaxWarning: invalid escape sequence '\\/'\n",
      "<string>:1: SyntaxWarning: invalid escape sequence '\\/'\n",
      "<string>:1: SyntaxWarning: invalid escape sequence '\\/'\n",
      "<string>:1: SyntaxWarning: invalid escape sequence '\\/'\n",
      "<string>:1: SyntaxWarning: invalid escape sequence '\\/'\n",
      "<string>:1: SyntaxWarning: invalid escape sequence '\\/'\n",
      "<string>:1: SyntaxWarning: invalid escape sequence '\\/'\n",
      "<string>:1: SyntaxWarning: invalid escape sequence '\\/'\n",
      "<string>:1: SyntaxWarning: invalid escape sequence '\\/'\n",
      "<string>:1: SyntaxWarning: invalid escape sequence '\\/'\n",
      "<string>:1: SyntaxWarning: invalid escape sequence '\\/'\n",
      "<string>:1: SyntaxWarning: invalid escape sequence '\\/'\n",
      "<string>:1: SyntaxWarning: invalid escape sequence '\\/'\n",
      "<string>:1: SyntaxWarning: invalid escape sequence '\\/'\n",
      "<string>:1: SyntaxWarning: invalid escape sequence '\\/'\n",
      "<string>:1: SyntaxWarning: invalid escape sequence '\\/'\n",
      "<string>:1: SyntaxWarning: invalid escape sequence '\\/'\n",
      "<string>:1: SyntaxWarning: invalid escape sequence '\\/'\n",
      "<string>:1: SyntaxWarning: invalid escape sequence '\\/'\n",
      "<string>:1: SyntaxWarning: invalid escape sequence '\\/'\n",
      "<string>:1: SyntaxWarning: invalid escape sequence '\\/'\n",
      "<string>:1: SyntaxWarning: invalid escape sequence '\\/'\n",
      "<string>:1: SyntaxWarning: invalid escape sequence '\\/'\n",
      "<string>:1: SyntaxWarning: invalid escape sequence '\\/'\n",
      "<string>:1: SyntaxWarning: invalid escape sequence '\\/'\n",
      "<string>:1: SyntaxWarning: invalid escape sequence '\\/'\n",
      "<string>:1: SyntaxWarning: invalid escape sequence '\\/'\n",
      "<string>:1: SyntaxWarning: invalid escape sequence '\\/'\n",
      "<string>:1: SyntaxWarning: invalid escape sequence '\\/'\n",
      "<string>:1: SyntaxWarning: invalid escape sequence '\\/'\n",
      "<string>:1: SyntaxWarning: invalid escape sequence '\\/'\n",
      "<string>:1: SyntaxWarning: invalid escape sequence '\\/'\n",
      "<string>:1: SyntaxWarning: invalid escape sequence '\\/'\n",
      "<string>:1: SyntaxWarning: invalid escape sequence '\\/'\n",
      "<string>:1: SyntaxWarning: invalid escape sequence '\\/'\n",
      "<string>:1: SyntaxWarning: invalid escape sequence '\\/'\n",
      "<string>:1: SyntaxWarning: invalid escape sequence '\\/'\n",
      "<string>:1: SyntaxWarning: invalid escape sequence '\\/'\n",
      "<string>:1: SyntaxWarning: invalid escape sequence '\\/'\n",
      "<string>:1: SyntaxWarning: invalid escape sequence '\\/'\n",
      "<string>:1: SyntaxWarning: invalid escape sequence '\\/'\n",
      "<string>:1: SyntaxWarning: invalid escape sequence '\\/'\n",
      "<string>:1: SyntaxWarning: invalid escape sequence '\\/'\n",
      "<string>:1: SyntaxWarning: invalid escape sequence '\\/'\n",
      "<string>:1: SyntaxWarning: invalid escape sequence '\\/'\n",
      "<string>:1: SyntaxWarning: invalid escape sequence '\\/'\n",
      "<string>:1: SyntaxWarning: invalid escape sequence '\\/'\n",
      "<string>:1: SyntaxWarning: invalid escape sequence '\\/'\n",
      "<string>:1: SyntaxWarning: invalid escape sequence '\\/'\n",
      "<string>:1: SyntaxWarning: invalid escape sequence '\\/'\n",
      "<string>:1: SyntaxWarning: invalid escape sequence '\\/'\n",
      "<string>:1: SyntaxWarning: invalid escape sequence '\\/'\n",
      "<string>:1: SyntaxWarning: invalid escape sequence '\\/'\n",
      "<string>:1: SyntaxWarning: invalid escape sequence '\\/'\n",
      "<string>:1: SyntaxWarning: invalid escape sequence '\\/'\n",
      "<string>:1: SyntaxWarning: invalid escape sequence '\\/'\n",
      "<string>:1: SyntaxWarning: invalid escape sequence '\\/'\n",
      "<string>:1: SyntaxWarning: invalid escape sequence '\\/'\n",
      "<string>:1: SyntaxWarning: invalid escape sequence '\\/'\n",
      "<string>:1: SyntaxWarning: invalid escape sequence '\\/'\n",
      "<string>:1: SyntaxWarning: invalid escape sequence '\\/'\n",
      "<string>:1: SyntaxWarning: invalid escape sequence '\\/'\n",
      "<string>:1: SyntaxWarning: invalid escape sequence '\\/'\n",
      "<string>:1: SyntaxWarning: invalid escape sequence '\\/'\n",
      "<string>:1: SyntaxWarning: invalid escape sequence '\\/'\n",
      "<string>:1: SyntaxWarning: invalid escape sequence '\\/'\n",
      "<string>:1: SyntaxWarning: invalid escape sequence '\\/'\n",
      "<string>:1: SyntaxWarning: invalid escape sequence '\\/'\n",
      "<string>:1: SyntaxWarning: invalid escape sequence '\\/'\n",
      "<string>:1: SyntaxWarning: invalid escape sequence '\\/'\n",
      "<string>:1: SyntaxWarning: invalid escape sequence '\\/'\n",
      "<string>:1: SyntaxWarning: invalid escape sequence '\\/'\n",
      "<string>:1: SyntaxWarning: invalid escape sequence '\\/'\n",
      "<string>:1: SyntaxWarning: invalid escape sequence '\\/'\n",
      "<string>:1: SyntaxWarning: invalid escape sequence '\\/'\n",
      "<string>:1: SyntaxWarning: invalid escape sequence '\\/'\n",
      "<string>:1: SyntaxWarning: invalid escape sequence '\\/'\n",
      "<string>:1: SyntaxWarning: invalid escape sequence '\\/'\n",
      "<string>:1: SyntaxWarning: invalid escape sequence '\\/'\n",
      "<string>:1: SyntaxWarning: invalid escape sequence '\\/'\n",
      "<string>:1: SyntaxWarning: invalid escape sequence '\\/'\n",
      "<string>:1: SyntaxWarning: invalid escape sequence '\\/'\n",
      "<string>:1: SyntaxWarning: invalid escape sequence '\\/'\n",
      "<string>:1: SyntaxWarning: invalid escape sequence '\\/'\n",
      "<string>:1: SyntaxWarning: invalid escape sequence '\\/'\n",
      "<string>:1: SyntaxWarning: invalid escape sequence '\\/'\n",
      "<string>:1: SyntaxWarning: invalid escape sequence '\\/'\n",
      "<string>:1: SyntaxWarning: invalid escape sequence '\\/'\n",
      "<string>:1: SyntaxWarning: invalid escape sequence '\\/'\n",
      "<string>:1: SyntaxWarning: invalid escape sequence '\\/'\n",
      "<string>:1: SyntaxWarning: invalid escape sequence '\\/'\n",
      "<string>:1: SyntaxWarning: invalid escape sequence '\\/'\n",
      "<string>:1: SyntaxWarning: invalid escape sequence '\\/'\n",
      "<string>:1: SyntaxWarning: invalid escape sequence '\\/'\n",
      "<string>:1: SyntaxWarning: invalid escape sequence '\\/'\n",
      "<string>:1: SyntaxWarning: invalid escape sequence '\\/'\n",
      "<string>:1: SyntaxWarning: invalid escape sequence '\\/'\n",
      "<string>:1: SyntaxWarning: invalid escape sequence '\\/'\n",
      "<string>:1: SyntaxWarning: invalid escape sequence '\\/'\n",
      "<string>:1: SyntaxWarning: invalid escape sequence '\\/'\n",
      "<string>:1: SyntaxWarning: invalid escape sequence '\\/'\n",
      "<string>:1: SyntaxWarning: invalid escape sequence '\\/'\n",
      "<string>:1: SyntaxWarning: invalid escape sequence '\\/'\n",
      "<string>:1: SyntaxWarning: invalid escape sequence '\\/'\n",
      "<string>:1: SyntaxWarning: invalid escape sequence '\\/'\n",
      "<string>:1: SyntaxWarning: invalid escape sequence '\\/'\n",
      "<string>:1: SyntaxWarning: invalid escape sequence '\\/'\n",
      "<string>:1: SyntaxWarning: invalid escape sequence '\\/'\n",
      "<string>:1: SyntaxWarning: invalid escape sequence '\\/'\n",
      "<string>:1: SyntaxWarning: invalid escape sequence '\\/'\n",
      "<string>:1: SyntaxWarning: invalid escape sequence '\\/'\n",
      "<string>:1: SyntaxWarning: invalid escape sequence '\\/'\n",
      "<string>:1: SyntaxWarning: invalid escape sequence '\\/'\n",
      "<string>:1: SyntaxWarning: invalid escape sequence '\\/'\n",
      "<string>:1: SyntaxWarning: invalid escape sequence '\\/'\n",
      "<string>:1: SyntaxWarning: invalid escape sequence '\\/'\n",
      "<string>:1: SyntaxWarning: invalid escape sequence '\\/'\n",
      "<string>:1: SyntaxWarning: invalid escape sequence '\\/'\n",
      "<string>:1: SyntaxWarning: invalid escape sequence '\\/'\n",
      "<string>:1: SyntaxWarning: invalid escape sequence '\\/'\n",
      "<string>:1: SyntaxWarning: invalid escape sequence '\\/'\n",
      "<string>:1: SyntaxWarning: invalid escape sequence '\\/'\n",
      "<string>:1: SyntaxWarning: invalid escape sequence '\\/'\n",
      "<string>:1: SyntaxWarning: invalid escape sequence '\\/'\n",
      "<string>:1: SyntaxWarning: invalid escape sequence '\\/'\n",
      "<string>:1: SyntaxWarning: invalid escape sequence '\\/'\n",
      "<string>:1: SyntaxWarning: invalid escape sequence '\\/'\n",
      "<string>:1: SyntaxWarning: invalid escape sequence '\\/'\n",
      "<string>:1: SyntaxWarning: invalid escape sequence '\\/'\n",
      "<string>:1: SyntaxWarning: invalid escape sequence '\\/'\n",
      "<string>:1: SyntaxWarning: invalid escape sequence '\\/'\n",
      "<string>:1: SyntaxWarning: invalid escape sequence '\\/'\n",
      "<string>:1: SyntaxWarning: invalid escape sequence '\\/'\n",
      "<string>:1: SyntaxWarning: invalid escape sequence '\\/'\n",
      "<string>:1: SyntaxWarning: invalid escape sequence '\\/'\n",
      "<string>:1: SyntaxWarning: invalid escape sequence '\\/'\n",
      "<string>:1: SyntaxWarning: invalid escape sequence '\\/'\n",
      "<string>:1: SyntaxWarning: invalid escape sequence '\\/'\n",
      "<string>:1: SyntaxWarning: invalid escape sequence '\\/'\n",
      "<string>:1: SyntaxWarning: invalid escape sequence '\\/'\n",
      "<string>:1: SyntaxWarning: invalid escape sequence '\\/'\n",
      "<string>:1: SyntaxWarning: invalid escape sequence '\\/'\n",
      "<string>:1: SyntaxWarning: invalid escape sequence '\\/'\n",
      "<string>:1: SyntaxWarning: invalid escape sequence '\\/'\n",
      "<string>:1: SyntaxWarning: invalid escape sequence '\\/'\n",
      "<string>:1: SyntaxWarning: invalid escape sequence '\\/'\n",
      "<string>:1: SyntaxWarning: invalid escape sequence '\\/'\n",
      "<string>:1: SyntaxWarning: invalid escape sequence '\\/'\n",
      "<string>:1: SyntaxWarning: invalid escape sequence '\\/'\n",
      "<string>:1: SyntaxWarning: invalid escape sequence '\\/'\n",
      "<string>:1: SyntaxWarning: invalid escape sequence '\\/'\n",
      "<string>:1: SyntaxWarning: invalid escape sequence '\\/'\n",
      "<string>:1: SyntaxWarning: invalid escape sequence '\\/'\n",
      "<string>:1: SyntaxWarning: invalid escape sequence '\\/'\n",
      "<string>:1: SyntaxWarning: invalid escape sequence '\\/'\n",
      "<string>:1: SyntaxWarning: invalid escape sequence '\\/'\n",
      "<string>:1: SyntaxWarning: invalid escape sequence '\\/'\n",
      "<string>:1: SyntaxWarning: invalid escape sequence '\\/'\n",
      "<string>:1: SyntaxWarning: invalid escape sequence '\\/'\n",
      "<string>:1: SyntaxWarning: invalid escape sequence '\\/'\n",
      "<string>:1: SyntaxWarning: invalid escape sequence '\\/'\n",
      "<string>:1: SyntaxWarning: invalid escape sequence '\\/'\n",
      "<string>:1: SyntaxWarning: invalid escape sequence '\\/'\n",
      "<string>:1: SyntaxWarning: invalid escape sequence '\\/'\n",
      "<string>:1: SyntaxWarning: invalid escape sequence '\\/'\n",
      "<string>:1: SyntaxWarning: invalid escape sequence '\\/'\n",
      "<string>:1: SyntaxWarning: invalid escape sequence '\\/'\n",
      "<string>:1: SyntaxWarning: invalid escape sequence '\\/'\n",
      "<string>:1: SyntaxWarning: invalid escape sequence '\\/'\n",
      "<string>:1: SyntaxWarning: invalid escape sequence '\\/'\n",
      "<string>:1: SyntaxWarning: invalid escape sequence '\\/'\n",
      "<string>:1: SyntaxWarning: invalid escape sequence '\\/'\n",
      "<string>:1: SyntaxWarning: invalid escape sequence '\\/'\n",
      "<string>:1: SyntaxWarning: invalid escape sequence '\\/'\n",
      "<string>:1: SyntaxWarning: invalid escape sequence '\\/'\n",
      "<string>:1: SyntaxWarning: invalid escape sequence '\\/'\n",
      "<string>:1: SyntaxWarning: invalid escape sequence '\\/'\n",
      "<string>:1: SyntaxWarning: invalid escape sequence '\\/'\n",
      "<string>:1: SyntaxWarning: invalid escape sequence '\\/'\n",
      "<string>:1: SyntaxWarning: invalid escape sequence '\\/'\n",
      "<string>:1: SyntaxWarning: invalid escape sequence '\\/'\n",
      "<string>:1: SyntaxWarning: invalid escape sequence '\\/'\n",
      "<string>:1: SyntaxWarning: invalid escape sequence '\\/'\n",
      "<string>:1: SyntaxWarning: invalid escape sequence '\\/'\n",
      "<string>:1: SyntaxWarning: invalid escape sequence '\\/'\n",
      "<string>:1: SyntaxWarning: invalid escape sequence '\\/'\n",
      "<string>:1: SyntaxWarning: invalid escape sequence '\\/'\n",
      "<string>:1: SyntaxWarning: invalid escape sequence '\\/'\n",
      "<string>:1: SyntaxWarning: invalid escape sequence '\\/'\n",
      "<string>:1: SyntaxWarning: invalid escape sequence '\\/'\n",
      "<string>:1: SyntaxWarning: invalid escape sequence '\\/'\n",
      "<string>:1: SyntaxWarning: invalid escape sequence '\\/'\n",
      "<string>:1: SyntaxWarning: invalid escape sequence '\\/'\n",
      "<string>:1: SyntaxWarning: invalid escape sequence '\\/'\n",
      "<string>:1: SyntaxWarning: invalid escape sequence '\\/'\n",
      "<string>:1: SyntaxWarning: invalid escape sequence '\\/'\n",
      "<string>:1: SyntaxWarning: invalid escape sequence '\\/'\n",
      "<string>:1: SyntaxWarning: invalid escape sequence '\\/'\n",
      "<string>:1: SyntaxWarning: invalid escape sequence '\\/'\n",
      "<string>:1: SyntaxWarning: invalid escape sequence '\\/'\n",
      "<string>:1: SyntaxWarning: invalid escape sequence '\\/'\n",
      "<string>:1: SyntaxWarning: invalid escape sequence '\\/'\n",
      "<string>:1: SyntaxWarning: invalid escape sequence '\\/'\n",
      "<string>:1: SyntaxWarning: invalid escape sequence '\\/'\n",
      "<string>:1: SyntaxWarning: invalid escape sequence '\\/'\n",
      "<string>:1: SyntaxWarning: invalid escape sequence '\\/'\n",
      "<string>:1: SyntaxWarning: invalid escape sequence '\\/'\n",
      "<string>:1: SyntaxWarning: invalid escape sequence '\\/'\n",
      "<string>:1: SyntaxWarning: invalid escape sequence '\\/'\n",
      "<string>:1: SyntaxWarning: invalid escape sequence '\\/'\n",
      "<string>:1: SyntaxWarning: invalid escape sequence '\\/'\n",
      "<string>:1: SyntaxWarning: invalid escape sequence '\\/'\n",
      "<string>:1: SyntaxWarning: invalid escape sequence '\\/'\n",
      "<string>:1: SyntaxWarning: invalid escape sequence '\\/'\n",
      "<string>:1: SyntaxWarning: invalid escape sequence '\\/'\n",
      "<string>:1: SyntaxWarning: invalid escape sequence '\\/'\n",
      "<string>:1: SyntaxWarning: invalid escape sequence '\\/'\n",
      "<string>:1: SyntaxWarning: invalid escape sequence '\\/'\n",
      "<string>:1: SyntaxWarning: invalid escape sequence '\\/'\n",
      "<string>:1: SyntaxWarning: invalid escape sequence '\\/'\n",
      "<string>:1: SyntaxWarning: invalid escape sequence '\\/'\n",
      "<string>:1: SyntaxWarning: invalid escape sequence '\\/'\n",
      "<string>:1: SyntaxWarning: invalid escape sequence '\\/'\n",
      "<string>:1: SyntaxWarning: invalid escape sequence '\\/'\n",
      "<string>:1: SyntaxWarning: invalid escape sequence '\\/'\n",
      "<string>:1: SyntaxWarning: invalid escape sequence '\\/'\n",
      "<string>:1: SyntaxWarning: invalid escape sequence '\\/'\n",
      "<string>:1: SyntaxWarning: invalid escape sequence '\\/'\n",
      "<string>:1: SyntaxWarning: invalid escape sequence '\\/'\n",
      "<string>:1: SyntaxWarning: invalid escape sequence '\\/'\n",
      "<string>:1: SyntaxWarning: invalid escape sequence '\\/'\n",
      "<string>:1: SyntaxWarning: invalid escape sequence '\\/'\n",
      "<string>:1: SyntaxWarning: invalid escape sequence '\\/'\n",
      "<string>:1: SyntaxWarning: invalid escape sequence '\\/'\n",
      "<string>:1: SyntaxWarning: invalid escape sequence '\\/'\n",
      "<string>:1: SyntaxWarning: invalid escape sequence '\\/'\n",
      "<string>:1: SyntaxWarning: invalid escape sequence '\\/'\n",
      "<string>:1: SyntaxWarning: invalid escape sequence '\\/'\n",
      "<string>:1: SyntaxWarning: invalid escape sequence '\\/'\n",
      "<string>:1: SyntaxWarning: invalid escape sequence '\\/'\n",
      "<string>:1: SyntaxWarning: invalid escape sequence '\\/'\n",
      "<string>:1: SyntaxWarning: invalid escape sequence '\\/'\n",
      "<string>:1: SyntaxWarning: invalid escape sequence '\\/'\n",
      "<string>:1: SyntaxWarning: invalid escape sequence '\\/'\n",
      "<string>:1: SyntaxWarning: invalid escape sequence '\\/'\n",
      "<string>:1: SyntaxWarning: invalid escape sequence '\\/'\n",
      "<string>:1: SyntaxWarning: invalid escape sequence '\\/'\n",
      "<string>:1: SyntaxWarning: invalid escape sequence '\\/'\n",
      "<string>:1: SyntaxWarning: invalid escape sequence '\\/'\n",
      "<string>:1: SyntaxWarning: invalid escape sequence '\\/'\n",
      "<string>:1: SyntaxWarning: invalid escape sequence '\\/'\n",
      "<string>:1: SyntaxWarning: invalid escape sequence '\\/'\n",
      "<string>:1: SyntaxWarning: invalid escape sequence '\\/'\n",
      "<string>:1: SyntaxWarning: invalid escape sequence '\\/'\n",
      "<string>:1: SyntaxWarning: invalid escape sequence '\\/'\n",
      "<string>:1: SyntaxWarning: invalid escape sequence '\\/'\n",
      "<string>:1: SyntaxWarning: invalid escape sequence '\\/'\n",
      "<string>:1: SyntaxWarning: invalid escape sequence '\\/'\n",
      "<string>:1: SyntaxWarning: invalid escape sequence '\\/'\n",
      "<string>:1: SyntaxWarning: invalid escape sequence '\\/'\n",
      "<string>:1: SyntaxWarning: invalid escape sequence '\\/'\n",
      "<string>:1: SyntaxWarning: invalid escape sequence '\\/'\n",
      "<string>:1: SyntaxWarning: invalid escape sequence '\\/'\n",
      "<string>:1: SyntaxWarning: invalid escape sequence '\\/'\n",
      "<string>:1: SyntaxWarning: invalid escape sequence '\\/'\n",
      "<string>:1: SyntaxWarning: invalid escape sequence '\\/'\n",
      "<string>:1: SyntaxWarning: invalid escape sequence '\\/'\n",
      "<string>:1: SyntaxWarning: invalid escape sequence '\\/'\n",
      "<string>:1: SyntaxWarning: invalid escape sequence '\\/'\n",
      "<string>:1: SyntaxWarning: invalid escape sequence '\\/'\n",
      "<string>:1: SyntaxWarning: invalid escape sequence '\\/'\n",
      "<string>:1: SyntaxWarning: invalid escape sequence '\\/'\n",
      "<string>:1: SyntaxWarning: invalid escape sequence '\\/'\n",
      "<string>:1: SyntaxWarning: invalid escape sequence '\\/'\n",
      "<string>:1: SyntaxWarning: invalid escape sequence '\\/'\n",
      "<string>:1: SyntaxWarning: invalid escape sequence '\\/'\n",
      "<string>:1: SyntaxWarning: invalid escape sequence '\\/'\n",
      "<string>:1: SyntaxWarning: invalid escape sequence '\\/'\n",
      "<string>:1: SyntaxWarning: invalid escape sequence '\\/'\n",
      "<string>:1: SyntaxWarning: invalid escape sequence '\\/'\n",
      "<string>:1: SyntaxWarning: invalid escape sequence '\\/'\n",
      "<string>:1: SyntaxWarning: invalid escape sequence '\\/'\n",
      "<string>:1: SyntaxWarning: invalid escape sequence '\\/'\n",
      "<string>:1: SyntaxWarning: invalid escape sequence '\\/'\n",
      "<string>:1: SyntaxWarning: invalid escape sequence '\\/'\n",
      "<string>:1: SyntaxWarning: invalid escape sequence '\\/'\n",
      "<string>:1: SyntaxWarning: invalid escape sequence '\\/'\n",
      "<string>:1: SyntaxWarning: invalid escape sequence '\\/'\n",
      "<string>:1: SyntaxWarning: invalid escape sequence '\\/'\n",
      "<string>:1: SyntaxWarning: invalid escape sequence '\\/'\n",
      "<string>:1: SyntaxWarning: invalid escape sequence '\\/'\n",
      "<string>:1: SyntaxWarning: invalid escape sequence '\\/'\n",
      "<string>:1: SyntaxWarning: invalid escape sequence '\\/'\n",
      "<string>:1: SyntaxWarning: invalid escape sequence '\\/'\n",
      "<string>:1: SyntaxWarning: invalid escape sequence '\\/'\n",
      "<string>:1: SyntaxWarning: invalid escape sequence '\\/'\n",
      "<string>:1: SyntaxWarning: invalid escape sequence '\\/'\n",
      "<string>:1: SyntaxWarning: invalid escape sequence '\\/'\n",
      "<string>:1: SyntaxWarning: invalid escape sequence '\\/'\n",
      "<string>:1: SyntaxWarning: invalid escape sequence '\\/'\n",
      "<string>:1: SyntaxWarning: invalid escape sequence '\\/'\n",
      "<string>:1: SyntaxWarning: invalid escape sequence '\\/'\n",
      "<string>:1: SyntaxWarning: invalid escape sequence '\\/'\n",
      "<string>:1: SyntaxWarning: invalid escape sequence '\\/'\n",
      "<string>:1: SyntaxWarning: invalid escape sequence '\\/'\n",
      "<string>:1: SyntaxWarning: invalid escape sequence '\\/'\n",
      "<string>:1: SyntaxWarning: invalid escape sequence '\\/'\n",
      "<string>:1: SyntaxWarning: invalid escape sequence '\\/'\n",
      "<string>:1: SyntaxWarning: invalid escape sequence '\\/'\n",
      "<string>:1: SyntaxWarning: invalid escape sequence '\\/'\n",
      "<string>:1: SyntaxWarning: invalid escape sequence '\\/'\n",
      "<string>:1: SyntaxWarning: invalid escape sequence '\\/'\n",
      "<string>:1: SyntaxWarning: invalid escape sequence '\\/'\n",
      "<string>:1: SyntaxWarning: invalid escape sequence '\\/'\n",
      "<string>:1: SyntaxWarning: invalid escape sequence '\\/'\n",
      "<string>:1: SyntaxWarning: invalid escape sequence '\\/'\n",
      "<string>:1: SyntaxWarning: invalid escape sequence '\\/'\n",
      "<string>:1: SyntaxWarning: invalid escape sequence '\\/'\n",
      "<string>:1: SyntaxWarning: invalid escape sequence '\\/'\n",
      "<string>:1: SyntaxWarning: invalid escape sequence '\\/'\n",
      "<string>:1: SyntaxWarning: invalid escape sequence '\\/'\n",
      "<string>:1: SyntaxWarning: invalid escape sequence '\\/'\n",
      "<string>:1: SyntaxWarning: invalid escape sequence '\\/'\n",
      "<string>:1: SyntaxWarning: invalid escape sequence '\\/'\n",
      "<string>:1: SyntaxWarning: invalid escape sequence '\\/'\n",
      "<string>:1: SyntaxWarning: invalid escape sequence '\\/'\n",
      "<string>:1: SyntaxWarning: invalid escape sequence '\\/'\n",
      "<string>:1: SyntaxWarning: invalid escape sequence '\\/'\n",
      "<string>:1: SyntaxWarning: invalid escape sequence '\\/'\n",
      "<string>:1: SyntaxWarning: invalid escape sequence '\\/'\n",
      "<string>:1: SyntaxWarning: invalid escape sequence '\\/'\n",
      "<string>:1: SyntaxWarning: invalid escape sequence '\\/'\n",
      "<string>:1: SyntaxWarning: invalid escape sequence '\\/'\n",
      "<string>:1: SyntaxWarning: invalid escape sequence '\\/'\n",
      "<string>:1: SyntaxWarning: invalid escape sequence '\\/'\n",
      "<string>:1: SyntaxWarning: invalid escape sequence '\\/'\n",
      "<string>:1: SyntaxWarning: invalid escape sequence '\\/'\n",
      "<string>:1: SyntaxWarning: invalid escape sequence '\\/'\n",
      "<string>:1: SyntaxWarning: invalid escape sequence '\\/'\n",
      "<string>:1: SyntaxWarning: invalid escape sequence '\\/'\n",
      "<string>:1: SyntaxWarning: invalid escape sequence '\\/'\n",
      "<string>:1: SyntaxWarning: invalid escape sequence '\\/'\n",
      "<string>:1: SyntaxWarning: invalid escape sequence '\\/'\n",
      "<string>:1: SyntaxWarning: invalid escape sequence '\\/'\n",
      "<string>:1: SyntaxWarning: invalid escape sequence '\\/'\n",
      "<string>:1: SyntaxWarning: invalid escape sequence '\\/'\n",
      "<string>:1: SyntaxWarning: invalid escape sequence '\\/'\n",
      "<string>:1: SyntaxWarning: invalid escape sequence '\\/'\n",
      "<string>:1: SyntaxWarning: invalid escape sequence '\\/'\n",
      "<string>:1: SyntaxWarning: invalid escape sequence '\\/'\n",
      "<string>:1: SyntaxWarning: invalid escape sequence '\\/'\n",
      "<string>:1: SyntaxWarning: invalid escape sequence '\\/'\n",
      "<string>:1: SyntaxWarning: invalid escape sequence '\\/'\n",
      "<string>:1: SyntaxWarning: invalid escape sequence '\\/'\n",
      "<string>:1: SyntaxWarning: invalid escape sequence '\\/'\n",
      "<string>:1: SyntaxWarning: invalid escape sequence '\\/'\n",
      "<string>:1: SyntaxWarning: invalid escape sequence '\\/'\n",
      "<string>:1: SyntaxWarning: invalid escape sequence '\\/'\n",
      "<string>:1: SyntaxWarning: invalid escape sequence '\\/'\n",
      "<string>:1: SyntaxWarning: invalid escape sequence '\\/'\n",
      "<string>:1: SyntaxWarning: invalid escape sequence '\\/'\n",
      "<string>:1: SyntaxWarning: invalid escape sequence '\\/'\n",
      "<string>:1: SyntaxWarning: invalid escape sequence '\\/'\n",
      "<string>:1: SyntaxWarning: invalid escape sequence '\\/'\n",
      "<string>:1: SyntaxWarning: invalid escape sequence '\\/'\n",
      "<string>:1: SyntaxWarning: invalid escape sequence '\\/'\n",
      "<string>:1: SyntaxWarning: invalid escape sequence '\\/'\n",
      "<string>:1: SyntaxWarning: invalid escape sequence '\\/'\n",
      "<string>:1: SyntaxWarning: invalid escape sequence '\\/'\n",
      "<string>:1: SyntaxWarning: invalid escape sequence '\\/'\n",
      "<string>:1: SyntaxWarning: invalid escape sequence '\\/'\n",
      "<string>:1: SyntaxWarning: invalid escape sequence '\\/'\n",
      "<string>:1: SyntaxWarning: invalid escape sequence '\\/'\n",
      "<string>:1: SyntaxWarning: invalid escape sequence '\\/'\n",
      "<string>:1: SyntaxWarning: invalid escape sequence '\\/'\n",
      "<string>:1: SyntaxWarning: invalid escape sequence '\\/'\n",
      "<string>:1: SyntaxWarning: invalid escape sequence '\\/'\n",
      "<string>:1: SyntaxWarning: invalid escape sequence '\\/'\n",
      "<string>:1: SyntaxWarning: invalid escape sequence '\\/'\n",
      "<string>:1: SyntaxWarning: invalid escape sequence '\\/'\n",
      "<string>:1: SyntaxWarning: invalid escape sequence '\\/'\n",
      "<string>:1: SyntaxWarning: invalid escape sequence '\\/'\n",
      "<string>:1: SyntaxWarning: invalid escape sequence '\\/'\n",
      "<string>:1: SyntaxWarning: invalid escape sequence '\\/'\n",
      "<string>:1: SyntaxWarning: invalid escape sequence '\\/'\n",
      "<string>:1: SyntaxWarning: invalid escape sequence '\\/'\n",
      "<string>:1: SyntaxWarning: invalid escape sequence '\\/'\n",
      "<string>:1: SyntaxWarning: invalid escape sequence '\\/'\n",
      "<string>:1: SyntaxWarning: invalid escape sequence '\\/'\n",
      "<string>:1: SyntaxWarning: invalid escape sequence '\\/'\n",
      "<string>:1: SyntaxWarning: invalid escape sequence '\\/'\n",
      "<string>:1: SyntaxWarning: invalid escape sequence '\\/'\n",
      "<string>:1: SyntaxWarning: invalid escape sequence '\\/'\n",
      "<string>:1: SyntaxWarning: invalid escape sequence '\\/'\n",
      "<string>:1: SyntaxWarning: invalid escape sequence '\\/'\n",
      "<string>:1: SyntaxWarning: invalid escape sequence '\\/'\n",
      "<string>:1: SyntaxWarning: invalid escape sequence '\\/'\n",
      "<string>:1: SyntaxWarning: invalid escape sequence '\\/'\n",
      "<string>:1: SyntaxWarning: invalid escape sequence '\\/'\n",
      "<string>:1: SyntaxWarning: invalid escape sequence '\\/'\n",
      "<string>:1: SyntaxWarning: invalid escape sequence '\\/'\n",
      "<string>:1: SyntaxWarning: invalid escape sequence '\\/'\n",
      "<string>:1: SyntaxWarning: invalid escape sequence '\\/'\n",
      "<string>:1: SyntaxWarning: invalid escape sequence '\\/'\n",
      "<string>:1: SyntaxWarning: invalid escape sequence '\\/'\n",
      "<string>:1: SyntaxWarning: invalid escape sequence '\\/'\n",
      "<string>:1: SyntaxWarning: invalid escape sequence '\\/'\n",
      "<string>:1: SyntaxWarning: invalid escape sequence '\\/'\n",
      "<string>:1: SyntaxWarning: invalid escape sequence '\\/'\n",
      "<string>:1: SyntaxWarning: invalid escape sequence '\\/'\n",
      "<string>:1: SyntaxWarning: invalid escape sequence '\\/'\n",
      "<string>:1: SyntaxWarning: invalid escape sequence '\\/'\n",
      "<string>:1: SyntaxWarning: invalid escape sequence '\\/'\n",
      "<string>:1: SyntaxWarning: invalid escape sequence '\\/'\n",
      "<string>:1: SyntaxWarning: invalid escape sequence '\\/'\n",
      "<string>:1: SyntaxWarning: invalid escape sequence '\\/'\n",
      "<string>:1: SyntaxWarning: invalid escape sequence '\\/'\n",
      "<string>:1: SyntaxWarning: invalid escape sequence '\\/'\n",
      "<string>:1: SyntaxWarning: invalid escape sequence '\\/'\n",
      "<string>:1: SyntaxWarning: invalid escape sequence '\\/'\n",
      "<string>:1: SyntaxWarning: invalid escape sequence '\\/'\n",
      "<string>:1: SyntaxWarning: invalid escape sequence '\\/'\n",
      "<string>:1: SyntaxWarning: invalid escape sequence '\\/'\n",
      "<string>:1: SyntaxWarning: invalid escape sequence '\\/'\n",
      "<string>:1: SyntaxWarning: invalid escape sequence '\\/'\n",
      "<string>:1: SyntaxWarning: invalid escape sequence '\\/'\n",
      "<string>:1: SyntaxWarning: invalid escape sequence '\\/'\n",
      "<string>:1: SyntaxWarning: invalid escape sequence '\\/'\n",
      "<string>:1: SyntaxWarning: invalid escape sequence '\\/'\n",
      "<string>:1: SyntaxWarning: invalid escape sequence '\\/'\n",
      "<string>:1: SyntaxWarning: invalid escape sequence '\\/'\n",
      "<string>:1: SyntaxWarning: invalid escape sequence '\\/'\n",
      "<string>:1: SyntaxWarning: invalid escape sequence '\\/'\n",
      "<string>:1: SyntaxWarning: invalid escape sequence '\\/'\n",
      "<string>:1: SyntaxWarning: invalid escape sequence '\\/'\n",
      "<string>:1: SyntaxWarning: invalid escape sequence '\\/'\n",
      "<string>:1: SyntaxWarning: invalid escape sequence '\\/'\n",
      "<string>:1: SyntaxWarning: invalid escape sequence '\\/'\n",
      "<string>:1: SyntaxWarning: invalid escape sequence '\\/'\n",
      "<string>:1: SyntaxWarning: invalid escape sequence '\\/'\n",
      "<string>:1: SyntaxWarning: invalid escape sequence '\\/'\n",
      "<string>:1: SyntaxWarning: invalid escape sequence '\\/'\n",
      "<string>:1: SyntaxWarning: invalid escape sequence '\\/'\n",
      "<string>:1: SyntaxWarning: invalid escape sequence '\\/'\n",
      "<string>:1: SyntaxWarning: invalid escape sequence '\\/'\n",
      "<string>:1: SyntaxWarning: invalid escape sequence '\\/'\n",
      "<string>:1: SyntaxWarning: invalid escape sequence '\\/'\n",
      "<string>:1: SyntaxWarning: invalid escape sequence '\\/'\n",
      "<string>:1: SyntaxWarning: invalid escape sequence '\\/'\n",
      "<string>:1: SyntaxWarning: invalid escape sequence '\\/'\n",
      "<string>:1: SyntaxWarning: invalid escape sequence '\\/'\n",
      "<string>:1: SyntaxWarning: invalid escape sequence '\\/'\n",
      "<string>:1: SyntaxWarning: invalid escape sequence '\\/'\n",
      "<string>:1: SyntaxWarning: invalid escape sequence '\\/'\n",
      "<string>:1: SyntaxWarning: invalid escape sequence '\\/'\n",
      "<string>:1: SyntaxWarning: invalid escape sequence '\\/'\n",
      "<string>:1: SyntaxWarning: invalid escape sequence '\\/'\n",
      "<string>:1: SyntaxWarning: invalid escape sequence '\\/'\n",
      "<string>:1: SyntaxWarning: invalid escape sequence '\\/'\n",
      "<string>:1: SyntaxWarning: invalid escape sequence '\\/'\n",
      "<string>:1: SyntaxWarning: invalid escape sequence '\\/'\n",
      "<string>:1: SyntaxWarning: invalid escape sequence '\\/'\n",
      "<string>:1: SyntaxWarning: invalid escape sequence '\\/'\n",
      "<string>:1: SyntaxWarning: invalid escape sequence '\\/'\n",
      "<string>:1: SyntaxWarning: invalid escape sequence '\\/'\n",
      "<string>:1: SyntaxWarning: invalid escape sequence '\\/'\n",
      "<string>:1: SyntaxWarning: invalid escape sequence '\\/'\n",
      "<string>:1: SyntaxWarning: invalid escape sequence '\\/'\n",
      "<string>:1: SyntaxWarning: invalid escape sequence '\\/'\n",
      "<string>:1: SyntaxWarning: invalid escape sequence '\\/'\n",
      "<string>:1: SyntaxWarning: invalid escape sequence '\\/'\n",
      "<string>:1: SyntaxWarning: invalid escape sequence '\\/'\n",
      "<string>:1: SyntaxWarning: invalid escape sequence '\\/'\n",
      "<string>:1: SyntaxWarning: invalid escape sequence '\\/'\n",
      "<string>:1: SyntaxWarning: invalid escape sequence '\\/'\n",
      "<string>:1: SyntaxWarning: invalid escape sequence '\\/'\n",
      "<string>:1: SyntaxWarning: invalid escape sequence '\\/'\n",
      "<string>:1: SyntaxWarning: invalid escape sequence '\\/'\n",
      "<string>:1: SyntaxWarning: invalid escape sequence '\\/'\n",
      "<string>:1: SyntaxWarning: invalid escape sequence '\\/'\n",
      "<string>:1: SyntaxWarning: invalid escape sequence '\\/'\n",
      "<string>:1: SyntaxWarning: invalid escape sequence '\\/'\n",
      "<string>:1: SyntaxWarning: invalid escape sequence '\\/'\n",
      "<string>:1: SyntaxWarning: invalid escape sequence '\\/'\n",
      "<string>:1: SyntaxWarning: invalid escape sequence '\\/'\n",
      "<string>:1: SyntaxWarning: invalid escape sequence '\\/'\n",
      "<string>:1: SyntaxWarning: invalid escape sequence '\\/'\n",
      "<string>:1: SyntaxWarning: invalid escape sequence '\\/'\n",
      "<string>:1: SyntaxWarning: invalid escape sequence '\\/'\n",
      "<string>:1: SyntaxWarning: invalid escape sequence '\\/'\n",
      "<string>:1: SyntaxWarning: invalid escape sequence '\\/'\n",
      "<string>:1: SyntaxWarning: invalid escape sequence '\\/'\n",
      "<string>:1: SyntaxWarning: invalid escape sequence '\\/'\n",
      "<string>:1: SyntaxWarning: invalid escape sequence '\\/'\n",
      "<string>:1: SyntaxWarning: invalid escape sequence '\\/'\n",
      "<string>:1: SyntaxWarning: invalid escape sequence '\\/'\n",
      "<string>:1: SyntaxWarning: invalid escape sequence '\\/'\n",
      "<string>:1: SyntaxWarning: invalid escape sequence '\\/'\n",
      "<string>:1: SyntaxWarning: invalid escape sequence '\\/'\n",
      "<string>:1: SyntaxWarning: invalid escape sequence '\\/'\n",
      "<string>:1: SyntaxWarning: invalid escape sequence '\\/'\n",
      "<string>:1: SyntaxWarning: invalid escape sequence '\\/'\n",
      "<string>:1: SyntaxWarning: invalid escape sequence '\\/'\n",
      "<string>:1: SyntaxWarning: invalid escape sequence '\\/'\n",
      "<string>:1: SyntaxWarning: invalid escape sequence '\\/'\n",
      "<string>:1: SyntaxWarning: invalid escape sequence '\\/'\n",
      "<string>:1: SyntaxWarning: invalid escape sequence '\\/'\n",
      "<string>:1: SyntaxWarning: invalid escape sequence '\\/'\n",
      "<string>:1: SyntaxWarning: invalid escape sequence '\\/'\n",
      "<string>:1: SyntaxWarning: invalid escape sequence '\\/'\n",
      "<string>:1: SyntaxWarning: invalid escape sequence '\\/'\n",
      "<string>:1: SyntaxWarning: invalid escape sequence '\\/'\n",
      "<string>:1: SyntaxWarning: invalid escape sequence '\\/'\n",
      "<string>:1: SyntaxWarning: invalid escape sequence '\\/'\n",
      "<string>:1: SyntaxWarning: invalid escape sequence '\\/'\n",
      "<string>:1: SyntaxWarning: invalid escape sequence '\\/'\n",
      "<string>:1: SyntaxWarning: invalid escape sequence '\\/'\n",
      "<string>:1: SyntaxWarning: invalid escape sequence '\\/'\n",
      "<string>:1: SyntaxWarning: invalid escape sequence '\\/'\n",
      "<string>:1: SyntaxWarning: invalid escape sequence '\\/'\n",
      "<string>:1: SyntaxWarning: invalid escape sequence '\\/'\n",
      "<string>:1: SyntaxWarning: invalid escape sequence '\\/'\n",
      "<string>:1: SyntaxWarning: invalid escape sequence '\\/'\n",
      "<string>:1: SyntaxWarning: invalid escape sequence '\\/'\n",
      "<string>:1: SyntaxWarning: invalid escape sequence '\\/'\n",
      "<string>:1: SyntaxWarning: invalid escape sequence '\\/'\n",
      "<string>:1: SyntaxWarning: invalid escape sequence '\\/'\n",
      "<string>:1: SyntaxWarning: invalid escape sequence '\\/'\n",
      "<string>:1: SyntaxWarning: invalid escape sequence '\\/'\n",
      "<string>:1: SyntaxWarning: invalid escape sequence '\\/'\n",
      "<string>:1: SyntaxWarning: invalid escape sequence '\\/'\n",
      "<string>:1: SyntaxWarning: invalid escape sequence '\\/'\n",
      "<string>:1: SyntaxWarning: invalid escape sequence '\\/'\n",
      "<string>:1: SyntaxWarning: invalid escape sequence '\\/'\n",
      "<string>:1: SyntaxWarning: invalid escape sequence '\\/'\n",
      "<string>:1: SyntaxWarning: invalid escape sequence '\\/'\n",
      "<string>:1: SyntaxWarning: invalid escape sequence '\\/'\n",
      "<string>:1: SyntaxWarning: invalid escape sequence '\\/'\n",
      "<string>:1: SyntaxWarning: invalid escape sequence '\\/'\n",
      "<string>:1: SyntaxWarning: invalid escape sequence '\\/'\n",
      "<string>:1: SyntaxWarning: invalid escape sequence '\\/'\n",
      "<string>:1: SyntaxWarning: invalid escape sequence '\\/'\n",
      "<string>:1: SyntaxWarning: invalid escape sequence '\\/'\n",
      "<string>:1: SyntaxWarning: invalid escape sequence '\\/'\n",
      "<string>:1: SyntaxWarning: invalid escape sequence '\\/'\n",
      "<string>:1: SyntaxWarning: invalid escape sequence '\\/'\n",
      "<string>:1: SyntaxWarning: invalid escape sequence '\\/'\n",
      "<string>:1: SyntaxWarning: invalid escape sequence '\\/'\n",
      "<string>:1: SyntaxWarning: invalid escape sequence '\\/'\n",
      "<string>:1: SyntaxWarning: invalid escape sequence '\\/'\n",
      "<string>:1: SyntaxWarning: invalid escape sequence '\\/'\n",
      "<string>:1: SyntaxWarning: invalid escape sequence '\\/'\n",
      "<string>:1: SyntaxWarning: invalid escape sequence '\\/'\n",
      "<string>:1: SyntaxWarning: invalid escape sequence '\\/'\n",
      "<string>:1: SyntaxWarning: invalid escape sequence '\\/'\n",
      "<string>:1: SyntaxWarning: invalid escape sequence '\\/'\n",
      "<string>:1: SyntaxWarning: invalid escape sequence '\\/'\n",
      "<string>:1: SyntaxWarning: invalid escape sequence '\\/'\n",
      "<string>:1: SyntaxWarning: invalid escape sequence '\\/'\n",
      "<string>:1: SyntaxWarning: invalid escape sequence '\\/'\n",
      "<string>:1: SyntaxWarning: invalid escape sequence '\\/'\n",
      "<string>:1: SyntaxWarning: invalid escape sequence '\\/'\n",
      "<string>:1: SyntaxWarning: invalid escape sequence '\\/'\n",
      "<string>:1: SyntaxWarning: invalid escape sequence '\\/'\n",
      "<string>:1: SyntaxWarning: invalid escape sequence '\\/'\n",
      "<string>:1: SyntaxWarning: invalid escape sequence '\\/'\n",
      "<string>:1: SyntaxWarning: invalid escape sequence '\\/'\n",
      "<string>:1: SyntaxWarning: invalid escape sequence '\\/'\n",
      "<string>:1: SyntaxWarning: invalid escape sequence '\\/'\n",
      "<string>:1: SyntaxWarning: invalid escape sequence '\\/'\n",
      "<string>:1: SyntaxWarning: invalid escape sequence '\\/'\n",
      "<string>:1: SyntaxWarning: invalid escape sequence '\\/'\n",
      "<string>:1: SyntaxWarning: invalid escape sequence '\\/'\n",
      "<string>:1: SyntaxWarning: invalid escape sequence '\\/'\n",
      "<string>:1: SyntaxWarning: invalid escape sequence '\\/'\n",
      "<string>:1: SyntaxWarning: invalid escape sequence '\\/'\n",
      "<string>:1: SyntaxWarning: invalid escape sequence '\\/'\n",
      "<string>:1: SyntaxWarning: invalid escape sequence '\\/'\n",
      "<string>:1: SyntaxWarning: invalid escape sequence '\\/'\n",
      "<string>:1: SyntaxWarning: invalid escape sequence '\\/'\n",
      "<string>:1: SyntaxWarning: invalid escape sequence '\\/'\n",
      "<string>:1: SyntaxWarning: invalid escape sequence '\\/'\n",
      "<string>:1: SyntaxWarning: invalid escape sequence '\\/'\n",
      "<string>:1: SyntaxWarning: invalid escape sequence '\\/'\n",
      "<string>:1: SyntaxWarning: invalid escape sequence '\\/'\n",
      "<string>:1: SyntaxWarning: invalid escape sequence '\\/'\n",
      "<string>:1: SyntaxWarning: invalid escape sequence '\\/'\n",
      "<string>:1: SyntaxWarning: invalid escape sequence '\\/'\n",
      "<string>:1: SyntaxWarning: invalid escape sequence '\\/'\n",
      "<string>:1: SyntaxWarning: invalid escape sequence '\\/'\n",
      "<string>:1: SyntaxWarning: invalid escape sequence '\\/'\n",
      "<string>:1: SyntaxWarning: invalid escape sequence '\\/'\n",
      "<string>:1: SyntaxWarning: invalid escape sequence '\\/'\n",
      "<string>:1: SyntaxWarning: invalid escape sequence '\\/'\n",
      "<string>:1: SyntaxWarning: invalid escape sequence '\\/'\n",
      "<string>:1: SyntaxWarning: invalid escape sequence '\\/'\n",
      "<string>:1: SyntaxWarning: invalid escape sequence '\\/'\n",
      "<string>:1: SyntaxWarning: invalid escape sequence '\\/'\n",
      "<string>:1: SyntaxWarning: invalid escape sequence '\\/'\n",
      "<string>:1: SyntaxWarning: invalid escape sequence '\\/'\n",
      "<string>:1: SyntaxWarning: invalid escape sequence '\\/'\n",
      "<string>:1: SyntaxWarning: invalid escape sequence '\\/'\n",
      "<string>:1: SyntaxWarning: invalid escape sequence '\\/'\n",
      "<string>:1: SyntaxWarning: invalid escape sequence '\\/'\n",
      "<string>:1: SyntaxWarning: invalid escape sequence '\\/'\n",
      "<string>:1: SyntaxWarning: invalid escape sequence '\\/'\n",
      "<string>:1: SyntaxWarning: invalid escape sequence '\\/'\n",
      "<string>:1: SyntaxWarning: invalid escape sequence '\\/'\n",
      "<string>:1: SyntaxWarning: invalid escape sequence '\\/'\n",
      "<string>:1: SyntaxWarning: invalid escape sequence '\\/'\n",
      "<string>:1: SyntaxWarning: invalid escape sequence '\\/'\n",
      "<string>:1: SyntaxWarning: invalid escape sequence '\\/'\n",
      "<string>:1: SyntaxWarning: invalid escape sequence '\\/'\n",
      "<string>:1: SyntaxWarning: invalid escape sequence '\\/'\n",
      "<string>:1: SyntaxWarning: invalid escape sequence '\\/'\n",
      "<string>:1: SyntaxWarning: invalid escape sequence '\\/'\n",
      "<string>:1: SyntaxWarning: invalid escape sequence '\\/'\n",
      "<string>:1: SyntaxWarning: invalid escape sequence '\\/'\n",
      "<string>:1: SyntaxWarning: invalid escape sequence '\\/'\n",
      "<string>:1: SyntaxWarning: invalid escape sequence '\\/'\n",
      "<string>:1: SyntaxWarning: invalid escape sequence '\\/'\n",
      "<string>:1: SyntaxWarning: invalid escape sequence '\\/'\n",
      "<string>:1: SyntaxWarning: invalid escape sequence '\\/'\n",
      "<string>:1: SyntaxWarning: invalid escape sequence '\\/'\n",
      "<string>:1: SyntaxWarning: invalid escape sequence '\\/'\n",
      "<string>:1: SyntaxWarning: invalid escape sequence '\\/'\n",
      "<string>:1: SyntaxWarning: invalid escape sequence '\\/'\n",
      "<string>:1: SyntaxWarning: invalid escape sequence '\\/'\n",
      "<string>:1: SyntaxWarning: invalid escape sequence '\\/'\n",
      "<string>:1: SyntaxWarning: invalid escape sequence '\\/'\n",
      "<string>:1: SyntaxWarning: invalid escape sequence '\\/'\n",
      "<string>:1: SyntaxWarning: invalid escape sequence '\\/'\n",
      "<string>:1: SyntaxWarning: invalid escape sequence '\\/'\n",
      "<string>:1: SyntaxWarning: invalid escape sequence '\\/'\n",
      "<string>:1: SyntaxWarning: invalid escape sequence '\\/'\n",
      "<string>:1: SyntaxWarning: invalid escape sequence '\\/'\n",
      "<string>:1: SyntaxWarning: invalid escape sequence '\\/'\n",
      "<string>:1: SyntaxWarning: invalid escape sequence '\\/'\n",
      "<string>:1: SyntaxWarning: invalid escape sequence '\\/'\n",
      "<string>:1: SyntaxWarning: invalid escape sequence '\\/'\n",
      "<string>:1: SyntaxWarning: invalid escape sequence '\\/'\n",
      "<string>:1: SyntaxWarning: invalid escape sequence '\\/'\n",
      "<string>:1: SyntaxWarning: invalid escape sequence '\\/'\n",
      "<string>:1: SyntaxWarning: invalid escape sequence '\\/'\n",
      "<string>:1: SyntaxWarning: invalid escape sequence '\\/'\n",
      "<string>:1: SyntaxWarning: invalid escape sequence '\\/'\n",
      "<string>:1: SyntaxWarning: invalid escape sequence '\\/'\n",
      "<string>:1: SyntaxWarning: invalid escape sequence '\\/'\n",
      "<string>:1: SyntaxWarning: invalid escape sequence '\\/'\n",
      "<string>:1: SyntaxWarning: invalid escape sequence '\\/'\n",
      "<string>:1: SyntaxWarning: invalid escape sequence '\\/'\n",
      "<string>:1: SyntaxWarning: invalid escape sequence '\\/'\n",
      "<string>:1: SyntaxWarning: invalid escape sequence '\\/'\n",
      "<string>:1: SyntaxWarning: invalid escape sequence '\\/'\n",
      "<string>:1: SyntaxWarning: invalid escape sequence '\\/'\n",
      "<string>:1: SyntaxWarning: invalid escape sequence '\\/'\n",
      "<string>:1: SyntaxWarning: invalid escape sequence '\\/'\n",
      "<string>:1: SyntaxWarning: invalid escape sequence '\\/'\n",
      "<string>:1: SyntaxWarning: invalid escape sequence '\\/'\n",
      "<string>:1: SyntaxWarning: invalid escape sequence '\\/'\n",
      "<string>:1: SyntaxWarning: invalid escape sequence '\\/'\n",
      "<string>:1: SyntaxWarning: invalid escape sequence '\\/'\n",
      "<string>:1: SyntaxWarning: invalid escape sequence '\\/'\n",
      "<string>:1: SyntaxWarning: invalid escape sequence '\\/'\n",
      "<string>:1: SyntaxWarning: invalid escape sequence '\\/'\n",
      "<string>:1: SyntaxWarning: invalid escape sequence '\\/'\n",
      "<string>:1: SyntaxWarning: invalid escape sequence '\\/'\n",
      "<string>:1: SyntaxWarning: invalid escape sequence '\\/'\n",
      "<string>:1: SyntaxWarning: invalid escape sequence '\\/'\n",
      "<string>:1: SyntaxWarning: invalid escape sequence '\\/'\n",
      "<string>:1: SyntaxWarning: invalid escape sequence '\\/'\n",
      "<string>:1: SyntaxWarning: invalid escape sequence '\\/'\n",
      "<string>:1: SyntaxWarning: invalid escape sequence '\\/'\n",
      "<string>:1: SyntaxWarning: invalid escape sequence '\\/'\n",
      "<string>:1: SyntaxWarning: invalid escape sequence '\\/'\n",
      "<string>:1: SyntaxWarning: invalid escape sequence '\\/'\n",
      "<string>:1: SyntaxWarning: invalid escape sequence '\\/'\n",
      "<string>:1: SyntaxWarning: invalid escape sequence '\\/'\n",
      "<string>:1: SyntaxWarning: invalid escape sequence '\\/'\n",
      "<string>:1: SyntaxWarning: invalid escape sequence '\\/'\n",
      "<string>:1: SyntaxWarning: invalid escape sequence '\\/'\n",
      "<string>:1: SyntaxWarning: invalid escape sequence '\\/'\n",
      "<string>:1: SyntaxWarning: invalid escape sequence '\\/'\n",
      "<string>:1: SyntaxWarning: invalid escape sequence '\\/'\n",
      "<string>:1: SyntaxWarning: invalid escape sequence '\\/'\n",
      "<string>:1: SyntaxWarning: invalid escape sequence '\\/'\n",
      "<string>:1: SyntaxWarning: invalid escape sequence '\\/'\n",
      "<string>:1: SyntaxWarning: invalid escape sequence '\\/'\n",
      "<string>:1: SyntaxWarning: invalid escape sequence '\\/'\n",
      "<string>:1: SyntaxWarning: invalid escape sequence '\\/'\n",
      "<string>:1: SyntaxWarning: invalid escape sequence '\\/'\n",
      "<string>:1: SyntaxWarning: invalid escape sequence '\\/'\n",
      "<string>:1: SyntaxWarning: invalid escape sequence '\\/'\n",
      "<string>:1: SyntaxWarning: invalid escape sequence '\\/'\n",
      "<string>:1: SyntaxWarning: invalid escape sequence '\\/'\n",
      "<string>:1: SyntaxWarning: invalid escape sequence '\\/'\n",
      "<string>:1: SyntaxWarning: invalid escape sequence '\\/'\n",
      "<string>:1: SyntaxWarning: invalid escape sequence '\\/'\n",
      "<string>:1: SyntaxWarning: invalid escape sequence '\\/'\n",
      "<string>:1: SyntaxWarning: invalid escape sequence '\\/'\n",
      "<string>:1: SyntaxWarning: invalid escape sequence '\\/'\n",
      "<string>:1: SyntaxWarning: invalid escape sequence '\\/'\n",
      "<string>:1: SyntaxWarning: invalid escape sequence '\\/'\n",
      "<string>:1: SyntaxWarning: invalid escape sequence '\\/'\n",
      "<string>:1: SyntaxWarning: invalid escape sequence '\\/'\n",
      "<string>:1: SyntaxWarning: invalid escape sequence '\\/'\n",
      "<string>:1: SyntaxWarning: invalid escape sequence '\\/'\n",
      "<string>:1: SyntaxWarning: invalid escape sequence '\\/'\n",
      "<string>:1: SyntaxWarning: invalid escape sequence '\\/'\n",
      "<string>:1: SyntaxWarning: invalid escape sequence '\\/'\n",
      "<string>:1: SyntaxWarning: invalid escape sequence '\\/'\n",
      "<string>:1: SyntaxWarning: invalid escape sequence '\\/'\n",
      "<string>:1: SyntaxWarning: invalid escape sequence '\\/'\n",
      "<string>:1: SyntaxWarning: invalid escape sequence '\\/'\n",
      "<string>:1: SyntaxWarning: invalid escape sequence '\\/'\n",
      "<string>:1: SyntaxWarning: invalid escape sequence '\\/'\n",
      "<string>:1: SyntaxWarning: invalid escape sequence '\\/'\n",
      "<string>:1: SyntaxWarning: invalid escape sequence '\\/'\n",
      "<string>:1: SyntaxWarning: invalid escape sequence '\\/'\n",
      "<string>:1: SyntaxWarning: invalid escape sequence '\\/'\n",
      "<string>:1: SyntaxWarning: invalid escape sequence '\\/'\n",
      "<string>:1: SyntaxWarning: invalid escape sequence '\\/'\n",
      "<string>:1: SyntaxWarning: invalid escape sequence '\\/'\n",
      "<string>:1: SyntaxWarning: invalid escape sequence '\\/'\n",
      "<string>:1: SyntaxWarning: invalid escape sequence '\\/'\n",
      "<string>:1: SyntaxWarning: invalid escape sequence '\\/'\n",
      "<string>:1: SyntaxWarning: invalid escape sequence '\\/'\n",
      "<string>:1: SyntaxWarning: invalid escape sequence '\\/'\n",
      "<string>:1: SyntaxWarning: invalid escape sequence '\\/'\n",
      "<string>:1: SyntaxWarning: invalid escape sequence '\\/'\n",
      "<string>:1: SyntaxWarning: invalid escape sequence '\\/'\n",
      "<string>:1: SyntaxWarning: invalid escape sequence '\\/'\n",
      "<string>:1: SyntaxWarning: invalid escape sequence '\\/'\n",
      "<string>:1: SyntaxWarning: invalid escape sequence '\\/'\n",
      "<string>:1: SyntaxWarning: invalid escape sequence '\\/'\n",
      "<string>:1: SyntaxWarning: invalid escape sequence '\\/'\n",
      "<string>:1: SyntaxWarning: invalid escape sequence '\\/'\n",
      "<string>:1: SyntaxWarning: invalid escape sequence '\\/'\n",
      "<string>:1: SyntaxWarning: invalid escape sequence '\\/'\n",
      "<string>:1: SyntaxWarning: invalid escape sequence '\\/'\n",
      "<string>:1: SyntaxWarning: invalid escape sequence '\\/'\n",
      "<string>:1: SyntaxWarning: invalid escape sequence '\\/'\n",
      "<string>:1: SyntaxWarning: invalid escape sequence '\\/'\n",
      "<string>:1: SyntaxWarning: invalid escape sequence '\\/'\n",
      "<string>:1: SyntaxWarning: invalid escape sequence '\\/'\n",
      "<string>:1: SyntaxWarning: invalid escape sequence '\\/'\n",
      "<string>:1: SyntaxWarning: invalid escape sequence '\\/'\n",
      "<string>:1: SyntaxWarning: invalid escape sequence '\\/'\n",
      "<string>:1: SyntaxWarning: invalid escape sequence '\\/'\n",
      "<string>:1: SyntaxWarning: invalid escape sequence '\\/'\n",
      "<string>:1: SyntaxWarning: invalid escape sequence '\\/'\n",
      "<string>:1: SyntaxWarning: invalid escape sequence '\\/'\n",
      "<string>:1: SyntaxWarning: invalid escape sequence '\\/'\n",
      "<string>:1: SyntaxWarning: invalid escape sequence '\\/'\n",
      "<string>:1: SyntaxWarning: invalid escape sequence '\\/'\n",
      "<string>:1: SyntaxWarning: invalid escape sequence '\\/'\n",
      "<string>:1: SyntaxWarning: invalid escape sequence '\\/'\n",
      "<string>:1: SyntaxWarning: invalid escape sequence '\\/'\n",
      "<string>:1: SyntaxWarning: invalid escape sequence '\\/'\n",
      "<string>:1: SyntaxWarning: invalid escape sequence '\\/'\n",
      "<string>:1: SyntaxWarning: invalid escape sequence '\\/'\n",
      "<string>:1: SyntaxWarning: invalid escape sequence '\\/'\n",
      "<string>:1: SyntaxWarning: invalid escape sequence '\\/'\n",
      "<string>:1: SyntaxWarning: invalid escape sequence '\\/'\n",
      "<string>:1: SyntaxWarning: invalid escape sequence '\\/'\n",
      "<string>:1: SyntaxWarning: invalid escape sequence '\\/'\n",
      "<string>:1: SyntaxWarning: invalid escape sequence '\\/'\n",
      "<string>:1: SyntaxWarning: invalid escape sequence '\\/'\n",
      "<string>:1: SyntaxWarning: invalid escape sequence '\\/'\n",
      "<string>:1: SyntaxWarning: invalid escape sequence '\\/'\n",
      "<string>:1: SyntaxWarning: invalid escape sequence '\\/'\n",
      "<string>:1: SyntaxWarning: invalid escape sequence '\\/'\n",
      "<string>:1: SyntaxWarning: invalid escape sequence '\\/'\n",
      "<string>:1: SyntaxWarning: invalid escape sequence '\\/'\n",
      "<string>:1: SyntaxWarning: invalid escape sequence '\\/'\n",
      "<string>:1: SyntaxWarning: invalid escape sequence '\\/'\n",
      "<string>:1: SyntaxWarning: invalid escape sequence '\\/'\n",
      "<string>:1: SyntaxWarning: invalid escape sequence '\\/'\n",
      "<string>:1: SyntaxWarning: invalid escape sequence '\\/'\n",
      "<string>:1: SyntaxWarning: invalid escape sequence '\\/'\n",
      "<string>:1: SyntaxWarning: invalid escape sequence '\\/'\n",
      "<string>:1: SyntaxWarning: invalid escape sequence '\\/'\n",
      "<string>:1: SyntaxWarning: invalid escape sequence '\\/'\n",
      "<string>:1: SyntaxWarning: invalid escape sequence '\\/'\n",
      "<string>:1: SyntaxWarning: invalid escape sequence '\\/'\n",
      "<string>:1: SyntaxWarning: invalid escape sequence '\\/'\n",
      "<string>:1: SyntaxWarning: invalid escape sequence '\\/'\n",
      "<string>:1: SyntaxWarning: invalid escape sequence '\\/'\n",
      "<string>:1: SyntaxWarning: invalid escape sequence '\\/'\n",
      "<string>:1: SyntaxWarning: invalid escape sequence '\\/'\n",
      "<string>:1: SyntaxWarning: invalid escape sequence '\\/'\n",
      "<string>:1: SyntaxWarning: invalid escape sequence '\\/'\n",
      "<string>:1: SyntaxWarning: invalid escape sequence '\\/'\n",
      "<string>:1: SyntaxWarning: invalid escape sequence '\\/'\n",
      "<string>:1: SyntaxWarning: invalid escape sequence '\\/'\n",
      "<string>:1: SyntaxWarning: invalid escape sequence '\\/'\n",
      "<string>:1: SyntaxWarning: invalid escape sequence '\\/'\n",
      "<string>:1: SyntaxWarning: invalid escape sequence '\\/'\n",
      "<string>:1: SyntaxWarning: invalid escape sequence '\\/'\n",
      "<string>:1: SyntaxWarning: invalid escape sequence '\\/'\n",
      "<string>:1: SyntaxWarning: invalid escape sequence '\\/'\n",
      "<string>:1: SyntaxWarning: invalid escape sequence '\\/'\n",
      "<string>:1: SyntaxWarning: invalid escape sequence '\\/'\n",
      "<string>:1: SyntaxWarning: invalid escape sequence '\\/'\n",
      "<string>:1: SyntaxWarning: invalid escape sequence '\\/'\n",
      "<string>:1: SyntaxWarning: invalid escape sequence '\\/'\n",
      "<string>:1: SyntaxWarning: invalid escape sequence '\\/'\n",
      "<string>:1: SyntaxWarning: invalid escape sequence '\\/'\n",
      "<string>:1: SyntaxWarning: invalid escape sequence '\\/'\n",
      "<string>:1: SyntaxWarning: invalid escape sequence '\\/'\n",
      "<string>:1: SyntaxWarning: invalid escape sequence '\\/'\n",
      "<string>:1: SyntaxWarning: invalid escape sequence '\\/'\n",
      "<string>:1: SyntaxWarning: invalid escape sequence '\\/'\n",
      "<string>:1: SyntaxWarning: invalid escape sequence '\\/'\n",
      "<string>:1: SyntaxWarning: invalid escape sequence '\\/'\n",
      "<string>:1: SyntaxWarning: invalid escape sequence '\\/'\n",
      "<string>:1: SyntaxWarning: invalid escape sequence '\\/'\n",
      "<string>:1: SyntaxWarning: invalid escape sequence '\\/'\n",
      "<string>:1: SyntaxWarning: invalid escape sequence '\\/'\n",
      "<string>:1: SyntaxWarning: invalid escape sequence '\\/'\n",
      "<string>:1: SyntaxWarning: invalid escape sequence '\\/'\n",
      "<string>:1: SyntaxWarning: invalid escape sequence '\\/'\n",
      "<string>:1: SyntaxWarning: invalid escape sequence '\\/'\n",
      "<string>:1: SyntaxWarning: invalid escape sequence '\\/'\n",
      "<string>:1: SyntaxWarning: invalid escape sequence '\\/'\n",
      "<string>:1: SyntaxWarning: invalid escape sequence '\\/'\n",
      "<string>:1: SyntaxWarning: invalid escape sequence '\\/'\n",
      "<string>:1: SyntaxWarning: invalid escape sequence '\\/'\n",
      "<string>:1: SyntaxWarning: invalid escape sequence '\\/'\n",
      "<string>:1: SyntaxWarning: invalid escape sequence '\\/'\n",
      "<string>:1: SyntaxWarning: invalid escape sequence '\\/'\n",
      "<string>:1: SyntaxWarning: invalid escape sequence '\\/'\n",
      "<string>:1: SyntaxWarning: invalid escape sequence '\\/'\n",
      "<string>:1: SyntaxWarning: invalid escape sequence '\\/'\n",
      "<string>:1: SyntaxWarning: invalid escape sequence '\\/'\n",
      "<string>:1: SyntaxWarning: invalid escape sequence '\\/'\n",
      "<string>:1: SyntaxWarning: invalid escape sequence '\\/'\n",
      "<string>:1: SyntaxWarning: invalid escape sequence '\\/'\n",
      "<string>:1: SyntaxWarning: invalid escape sequence '\\/'\n",
      "<string>:1: SyntaxWarning: invalid escape sequence '\\/'\n",
      "<string>:1: SyntaxWarning: invalid escape sequence '\\/'\n",
      "<string>:1: SyntaxWarning: invalid escape sequence '\\/'\n",
      "<string>:1: SyntaxWarning: invalid escape sequence '\\/'\n",
      "<string>:1: SyntaxWarning: invalid escape sequence '\\/'\n",
      "<string>:1: SyntaxWarning: invalid escape sequence '\\/'\n",
      "<string>:1: SyntaxWarning: invalid escape sequence '\\/'\n",
      "<string>:1: SyntaxWarning: invalid escape sequence '\\/'\n",
      "<string>:1: SyntaxWarning: invalid escape sequence '\\/'\n",
      "<string>:1: SyntaxWarning: invalid escape sequence '\\/'\n",
      "<string>:1: SyntaxWarning: invalid escape sequence '\\/'\n",
      "<string>:1: SyntaxWarning: invalid escape sequence '\\/'\n",
      "<string>:1: SyntaxWarning: invalid escape sequence '\\/'\n",
      "<string>:1: SyntaxWarning: invalid escape sequence '\\/'\n",
      "<string>:1: SyntaxWarning: invalid escape sequence '\\/'\n",
      "<string>:1: SyntaxWarning: invalid escape sequence '\\/'\n",
      "<string>:1: SyntaxWarning: invalid escape sequence '\\/'\n",
      "<string>:1: SyntaxWarning: invalid escape sequence '\\/'\n",
      "<string>:1: SyntaxWarning: invalid escape sequence '\\/'\n",
      "<string>:1: SyntaxWarning: invalid escape sequence '\\/'\n",
      "<string>:1: SyntaxWarning: invalid escape sequence '\\/'\n",
      "<string>:1: SyntaxWarning: invalid escape sequence '\\/'\n",
      "<string>:1: SyntaxWarning: invalid escape sequence '\\/'\n",
      "<string>:1: SyntaxWarning: invalid escape sequence '\\/'\n",
      "<string>:1: SyntaxWarning: invalid escape sequence '\\/'\n",
      "<string>:1: SyntaxWarning: invalid escape sequence '\\/'\n",
      "<string>:1: SyntaxWarning: invalid escape sequence '\\/'\n",
      "<string>:1: SyntaxWarning: invalid escape sequence '\\/'\n",
      "<string>:1: SyntaxWarning: invalid escape sequence '\\/'\n",
      "<string>:1: SyntaxWarning: invalid escape sequence '\\/'\n",
      "<string>:1: SyntaxWarning: invalid escape sequence '\\/'\n",
      "<string>:1: SyntaxWarning: invalid escape sequence '\\/'\n",
      "<string>:1: SyntaxWarning: invalid escape sequence '\\/'\n",
      "<string>:1: SyntaxWarning: invalid escape sequence '\\/'\n",
      "<string>:1: SyntaxWarning: invalid escape sequence '\\/'\n",
      "<string>:1: SyntaxWarning: invalid escape sequence '\\/'\n",
      "<string>:1: SyntaxWarning: invalid escape sequence '\\/'\n",
      "<string>:1: SyntaxWarning: invalid escape sequence '\\/'\n",
      "<string>:1: SyntaxWarning: invalid escape sequence '\\/'\n",
      "<string>:1: SyntaxWarning: invalid escape sequence '\\/'\n",
      "<string>:1: SyntaxWarning: invalid escape sequence '\\/'\n",
      "<string>:1: SyntaxWarning: invalid escape sequence '\\/'\n",
      "<string>:1: SyntaxWarning: invalid escape sequence '\\/'\n",
      "<string>:1: SyntaxWarning: invalid escape sequence '\\/'\n",
      "<string>:1: SyntaxWarning: invalid escape sequence '\\/'\n",
      "<string>:1: SyntaxWarning: invalid escape sequence '\\/'\n",
      "<string>:1: SyntaxWarning: invalid escape sequence '\\/'\n",
      "<string>:1: SyntaxWarning: invalid escape sequence '\\/'\n",
      "<string>:1: SyntaxWarning: invalid escape sequence '\\/'\n",
      "<string>:1: SyntaxWarning: invalid escape sequence '\\/'\n",
      "<string>:1: SyntaxWarning: invalid escape sequence '\\/'\n",
      "<string>:1: SyntaxWarning: invalid escape sequence '\\/'\n",
      "<string>:1: SyntaxWarning: invalid escape sequence '\\/'\n",
      "<string>:1: SyntaxWarning: invalid escape sequence '\\/'\n",
      "<string>:1: SyntaxWarning: invalid escape sequence '\\/'\n",
      "<string>:1: SyntaxWarning: invalid escape sequence '\\/'\n",
      "<string>:1: SyntaxWarning: invalid escape sequence '\\/'\n",
      "<string>:1: SyntaxWarning: invalid escape sequence '\\/'\n",
      "<string>:1: SyntaxWarning: invalid escape sequence '\\/'\n",
      "<string>:1: SyntaxWarning: invalid escape sequence '\\/'\n",
      "<string>:1: SyntaxWarning: invalid escape sequence '\\/'\n",
      "<string>:1: SyntaxWarning: invalid escape sequence '\\/'\n",
      "<string>:1: SyntaxWarning: invalid escape sequence '\\/'\n",
      "<string>:1: SyntaxWarning: invalid escape sequence '\\/'\n",
      "<string>:1: SyntaxWarning: invalid escape sequence '\\/'\n",
      "<string>:1: SyntaxWarning: invalid escape sequence '\\/'\n",
      "<string>:1: SyntaxWarning: invalid escape sequence '\\/'\n",
      "<string>:1: SyntaxWarning: invalid escape sequence '\\/'\n",
      "<string>:1: SyntaxWarning: invalid escape sequence '\\/'\n",
      "<string>:1: SyntaxWarning: invalid escape sequence '\\/'\n",
      "<string>:1: SyntaxWarning: invalid escape sequence '\\/'\n",
      "<string>:1: SyntaxWarning: invalid escape sequence '\\/'\n",
      "<string>:1: SyntaxWarning: invalid escape sequence '\\/'\n",
      "<string>:1: SyntaxWarning: invalid escape sequence '\\/'\n",
      "<string>:1: SyntaxWarning: invalid escape sequence '\\/'\n",
      "<string>:1: SyntaxWarning: invalid escape sequence '\\/'\n",
      "<string>:1: SyntaxWarning: invalid escape sequence '\\/'\n",
      "<string>:1: SyntaxWarning: invalid escape sequence '\\/'\n",
      "<string>:1: SyntaxWarning: invalid escape sequence '\\/'\n",
      "<string>:1: SyntaxWarning: invalid escape sequence '\\/'\n",
      "<string>:1: SyntaxWarning: invalid escape sequence '\\/'\n",
      "<string>:1: SyntaxWarning: invalid escape sequence '\\/'\n",
      "<string>:1: SyntaxWarning: invalid escape sequence '\\/'\n",
      "<string>:1: SyntaxWarning: invalid escape sequence '\\/'\n",
      "<string>:1: SyntaxWarning: invalid escape sequence '\\/'\n",
      "<string>:1: SyntaxWarning: invalid escape sequence '\\/'\n",
      "<string>:1: SyntaxWarning: invalid escape sequence '\\/'\n",
      "<string>:1: SyntaxWarning: invalid escape sequence '\\/'\n",
      "<string>:1: SyntaxWarning: invalid escape sequence '\\/'\n",
      "<string>:1: SyntaxWarning: invalid escape sequence '\\/'\n",
      "<string>:1: SyntaxWarning: invalid escape sequence '\\/'\n",
      "<string>:1: SyntaxWarning: invalid escape sequence '\\/'\n",
      "<string>:1: SyntaxWarning: invalid escape sequence '\\/'\n",
      "<string>:1: SyntaxWarning: invalid escape sequence '\\/'\n",
      "<string>:1: SyntaxWarning: invalid escape sequence '\\/'\n",
      "<string>:1: SyntaxWarning: invalid escape sequence '\\/'\n",
      "<string>:1: SyntaxWarning: invalid escape sequence '\\/'\n",
      "<string>:1: SyntaxWarning: invalid escape sequence '\\/'\n",
      "<string>:1: SyntaxWarning: invalid escape sequence '\\/'\n",
      "<string>:1: SyntaxWarning: invalid escape sequence '\\/'\n",
      "<string>:1: SyntaxWarning: invalid escape sequence '\\/'\n",
      "<string>:1: SyntaxWarning: invalid escape sequence '\\/'\n",
      "<string>:1: SyntaxWarning: invalid escape sequence '\\/'\n",
      "<string>:1: SyntaxWarning: invalid escape sequence '\\/'\n",
      "<string>:1: SyntaxWarning: invalid escape sequence '\\/'\n",
      "<string>:1: SyntaxWarning: invalid escape sequence '\\/'\n",
      "<string>:1: SyntaxWarning: invalid escape sequence '\\/'\n",
      "<string>:1: SyntaxWarning: invalid escape sequence '\\/'\n",
      "<string>:1: SyntaxWarning: invalid escape sequence '\\/'\n",
      "<string>:1: SyntaxWarning: invalid escape sequence '\\/'\n",
      "<string>:1: SyntaxWarning: invalid escape sequence '\\/'\n",
      "<string>:1: SyntaxWarning: invalid escape sequence '\\/'\n",
      "<string>:1: SyntaxWarning: invalid escape sequence '\\/'\n",
      "<string>:1: SyntaxWarning: invalid escape sequence '\\/'\n",
      "<string>:1: SyntaxWarning: invalid escape sequence '\\/'\n",
      "<string>:1: SyntaxWarning: invalid escape sequence '\\/'\n",
      "<string>:1: SyntaxWarning: invalid escape sequence '\\/'\n",
      "<string>:1: SyntaxWarning: invalid escape sequence '\\/'\n",
      "<string>:1: SyntaxWarning: invalid escape sequence '\\/'\n",
      "<string>:1: SyntaxWarning: invalid escape sequence '\\/'\n",
      "<string>:1: SyntaxWarning: invalid escape sequence '\\/'\n",
      "<string>:1: SyntaxWarning: invalid escape sequence '\\/'\n",
      "<string>:1: SyntaxWarning: invalid escape sequence '\\/'\n",
      "<string>:1: SyntaxWarning: invalid escape sequence '\\/'\n",
      "<string>:1: SyntaxWarning: invalid escape sequence '\\/'\n",
      "<string>:1: SyntaxWarning: invalid escape sequence '\\/'\n",
      "<string>:1: SyntaxWarning: invalid escape sequence '\\/'\n",
      "<string>:1: SyntaxWarning: invalid escape sequence '\\/'\n",
      "<string>:1: SyntaxWarning: invalid escape sequence '\\/'\n",
      "<string>:1: SyntaxWarning: invalid escape sequence '\\/'\n",
      "<string>:1: SyntaxWarning: invalid escape sequence '\\/'\n",
      "<string>:1: SyntaxWarning: invalid escape sequence '\\/'\n",
      "<string>:1: SyntaxWarning: invalid escape sequence '\\/'\n",
      "<string>:1: SyntaxWarning: invalid escape sequence '\\/'\n",
      "<string>:1: SyntaxWarning: invalid escape sequence '\\/'\n",
      "<string>:1: SyntaxWarning: invalid escape sequence '\\/'\n",
      "<string>:1: SyntaxWarning: invalid escape sequence '\\/'\n",
      "<string>:1: SyntaxWarning: invalid escape sequence '\\/'\n",
      "<string>:1: SyntaxWarning: invalid escape sequence '\\/'\n",
      "<string>:1: SyntaxWarning: invalid escape sequence '\\/'\n",
      "<string>:1: SyntaxWarning: invalid escape sequence '\\/'\n",
      "<string>:1: SyntaxWarning: invalid escape sequence '\\/'\n",
      "<string>:1: SyntaxWarning: invalid escape sequence '\\/'\n",
      "<string>:1: SyntaxWarning: invalid escape sequence '\\/'\n",
      "<string>:1: SyntaxWarning: invalid escape sequence '\\/'\n",
      "<string>:1: SyntaxWarning: invalid escape sequence '\\/'\n",
      "<string>:1: SyntaxWarning: invalid escape sequence '\\/'\n",
      "<string>:1: SyntaxWarning: invalid escape sequence '\\/'\n",
      "<string>:1: SyntaxWarning: invalid escape sequence '\\/'\n",
      "<string>:1: SyntaxWarning: invalid escape sequence '\\/'\n",
      "<string>:1: SyntaxWarning: invalid escape sequence '\\/'\n",
      "<string>:1: SyntaxWarning: invalid escape sequence '\\/'\n",
      "<string>:1: SyntaxWarning: invalid escape sequence '\\/'\n",
      "<string>:1: SyntaxWarning: invalid escape sequence '\\/'\n",
      "<string>:1: SyntaxWarning: invalid escape sequence '\\/'\n",
      "<string>:1: SyntaxWarning: invalid escape sequence '\\/'\n",
      "<string>:1: SyntaxWarning: invalid escape sequence '\\/'\n",
      "<string>:1: SyntaxWarning: invalid escape sequence '\\/'\n",
      "<string>:1: SyntaxWarning: invalid escape sequence '\\/'\n",
      "<string>:1: SyntaxWarning: invalid escape sequence '\\/'\n",
      "<string>:1: SyntaxWarning: invalid escape sequence '\\/'\n"
     ]
    },
    {
     "data": {
      "text/html": [
       "<div>\n",
       "<style scoped>\n",
       "    .dataframe tbody tr th:only-of-type {\n",
       "        vertical-align: middle;\n",
       "    }\n",
       "\n",
       "    .dataframe tbody tr th {\n",
       "        vertical-align: top;\n",
       "    }\n",
       "\n",
       "    .dataframe thead th {\n",
       "        text-align: right;\n",
       "    }\n",
       "</style>\n",
       "<table border=\"1\" class=\"dataframe\">\n",
       "  <thead>\n",
       "    <tr style=\"text-align: right;\">\n",
       "      <th></th>\n",
       "      <th>id</th>\n",
       "      <th>model_a</th>\n",
       "      <th>model_b</th>\n",
       "      <th>prompt</th>\n",
       "      <th>response_a</th>\n",
       "      <th>response_b</th>\n",
       "      <th>winner_model_a</th>\n",
       "      <th>winner_model_b</th>\n",
       "      <th>winner_tie</th>\n",
       "      <th>class_name</th>\n",
       "      <th>class_label</th>\n",
       "    </tr>\n",
       "  </thead>\n",
       "  <tbody>\n",
       "    <tr>\n",
       "      <th>37379</th>\n",
       "      <td>2785062085</td>\n",
       "      <td>gpt-3.5-turbo-0613</td>\n",
       "      <td>codellama-34b-instruct</td>\n",
       "      <td>what does hello world mean</td>\n",
       "      <td>\"Hello, World!\" is a phrase used in computer p...</td>\n",
       "      <td>\"Hello, World!\" is a common phrase used to dis...</td>\n",
       "      <td>1</td>\n",
       "      <td>0</td>\n",
       "      <td>0</td>\n",
       "      <td>winner_model_a</td>\n",
       "      <td>0</td>\n",
       "    </tr>\n",
       "    <tr>\n",
       "      <th>644</th>\n",
       "      <td>48259531</td>\n",
       "      <td>mistral-medium</td>\n",
       "      <td>gpt-4-0314</td>\n",
       "      <td>I ran a marathon in 3:12:00 weighting 84kg. Ho...</td>\n",
       "      <td>It's difficult to provide an exact answer to t...</td>\n",
       "      <td>To accurately estimate how much faster you wou...</td>\n",
       "      <td>1</td>\n",
       "      <td>0</td>\n",
       "      <td>0</td>\n",
       "      <td>winner_model_a</td>\n",
       "      <td>0</td>\n",
       "    </tr>\n",
       "    <tr>\n",
       "      <th>48496</th>\n",
       "      <td>3622731894</td>\n",
       "      <td>gpt-4-0314</td>\n",
       "      <td>gpt-3.5-turbo-0314</td>\n",
       "      <td>Below is an instruction that describes a task,...</td>\n",
       "      <td>这款纯色五分裤设计简约大方，采用精美的刺绣图案，展现出独特的时尚魅力。裤子的质感舒适，穿着轻...</td>\n",
       "      <td>根据提供的产品风格特征，可以生成如下的产品文案评论：\\n\\n这款五分裤采用纯色设计，搭配精致...</td>\n",
       "      <td>0</td>\n",
       "      <td>0</td>\n",
       "      <td>1</td>\n",
       "      <td>winner_tie</td>\n",
       "      <td>2</td>\n",
       "    </tr>\n",
       "    <tr>\n",
       "      <th>12603</th>\n",
       "      <td>933663766</td>\n",
       "      <td>openchat-3.5</td>\n",
       "      <td>gpt-3.5-turbo-0613</td>\n",
       "      <td>How do I run static analysis with gcc in QT Cr...</td>\n",
       "      <td>To run static analysis with gcc in QT Creator,...</td>\n",
       "      <td>To run static analysis with gcc in QT Creator,...</td>\n",
       "      <td>1</td>\n",
       "      <td>0</td>\n",
       "      <td>0</td>\n",
       "      <td>winner_model_a</td>\n",
       "      <td>0</td>\n",
       "    </tr>\n",
       "    <tr>\n",
       "      <th>16697</th>\n",
       "      <td>1246768370</td>\n",
       "      <td>codellama-34b-instruct</td>\n",
       "      <td>mixtral-8x7b-instruct-v0.1</td>\n",
       "      <td>What did the music producer Øfdream die of?</td>\n",
       "      <td>I am not able to provide information on the ca...</td>\n",
       "      <td>I'm really sorry, but I don't have the ability...</td>\n",
       "      <td>1</td>\n",
       "      <td>0</td>\n",
       "      <td>0</td>\n",
       "      <td>winner_model_a</td>\n",
       "      <td>0</td>\n",
       "    </tr>\n",
       "  </tbody>\n",
       "</table>\n",
       "</div>"
      ],
      "text/plain": [
       "               id                 model_a                     model_b  \\\n",
       "37379  2785062085      gpt-3.5-turbo-0613      codellama-34b-instruct   \n",
       "644      48259531          mistral-medium                  gpt-4-0314   \n",
       "48496  3622731894              gpt-4-0314          gpt-3.5-turbo-0314   \n",
       "12603   933663766            openchat-3.5          gpt-3.5-turbo-0613   \n",
       "16697  1246768370  codellama-34b-instruct  mixtral-8x7b-instruct-v0.1   \n",
       "\n",
       "                                                  prompt  \\\n",
       "37379                         what does hello world mean   \n",
       "644    I ran a marathon in 3:12:00 weighting 84kg. Ho...   \n",
       "48496  Below is an instruction that describes a task,...   \n",
       "12603  How do I run static analysis with gcc in QT Cr...   \n",
       "16697       What did the music producer Øfdream die of?    \n",
       "\n",
       "                                              response_a  \\\n",
       "37379  \"Hello, World!\" is a phrase used in computer p...   \n",
       "644    It's difficult to provide an exact answer to t...   \n",
       "48496  这款纯色五分裤设计简约大方，采用精美的刺绣图案，展现出独特的时尚魅力。裤子的质感舒适，穿着轻...   \n",
       "12603  To run static analysis with gcc in QT Creator,...   \n",
       "16697  I am not able to provide information on the ca...   \n",
       "\n",
       "                                              response_b  winner_model_a  \\\n",
       "37379  \"Hello, World!\" is a common phrase used to dis...               1   \n",
       "644    To accurately estimate how much faster you wou...               1   \n",
       "48496  根据提供的产品风格特征，可以生成如下的产品文案评论：\\n\\n这款五分裤采用纯色设计，搭配精致...               0   \n",
       "12603  To run static analysis with gcc in QT Creator,...               1   \n",
       "16697  I'm really sorry, but I don't have the ability...               1   \n",
       "\n",
       "       winner_model_b  winner_tie      class_name  class_label  \n",
       "37379               0           0  winner_model_a            0  \n",
       "644                 0           0  winner_model_a            0  \n",
       "48496               0           1      winner_tie            2  \n",
       "12603               0           0  winner_model_a            0  \n",
       "16697               0           0  winner_model_a            0  "
      ]
     },
     "execution_count": 6,
     "metadata": {},
     "output_type": "execute_result"
    }
   ],
   "source": [
    "keras.utils.set_random_seed(CFG.seed)\n",
    "keras.mixed_precision.set_global_policy(\"mixed_float16\")\n",
    "\n",
    "# Load Train Data\n",
    "df = pd.read_csv('train.csv') \n",
    "\n",
    "# Sample data\n",
    "df = df.sample(frac=0.10)\n",
    "\n",
    "# Take the first prompt and its associated response\n",
    "df[\"prompt\"] = df.prompt.map(lambda x: eval(x)[0])\n",
    "df[\"response_a\"] = df.response_a.map(lambda x: eval(x.replace(\"null\",\"''\"))[0])\n",
    "df[\"response_b\"] = df.response_b.map(lambda x: eval(x.replace(\"null\", \"''\"))[0])\n",
    "\n",
    "# Label conversion\n",
    "df[\"class_name\"] = df[[\"winner_model_a\", \"winner_model_b\" , \"winner_tie\"]].idxmax(axis=1)\n",
    "df[\"class_label\"] = df.class_name.map(CFG.name2label)\n",
    "\n",
    "# Show Sample\n",
    "df.head()"
   ]
  },
  {
   "cell_type": "code",
   "execution_count": 7,
   "id": "e5e611c4",
   "metadata": {},
   "outputs": [
    {
     "name": "stderr",
     "output_type": "stream",
     "text": [
      "<string>:1: SyntaxWarning: invalid escape sequence '\\/'\n"
     ]
    },
    {
     "data": {
      "text/html": [
       "<div>\n",
       "<style scoped>\n",
       "    .dataframe tbody tr th:only-of-type {\n",
       "        vertical-align: middle;\n",
       "    }\n",
       "\n",
       "    .dataframe tbody tr th {\n",
       "        vertical-align: top;\n",
       "    }\n",
       "\n",
       "    .dataframe thead th {\n",
       "        text-align: right;\n",
       "    }\n",
       "</style>\n",
       "<table border=\"1\" class=\"dataframe\">\n",
       "  <thead>\n",
       "    <tr style=\"text-align: right;\">\n",
       "      <th></th>\n",
       "      <th>id</th>\n",
       "      <th>prompt</th>\n",
       "      <th>response_a</th>\n",
       "      <th>response_b</th>\n",
       "    </tr>\n",
       "  </thead>\n",
       "  <tbody>\n",
       "    <tr>\n",
       "      <th>0</th>\n",
       "      <td>136060</td>\n",
       "      <td>I have three oranges today, I ate an orange ye...</td>\n",
       "      <td>You have two oranges today.</td>\n",
       "      <td>You still have three oranges. Eating an orange...</td>\n",
       "    </tr>\n",
       "    <tr>\n",
       "      <th>1</th>\n",
       "      <td>211333</td>\n",
       "      <td>You are a mediator in a heated political debat...</td>\n",
       "      <td>Thank you for sharing the details of the situa...</td>\n",
       "      <td>Mr Reddy and Ms Blue both have valid points in...</td>\n",
       "    </tr>\n",
       "    <tr>\n",
       "      <th>2</th>\n",
       "      <td>1233961</td>\n",
       "      <td>How to initialize the classification head when...</td>\n",
       "      <td>When you want to initialize the classification...</td>\n",
       "      <td>To initialize the classification head when per...</td>\n",
       "    </tr>\n",
       "  </tbody>\n",
       "</table>\n",
       "</div>"
      ],
      "text/plain": [
       "        id                                             prompt  \\\n",
       "0   136060  I have three oranges today, I ate an orange ye...   \n",
       "1   211333  You are a mediator in a heated political debat...   \n",
       "2  1233961  How to initialize the classification head when...   \n",
       "\n",
       "                                          response_a  \\\n",
       "0                        You have two oranges today.   \n",
       "1  Thank you for sharing the details of the situa...   \n",
       "2  When you want to initialize the classification...   \n",
       "\n",
       "                                          response_b  \n",
       "0  You still have three oranges. Eating an orange...  \n",
       "1  Mr Reddy and Ms Blue both have valid points in...  \n",
       "2  To initialize the classification head when per...  "
      ]
     },
     "execution_count": 7,
     "metadata": {},
     "output_type": "execute_result"
    }
   ],
   "source": [
    "# Load Test Data\n",
    "test_df = pd.read_csv('test.csv')\n",
    "\n",
    "# Take the first prompt and response\n",
    "test_df[\"prompt\"] = test_df.prompt.map(lambda x: eval(x)[0])\n",
    "test_df[\"response_a\"] = test_df.response_a.map(lambda x: eval(x.replace(\"null\",\"''\"))[0])\n",
    "test_df[\"response_b\"] = test_df.response_b.map(lambda x: eval(x.replace(\"null\", \"''\"))[0])\n",
    "\n",
    "# Show Sample\n",
    "test_df.head()"
   ]
  },
  {
   "cell_type": "code",
   "execution_count": 9,
   "id": "1d2f0f8b",
   "metadata": {},
   "outputs": [],
   "source": [
    "# Define a function to create options based on the prompt and choices\n",
    "def make_pairs(row):\n",
    "    row[\"encode_fail\"] = False\n",
    "    try:\n",
    "        prompt = row.prompt.encode(\"utf-8\").decode(\"utf-8\")\n",
    "    except:\n",
    "        prompt = \"\"\n",
    "        row[\"encode_fail\"] = True\n",
    "\n",
    "    try:\n",
    "        response_a = row.response_a.encode(\"utf-8\").decode(\"utf-8\")\n",
    "    except:\n",
    "        response_a = \"\"\n",
    "        row[\"encode_fail\"] = True\n",
    "\n",
    "    try:\n",
    "        response_b = row.response_b.encode(\"utf-8\").decode(\"utf-8\")\n",
    "    except:\n",
    "        response_b = \"\"\n",
    "        row[\"encode_fail\"] = True\n",
    "        \n",
    "    row['options'] = [f\"Prompt: {prompt}\\n\\nResponse: {response_a}\",  # Response from Model A\n",
    "                      f\"Prompt: {prompt}\\n\\nResponse: {response_b}\"  # Response from Model B\n",
    "                     ]\n",
    "    return row"
   ]
  },
  {
   "cell_type": "code",
   "execution_count": 10,
   "id": "12644a4d",
   "metadata": {},
   "outputs": [
    {
     "data": {
      "text/html": [
       "<div>\n",
       "<style scoped>\n",
       "    .dataframe tbody tr th:only-of-type {\n",
       "        vertical-align: middle;\n",
       "    }\n",
       "\n",
       "    .dataframe tbody tr th {\n",
       "        vertical-align: top;\n",
       "    }\n",
       "\n",
       "    .dataframe thead th {\n",
       "        text-align: right;\n",
       "    }\n",
       "</style>\n",
       "<table border=\"1\" class=\"dataframe\">\n",
       "  <thead>\n",
       "    <tr style=\"text-align: right;\">\n",
       "      <th></th>\n",
       "      <th>id</th>\n",
       "      <th>model_a</th>\n",
       "      <th>model_b</th>\n",
       "      <th>prompt</th>\n",
       "      <th>response_a</th>\n",
       "      <th>response_b</th>\n",
       "      <th>winner_model_a</th>\n",
       "      <th>winner_model_b</th>\n",
       "      <th>winner_tie</th>\n",
       "      <th>class_name</th>\n",
       "      <th>class_label</th>\n",
       "      <th>encode_fail</th>\n",
       "      <th>options</th>\n",
       "    </tr>\n",
       "  </thead>\n",
       "  <tbody>\n",
       "    <tr>\n",
       "      <th>37379</th>\n",
       "      <td>2785062085</td>\n",
       "      <td>gpt-3.5-turbo-0613</td>\n",
       "      <td>codellama-34b-instruct</td>\n",
       "      <td>what does hello world mean</td>\n",
       "      <td>\"Hello, World!\" is a phrase used in computer p...</td>\n",
       "      <td>\"Hello, World!\" is a common phrase used to dis...</td>\n",
       "      <td>1</td>\n",
       "      <td>0</td>\n",
       "      <td>0</td>\n",
       "      <td>winner_model_a</td>\n",
       "      <td>0</td>\n",
       "      <td>False</td>\n",
       "      <td>[Prompt: what does hello world mean\\n\\nRespons...</td>\n",
       "    </tr>\n",
       "    <tr>\n",
       "      <th>644</th>\n",
       "      <td>48259531</td>\n",
       "      <td>mistral-medium</td>\n",
       "      <td>gpt-4-0314</td>\n",
       "      <td>I ran a marathon in 3:12:00 weighting 84kg. Ho...</td>\n",
       "      <td>It's difficult to provide an exact answer to t...</td>\n",
       "      <td>To accurately estimate how much faster you wou...</td>\n",
       "      <td>1</td>\n",
       "      <td>0</td>\n",
       "      <td>0</td>\n",
       "      <td>winner_model_a</td>\n",
       "      <td>0</td>\n",
       "      <td>False</td>\n",
       "      <td>[Prompt: I ran a marathon in 3:12:00 weighting...</td>\n",
       "    </tr>\n",
       "  </tbody>\n",
       "</table>\n",
       "</div>"
      ],
      "text/plain": [
       "               id             model_a                 model_b  \\\n",
       "37379  2785062085  gpt-3.5-turbo-0613  codellama-34b-instruct   \n",
       "644      48259531      mistral-medium              gpt-4-0314   \n",
       "\n",
       "                                                  prompt  \\\n",
       "37379                         what does hello world mean   \n",
       "644    I ran a marathon in 3:12:00 weighting 84kg. Ho...   \n",
       "\n",
       "                                              response_a  \\\n",
       "37379  \"Hello, World!\" is a phrase used in computer p...   \n",
       "644    It's difficult to provide an exact answer to t...   \n",
       "\n",
       "                                              response_b  winner_model_a  \\\n",
       "37379  \"Hello, World!\" is a common phrase used to dis...               1   \n",
       "644    To accurately estimate how much faster you wou...               1   \n",
       "\n",
       "       winner_model_b  winner_tie      class_name  class_label  encode_fail  \\\n",
       "37379               0           0  winner_model_a            0        False   \n",
       "644                 0           0  winner_model_a            0        False   \n",
       "\n",
       "                                                 options  \n",
       "37379  [Prompt: what does hello world mean\\n\\nRespons...  \n",
       "644    [Prompt: I ran a marathon in 3:12:00 weighting...  "
      ]
     },
     "metadata": {},
     "output_type": "display_data"
    },
    {
     "data": {
      "text/html": [
       "<div>\n",
       "<style scoped>\n",
       "    .dataframe tbody tr th:only-of-type {\n",
       "        vertical-align: middle;\n",
       "    }\n",
       "\n",
       "    .dataframe tbody tr th {\n",
       "        vertical-align: top;\n",
       "    }\n",
       "\n",
       "    .dataframe thead th {\n",
       "        text-align: right;\n",
       "    }\n",
       "</style>\n",
       "<table border=\"1\" class=\"dataframe\">\n",
       "  <thead>\n",
       "    <tr style=\"text-align: right;\">\n",
       "      <th></th>\n",
       "      <th>id</th>\n",
       "      <th>prompt</th>\n",
       "      <th>response_a</th>\n",
       "      <th>response_b</th>\n",
       "      <th>encode_fail</th>\n",
       "      <th>options</th>\n",
       "    </tr>\n",
       "  </thead>\n",
       "  <tbody>\n",
       "    <tr>\n",
       "      <th>0</th>\n",
       "      <td>136060</td>\n",
       "      <td>I have three oranges today, I ate an orange ye...</td>\n",
       "      <td>You have two oranges today.</td>\n",
       "      <td>You still have three oranges. Eating an orange...</td>\n",
       "      <td>False</td>\n",
       "      <td>[Prompt: I have three oranges today, I ate an ...</td>\n",
       "    </tr>\n",
       "    <tr>\n",
       "      <th>1</th>\n",
       "      <td>211333</td>\n",
       "      <td>You are a mediator in a heated political debat...</td>\n",
       "      <td>Thank you for sharing the details of the situa...</td>\n",
       "      <td>Mr Reddy and Ms Blue both have valid points in...</td>\n",
       "      <td>False</td>\n",
       "      <td>[Prompt: You are a mediator in a heated politi...</td>\n",
       "    </tr>\n",
       "  </tbody>\n",
       "</table>\n",
       "</div>"
      ],
      "text/plain": [
       "       id                                             prompt  \\\n",
       "0  136060  I have three oranges today, I ate an orange ye...   \n",
       "1  211333  You are a mediator in a heated political debat...   \n",
       "\n",
       "                                          response_a  \\\n",
       "0                        You have two oranges today.   \n",
       "1  Thank you for sharing the details of the situa...   \n",
       "\n",
       "                                          response_b  encode_fail  \\\n",
       "0  You still have three oranges. Eating an orange...        False   \n",
       "1  Mr Reddy and Ms Blue both have valid points in...        False   \n",
       "\n",
       "                                             options  \n",
       "0  [Prompt: I have three oranges today, I ate an ...  \n",
       "1  [Prompt: You are a mediator in a heated politi...  "
      ]
     },
     "metadata": {},
     "output_type": "display_data"
    }
   ],
   "source": [
    "df = df.apply(make_pairs, axis=1)  # Apply the make_pairs function to each row in df\n",
    "display(df.head(2))  # Display the first 2 rows of df\n",
    "\n",
    "test_df = test_df.apply(make_pairs, axis=1)  # Apply the make_pairs function to each row in df\n",
    "display(test_df.head(2))  # Display the first 2 rows of df"
   ]
  },
  {
   "cell_type": "code",
   "execution_count": 11,
   "id": "c9a14a81",
   "metadata": {},
   "outputs": [
    {
     "data": {
      "text/plain": [
       "encode_fail\n",
       "False    5681\n",
       "True       67\n",
       "Name: count, dtype: int64"
      ]
     },
     "execution_count": 11,
     "metadata": {},
     "output_type": "execute_result"
    }
   ],
   "source": [
    "df.encode_fail.value_counts(normalize=False)"
   ]
  },
  {
   "cell_type": "code",
   "execution_count": 12,
   "id": "28a47e20",
   "metadata": {},
   "outputs": [
    {
     "data": {
      "application/vnd.plotly.v1+json": {
       "config": {
        "plotlyServerURL": "https://plot.ly"
       },
       "data": [
        {
         "hovertemplate": "LLM=%{x}<br>Count=%{marker.color}<extra></extra>",
         "legendgroup": "",
         "marker": {
          "color": {
           "bdata": "8QLjAmwCQAKtAaABhwF/AW4BbAFjAVABSQH3AO8A4gC/ALMAsQCsAJ8AnQCcAJYAlQCRAIwAigCFAIAAgAB+AHkAeAB1AHEAcABtAGcAZgBkAGEAYABZAFgAVgBRAEoASABGAEMAPAA7ADkAOAA3ACUAIwAfABsAGQAXAAwABQA=",
           "dtype": "i2"
          },
          "coloraxis": "coloraxis",
          "pattern": {
           "shape": ""
          }
         },
         "name": "",
         "orientation": "v",
         "showlegend": false,
         "textposition": "auto",
         "type": "bar",
         "x": [
          "gpt-4-1106-preview",
          "gpt-3.5-turbo-0613",
          "gpt-4-0613",
          "claude-2.1",
          "claude-instant-1",
          "vicuna-33b",
          "mixtral-8x7b-instruct-v0.1",
          "claude-1",
          "llama-2-70b-chat",
          "gpt-4-0314",
          "mistral-medium",
          "gpt-3.5-turbo-1106",
          "vicuna-13b",
          "claude-2.0",
          "llama-2-13b-chat",
          "zephyr-7b-beta",
          "palm-2",
          "wizardlm-13b",
          "llama-2-7b-chat",
          "openchat-3.5",
          "mistral-7b-instruct",
          "vicuna-7b",
          "wizardlm-70b",
          "gemini-pro-dev-api",
          "oasst-pythia-12b",
          "koala-13b",
          "alpaca-13b",
          "gemini-pro",
          "codellama-34b-instruct",
          "yi-34b-chat",
          "pplx-7b-online",
          "pplx-70b-online",
          "chatglm-6b",
          "gpt-3.5-turbo-0314",
          "tulu-2-dpo-70b",
          "fastchat-t5-3b",
          "RWKV-4-Raven-14B",
          "gpt-4-0125-preview",
          "solar-10.7b-instruct-v1.0",
          "openhermes-2.5-mistral-7b",
          "starling-lm-7b-alpha",
          "stripedhyena-nous-7b",
          "qwen-14b-chat",
          "stablelm-tuned-alpha-7b",
          "mpt-7b-chat",
          "chatglm3-6b",
          "gpt-3.5-turbo-0125",
          "llama2-70b-steerlm-chat",
          "deepseek-llm-67b-chat",
          "dolly-v2-12b",
          "mpt-30b-chat",
          "chatglm2-6b",
          "qwen1.5-72b-chat",
          "guanaco-33b",
          "zephyr-7b-alpha",
          "llama-13b",
          "gpt4all-13b-snoozy",
          "dolphin-2.2.1-mistral-7b",
          "nous-hermes-2-mixtral-8x7b-dpo",
          "falcon-180b-chat",
          "openchat-3.5-0106",
          "qwen1.5-4b-chat",
          "qwen1.5-7b-chat",
          "mistral-7b-instruct-v0.2"
         ],
         "xaxis": "x",
         "y": {
          "bdata": "8QLjAmwCQAKtAaABhwF/AW4BbAFjAVABSQH3AO8A4gC/ALMAsQCsAJ8AnQCcAJYAlQCRAIwAigCFAIAAgAB+AHkAeAB1AHEAcABtAGcAZgBkAGEAYABZAFgAVgBRAEoASABGAEMAPAA7ADkAOAA3ACUAIwAfABsAGQAXAAwABQA=",
          "dtype": "i2"
         },
         "yaxis": "y"
        }
       ],
       "layout": {
        "barmode": "relative",
        "coloraxis": {
         "colorbar": {
          "title": {
           "text": "Count"
          }
         },
         "colorscale": [
          [
           0,
           "#440154"
          ],
          [
           0.1111111111111111,
           "#482878"
          ],
          [
           0.2222222222222222,
           "#3e4989"
          ],
          [
           0.3333333333333333,
           "#31688e"
          ],
          [
           0.4444444444444444,
           "#26828e"
          ],
          [
           0.5555555555555556,
           "#1f9e89"
          ],
          [
           0.6666666666666666,
           "#35b779"
          ],
          [
           0.7777777777777778,
           "#6ece58"
          ],
          [
           0.8888888888888888,
           "#b5de2b"
          ],
          [
           1,
           "#fde725"
          ]
         ]
        },
        "legend": {
         "tracegroupgap": 0
        },
        "template": {
         "data": {
          "bar": [
           {
            "error_x": {
             "color": "#2a3f5f"
            },
            "error_y": {
             "color": "#2a3f5f"
            },
            "marker": {
             "line": {
              "color": "#E5ECF6",
              "width": 0.5
             },
             "pattern": {
              "fillmode": "overlay",
              "size": 10,
              "solidity": 0.2
             }
            },
            "type": "bar"
           }
          ],
          "barpolar": [
           {
            "marker": {
             "line": {
              "color": "#E5ECF6",
              "width": 0.5
             },
             "pattern": {
              "fillmode": "overlay",
              "size": 10,
              "solidity": 0.2
             }
            },
            "type": "barpolar"
           }
          ],
          "carpet": [
           {
            "aaxis": {
             "endlinecolor": "#2a3f5f",
             "gridcolor": "white",
             "linecolor": "white",
             "minorgridcolor": "white",
             "startlinecolor": "#2a3f5f"
            },
            "baxis": {
             "endlinecolor": "#2a3f5f",
             "gridcolor": "white",
             "linecolor": "white",
             "minorgridcolor": "white",
             "startlinecolor": "#2a3f5f"
            },
            "type": "carpet"
           }
          ],
          "choropleth": [
           {
            "colorbar": {
             "outlinewidth": 0,
             "ticks": ""
            },
            "type": "choropleth"
           }
          ],
          "contour": [
           {
            "colorbar": {
             "outlinewidth": 0,
             "ticks": ""
            },
            "colorscale": [
             [
              0,
              "#0d0887"
             ],
             [
              0.1111111111111111,
              "#46039f"
             ],
             [
              0.2222222222222222,
              "#7201a8"
             ],
             [
              0.3333333333333333,
              "#9c179e"
             ],
             [
              0.4444444444444444,
              "#bd3786"
             ],
             [
              0.5555555555555556,
              "#d8576b"
             ],
             [
              0.6666666666666666,
              "#ed7953"
             ],
             [
              0.7777777777777778,
              "#fb9f3a"
             ],
             [
              0.8888888888888888,
              "#fdca26"
             ],
             [
              1,
              "#f0f921"
             ]
            ],
            "type": "contour"
           }
          ],
          "contourcarpet": [
           {
            "colorbar": {
             "outlinewidth": 0,
             "ticks": ""
            },
            "type": "contourcarpet"
           }
          ],
          "heatmap": [
           {
            "colorbar": {
             "outlinewidth": 0,
             "ticks": ""
            },
            "colorscale": [
             [
              0,
              "#0d0887"
             ],
             [
              0.1111111111111111,
              "#46039f"
             ],
             [
              0.2222222222222222,
              "#7201a8"
             ],
             [
              0.3333333333333333,
              "#9c179e"
             ],
             [
              0.4444444444444444,
              "#bd3786"
             ],
             [
              0.5555555555555556,
              "#d8576b"
             ],
             [
              0.6666666666666666,
              "#ed7953"
             ],
             [
              0.7777777777777778,
              "#fb9f3a"
             ],
             [
              0.8888888888888888,
              "#fdca26"
             ],
             [
              1,
              "#f0f921"
             ]
            ],
            "type": "heatmap"
           }
          ],
          "histogram": [
           {
            "marker": {
             "pattern": {
              "fillmode": "overlay",
              "size": 10,
              "solidity": 0.2
             }
            },
            "type": "histogram"
           }
          ],
          "histogram2d": [
           {
            "colorbar": {
             "outlinewidth": 0,
             "ticks": ""
            },
            "colorscale": [
             [
              0,
              "#0d0887"
             ],
             [
              0.1111111111111111,
              "#46039f"
             ],
             [
              0.2222222222222222,
              "#7201a8"
             ],
             [
              0.3333333333333333,
              "#9c179e"
             ],
             [
              0.4444444444444444,
              "#bd3786"
             ],
             [
              0.5555555555555556,
              "#d8576b"
             ],
             [
              0.6666666666666666,
              "#ed7953"
             ],
             [
              0.7777777777777778,
              "#fb9f3a"
             ],
             [
              0.8888888888888888,
              "#fdca26"
             ],
             [
              1,
              "#f0f921"
             ]
            ],
            "type": "histogram2d"
           }
          ],
          "histogram2dcontour": [
           {
            "colorbar": {
             "outlinewidth": 0,
             "ticks": ""
            },
            "colorscale": [
             [
              0,
              "#0d0887"
             ],
             [
              0.1111111111111111,
              "#46039f"
             ],
             [
              0.2222222222222222,
              "#7201a8"
             ],
             [
              0.3333333333333333,
              "#9c179e"
             ],
             [
              0.4444444444444444,
              "#bd3786"
             ],
             [
              0.5555555555555556,
              "#d8576b"
             ],
             [
              0.6666666666666666,
              "#ed7953"
             ],
             [
              0.7777777777777778,
              "#fb9f3a"
             ],
             [
              0.8888888888888888,
              "#fdca26"
             ],
             [
              1,
              "#f0f921"
             ]
            ],
            "type": "histogram2dcontour"
           }
          ],
          "mesh3d": [
           {
            "colorbar": {
             "outlinewidth": 0,
             "ticks": ""
            },
            "type": "mesh3d"
           }
          ],
          "parcoords": [
           {
            "line": {
             "colorbar": {
              "outlinewidth": 0,
              "ticks": ""
             }
            },
            "type": "parcoords"
           }
          ],
          "pie": [
           {
            "automargin": true,
            "type": "pie"
           }
          ],
          "scatter": [
           {
            "fillpattern": {
             "fillmode": "overlay",
             "size": 10,
             "solidity": 0.2
            },
            "type": "scatter"
           }
          ],
          "scatter3d": [
           {
            "line": {
             "colorbar": {
              "outlinewidth": 0,
              "ticks": ""
             }
            },
            "marker": {
             "colorbar": {
              "outlinewidth": 0,
              "ticks": ""
             }
            },
            "type": "scatter3d"
           }
          ],
          "scattercarpet": [
           {
            "marker": {
             "colorbar": {
              "outlinewidth": 0,
              "ticks": ""
             }
            },
            "type": "scattercarpet"
           }
          ],
          "scattergeo": [
           {
            "marker": {
             "colorbar": {
              "outlinewidth": 0,
              "ticks": ""
             }
            },
            "type": "scattergeo"
           }
          ],
          "scattergl": [
           {
            "marker": {
             "colorbar": {
              "outlinewidth": 0,
              "ticks": ""
             }
            },
            "type": "scattergl"
           }
          ],
          "scattermap": [
           {
            "marker": {
             "colorbar": {
              "outlinewidth": 0,
              "ticks": ""
             }
            },
            "type": "scattermap"
           }
          ],
          "scattermapbox": [
           {
            "marker": {
             "colorbar": {
              "outlinewidth": 0,
              "ticks": ""
             }
            },
            "type": "scattermapbox"
           }
          ],
          "scatterpolar": [
           {
            "marker": {
             "colorbar": {
              "outlinewidth": 0,
              "ticks": ""
             }
            },
            "type": "scatterpolar"
           }
          ],
          "scatterpolargl": [
           {
            "marker": {
             "colorbar": {
              "outlinewidth": 0,
              "ticks": ""
             }
            },
            "type": "scatterpolargl"
           }
          ],
          "scatterternary": [
           {
            "marker": {
             "colorbar": {
              "outlinewidth": 0,
              "ticks": ""
             }
            },
            "type": "scatterternary"
           }
          ],
          "surface": [
           {
            "colorbar": {
             "outlinewidth": 0,
             "ticks": ""
            },
            "colorscale": [
             [
              0,
              "#0d0887"
             ],
             [
              0.1111111111111111,
              "#46039f"
             ],
             [
              0.2222222222222222,
              "#7201a8"
             ],
             [
              0.3333333333333333,
              "#9c179e"
             ],
             [
              0.4444444444444444,
              "#bd3786"
             ],
             [
              0.5555555555555556,
              "#d8576b"
             ],
             [
              0.6666666666666666,
              "#ed7953"
             ],
             [
              0.7777777777777778,
              "#fb9f3a"
             ],
             [
              0.8888888888888888,
              "#fdca26"
             ],
             [
              1,
              "#f0f921"
             ]
            ],
            "type": "surface"
           }
          ],
          "table": [
           {
            "cells": {
             "fill": {
              "color": "#EBF0F8"
             },
             "line": {
              "color": "white"
             }
            },
            "header": {
             "fill": {
              "color": "#C8D4E3"
             },
             "line": {
              "color": "white"
             }
            },
            "type": "table"
           }
          ]
         },
         "layout": {
          "annotationdefaults": {
           "arrowcolor": "#2a3f5f",
           "arrowhead": 0,
           "arrowwidth": 1
          },
          "autotypenumbers": "strict",
          "coloraxis": {
           "colorbar": {
            "outlinewidth": 0,
            "ticks": ""
           }
          },
          "colorscale": {
           "diverging": [
            [
             0,
             "#8e0152"
            ],
            [
             0.1,
             "#c51b7d"
            ],
            [
             0.2,
             "#de77ae"
            ],
            [
             0.3,
             "#f1b6da"
            ],
            [
             0.4,
             "#fde0ef"
            ],
            [
             0.5,
             "#f7f7f7"
            ],
            [
             0.6,
             "#e6f5d0"
            ],
            [
             0.7,
             "#b8e186"
            ],
            [
             0.8,
             "#7fbc41"
            ],
            [
             0.9,
             "#4d9221"
            ],
            [
             1,
             "#276419"
            ]
           ],
           "sequential": [
            [
             0,
             "#0d0887"
            ],
            [
             0.1111111111111111,
             "#46039f"
            ],
            [
             0.2222222222222222,
             "#7201a8"
            ],
            [
             0.3333333333333333,
             "#9c179e"
            ],
            [
             0.4444444444444444,
             "#bd3786"
            ],
            [
             0.5555555555555556,
             "#d8576b"
            ],
            [
             0.6666666666666666,
             "#ed7953"
            ],
            [
             0.7777777777777778,
             "#fb9f3a"
            ],
            [
             0.8888888888888888,
             "#fdca26"
            ],
            [
             1,
             "#f0f921"
            ]
           ],
           "sequentialminus": [
            [
             0,
             "#0d0887"
            ],
            [
             0.1111111111111111,
             "#46039f"
            ],
            [
             0.2222222222222222,
             "#7201a8"
            ],
            [
             0.3333333333333333,
             "#9c179e"
            ],
            [
             0.4444444444444444,
             "#bd3786"
            ],
            [
             0.5555555555555556,
             "#d8576b"
            ],
            [
             0.6666666666666666,
             "#ed7953"
            ],
            [
             0.7777777777777778,
             "#fb9f3a"
            ],
            [
             0.8888888888888888,
             "#fdca26"
            ],
            [
             1,
             "#f0f921"
            ]
           ]
          },
          "colorway": [
           "#636efa",
           "#EF553B",
           "#00cc96",
           "#ab63fa",
           "#FFA15A",
           "#19d3f3",
           "#FF6692",
           "#B6E880",
           "#FF97FF",
           "#FECB52"
          ],
          "font": {
           "color": "#2a3f5f"
          },
          "geo": {
           "bgcolor": "white",
           "lakecolor": "white",
           "landcolor": "#E5ECF6",
           "showlakes": true,
           "showland": true,
           "subunitcolor": "white"
          },
          "hoverlabel": {
           "align": "left"
          },
          "hovermode": "closest",
          "mapbox": {
           "style": "light"
          },
          "paper_bgcolor": "white",
          "plot_bgcolor": "#E5ECF6",
          "polar": {
           "angularaxis": {
            "gridcolor": "white",
            "linecolor": "white",
            "ticks": ""
           },
           "bgcolor": "#E5ECF6",
           "radialaxis": {
            "gridcolor": "white",
            "linecolor": "white",
            "ticks": ""
           }
          },
          "scene": {
           "xaxis": {
            "backgroundcolor": "#E5ECF6",
            "gridcolor": "white",
            "gridwidth": 2,
            "linecolor": "white",
            "showbackground": true,
            "ticks": "",
            "zerolinecolor": "white"
           },
           "yaxis": {
            "backgroundcolor": "#E5ECF6",
            "gridcolor": "white",
            "gridwidth": 2,
            "linecolor": "white",
            "showbackground": true,
            "ticks": "",
            "zerolinecolor": "white"
           },
           "zaxis": {
            "backgroundcolor": "#E5ECF6",
            "gridcolor": "white",
            "gridwidth": 2,
            "linecolor": "white",
            "showbackground": true,
            "ticks": "",
            "zerolinecolor": "white"
           }
          },
          "shapedefaults": {
           "line": {
            "color": "#2a3f5f"
           }
          },
          "ternary": {
           "aaxis": {
            "gridcolor": "white",
            "linecolor": "white",
            "ticks": ""
           },
           "baxis": {
            "gridcolor": "white",
            "linecolor": "white",
            "ticks": ""
           },
           "bgcolor": "#E5ECF6",
           "caxis": {
            "gridcolor": "white",
            "linecolor": "white",
            "ticks": ""
           }
          },
          "title": {
           "x": 0.05
          },
          "xaxis": {
           "automargin": true,
           "gridcolor": "white",
           "linecolor": "white",
           "ticks": "",
           "title": {
            "standoff": 15
           },
           "zerolinecolor": "white",
           "zerolinewidth": 2
          },
          "yaxis": {
           "automargin": true,
           "gridcolor": "white",
           "linecolor": "white",
           "ticks": "",
           "title": {
            "standoff": 15
           },
           "zerolinecolor": "white",
           "zerolinewidth": 2
          }
         }
        },
        "title": {
         "text": "Distribution of LLMs"
        },
        "xaxis": {
         "anchor": "y",
         "domain": [
          0,
          1
         ],
         "tickangle": -45,
         "title": {
          "text": "LLM"
         }
        },
        "yaxis": {
         "anchor": "x",
         "domain": [
          0,
          1
         ],
         "title": {
          "text": "Count"
         }
        }
       }
      }
     },
     "metadata": {},
     "output_type": "display_data"
    }
   ],
   "source": [
    "model_df = pd.concat([df.model_a, df.model_b])\n",
    "counts = model_df.value_counts().reset_index()\n",
    "counts.columns = ['LLM', 'Count']\n",
    "\n",
    "# Create a bar plot with custom styling using Plotly\n",
    "fig = px.bar(counts, x='LLM', y='Count',\n",
    "             title='Distribution of LLMs',\n",
    "             color='Count', color_continuous_scale='viridis')\n",
    "\n",
    "fig.update_layout(xaxis_tickangle=-45)  # Rotate x-axis labels for better readability\n",
    "\n",
    "fig.show()"
   ]
  },
  {
   "cell_type": "code",
   "execution_count": 13,
   "id": "8ca883e8",
   "metadata": {},
   "outputs": [
    {
     "data": {
      "application/vnd.plotly.v1+json": {
       "config": {
        "plotlyServerURL": "https://plot.ly"
       },
       "data": [
        {
         "hovertemplate": "Winner=%{x}<br>Win Count=%{y}<extra></extra>",
         "legendgroup": "winner_model_a",
         "marker": {
          "color": "#636efa",
          "pattern": {
           "shape": ""
          }
         },
         "name": "winner_model_a",
         "orientation": "v",
         "showlegend": true,
         "textposition": "auto",
         "type": "bar",
         "x": [
          "winner_model_a"
         ],
         "xaxis": "x",
         "y": {
          "bdata": "8wc=",
          "dtype": "i2"
         },
         "yaxis": "y"
        },
        {
         "hovertemplate": "Winner=%{x}<br>Win Count=%{y}<extra></extra>",
         "legendgroup": "winner_model_b",
         "marker": {
          "color": "#EF553B",
          "pattern": {
           "shape": ""
          }
         },
         "name": "winner_model_b",
         "orientation": "v",
         "showlegend": true,
         "textposition": "auto",
         "type": "bar",
         "x": [
          "winner_model_b"
         ],
         "xaxis": "x",
         "y": {
          "bdata": "hAc=",
          "dtype": "i2"
         },
         "yaxis": "y"
        },
        {
         "hovertemplate": "Winner=%{x}<br>Win Count=%{y}<extra></extra>",
         "legendgroup": "winner_tie",
         "marker": {
          "color": "#00cc96",
          "pattern": {
           "shape": ""
          }
         },
         "name": "winner_tie",
         "orientation": "v",
         "showlegend": true,
         "textposition": "auto",
         "type": "bar",
         "x": [
          "winner_tie"
         ],
         "xaxis": "x",
         "y": {
          "bdata": "/QY=",
          "dtype": "i2"
         },
         "yaxis": "y"
        }
       ],
       "layout": {
        "barmode": "relative",
        "legend": {
         "title": {
          "text": "Winner"
         },
         "tracegroupgap": 0
        },
        "template": {
         "data": {
          "bar": [
           {
            "error_x": {
             "color": "#2a3f5f"
            },
            "error_y": {
             "color": "#2a3f5f"
            },
            "marker": {
             "line": {
              "color": "#E5ECF6",
              "width": 0.5
             },
             "pattern": {
              "fillmode": "overlay",
              "size": 10,
              "solidity": 0.2
             }
            },
            "type": "bar"
           }
          ],
          "barpolar": [
           {
            "marker": {
             "line": {
              "color": "#E5ECF6",
              "width": 0.5
             },
             "pattern": {
              "fillmode": "overlay",
              "size": 10,
              "solidity": 0.2
             }
            },
            "type": "barpolar"
           }
          ],
          "carpet": [
           {
            "aaxis": {
             "endlinecolor": "#2a3f5f",
             "gridcolor": "white",
             "linecolor": "white",
             "minorgridcolor": "white",
             "startlinecolor": "#2a3f5f"
            },
            "baxis": {
             "endlinecolor": "#2a3f5f",
             "gridcolor": "white",
             "linecolor": "white",
             "minorgridcolor": "white",
             "startlinecolor": "#2a3f5f"
            },
            "type": "carpet"
           }
          ],
          "choropleth": [
           {
            "colorbar": {
             "outlinewidth": 0,
             "ticks": ""
            },
            "type": "choropleth"
           }
          ],
          "contour": [
           {
            "colorbar": {
             "outlinewidth": 0,
             "ticks": ""
            },
            "colorscale": [
             [
              0,
              "#0d0887"
             ],
             [
              0.1111111111111111,
              "#46039f"
             ],
             [
              0.2222222222222222,
              "#7201a8"
             ],
             [
              0.3333333333333333,
              "#9c179e"
             ],
             [
              0.4444444444444444,
              "#bd3786"
             ],
             [
              0.5555555555555556,
              "#d8576b"
             ],
             [
              0.6666666666666666,
              "#ed7953"
             ],
             [
              0.7777777777777778,
              "#fb9f3a"
             ],
             [
              0.8888888888888888,
              "#fdca26"
             ],
             [
              1,
              "#f0f921"
             ]
            ],
            "type": "contour"
           }
          ],
          "contourcarpet": [
           {
            "colorbar": {
             "outlinewidth": 0,
             "ticks": ""
            },
            "type": "contourcarpet"
           }
          ],
          "heatmap": [
           {
            "colorbar": {
             "outlinewidth": 0,
             "ticks": ""
            },
            "colorscale": [
             [
              0,
              "#0d0887"
             ],
             [
              0.1111111111111111,
              "#46039f"
             ],
             [
              0.2222222222222222,
              "#7201a8"
             ],
             [
              0.3333333333333333,
              "#9c179e"
             ],
             [
              0.4444444444444444,
              "#bd3786"
             ],
             [
              0.5555555555555556,
              "#d8576b"
             ],
             [
              0.6666666666666666,
              "#ed7953"
             ],
             [
              0.7777777777777778,
              "#fb9f3a"
             ],
             [
              0.8888888888888888,
              "#fdca26"
             ],
             [
              1,
              "#f0f921"
             ]
            ],
            "type": "heatmap"
           }
          ],
          "histogram": [
           {
            "marker": {
             "pattern": {
              "fillmode": "overlay",
              "size": 10,
              "solidity": 0.2
             }
            },
            "type": "histogram"
           }
          ],
          "histogram2d": [
           {
            "colorbar": {
             "outlinewidth": 0,
             "ticks": ""
            },
            "colorscale": [
             [
              0,
              "#0d0887"
             ],
             [
              0.1111111111111111,
              "#46039f"
             ],
             [
              0.2222222222222222,
              "#7201a8"
             ],
             [
              0.3333333333333333,
              "#9c179e"
             ],
             [
              0.4444444444444444,
              "#bd3786"
             ],
             [
              0.5555555555555556,
              "#d8576b"
             ],
             [
              0.6666666666666666,
              "#ed7953"
             ],
             [
              0.7777777777777778,
              "#fb9f3a"
             ],
             [
              0.8888888888888888,
              "#fdca26"
             ],
             [
              1,
              "#f0f921"
             ]
            ],
            "type": "histogram2d"
           }
          ],
          "histogram2dcontour": [
           {
            "colorbar": {
             "outlinewidth": 0,
             "ticks": ""
            },
            "colorscale": [
             [
              0,
              "#0d0887"
             ],
             [
              0.1111111111111111,
              "#46039f"
             ],
             [
              0.2222222222222222,
              "#7201a8"
             ],
             [
              0.3333333333333333,
              "#9c179e"
             ],
             [
              0.4444444444444444,
              "#bd3786"
             ],
             [
              0.5555555555555556,
              "#d8576b"
             ],
             [
              0.6666666666666666,
              "#ed7953"
             ],
             [
              0.7777777777777778,
              "#fb9f3a"
             ],
             [
              0.8888888888888888,
              "#fdca26"
             ],
             [
              1,
              "#f0f921"
             ]
            ],
            "type": "histogram2dcontour"
           }
          ],
          "mesh3d": [
           {
            "colorbar": {
             "outlinewidth": 0,
             "ticks": ""
            },
            "type": "mesh3d"
           }
          ],
          "parcoords": [
           {
            "line": {
             "colorbar": {
              "outlinewidth": 0,
              "ticks": ""
             }
            },
            "type": "parcoords"
           }
          ],
          "pie": [
           {
            "automargin": true,
            "type": "pie"
           }
          ],
          "scatter": [
           {
            "fillpattern": {
             "fillmode": "overlay",
             "size": 10,
             "solidity": 0.2
            },
            "type": "scatter"
           }
          ],
          "scatter3d": [
           {
            "line": {
             "colorbar": {
              "outlinewidth": 0,
              "ticks": ""
             }
            },
            "marker": {
             "colorbar": {
              "outlinewidth": 0,
              "ticks": ""
             }
            },
            "type": "scatter3d"
           }
          ],
          "scattercarpet": [
           {
            "marker": {
             "colorbar": {
              "outlinewidth": 0,
              "ticks": ""
             }
            },
            "type": "scattercarpet"
           }
          ],
          "scattergeo": [
           {
            "marker": {
             "colorbar": {
              "outlinewidth": 0,
              "ticks": ""
             }
            },
            "type": "scattergeo"
           }
          ],
          "scattergl": [
           {
            "marker": {
             "colorbar": {
              "outlinewidth": 0,
              "ticks": ""
             }
            },
            "type": "scattergl"
           }
          ],
          "scattermap": [
           {
            "marker": {
             "colorbar": {
              "outlinewidth": 0,
              "ticks": ""
             }
            },
            "type": "scattermap"
           }
          ],
          "scattermapbox": [
           {
            "marker": {
             "colorbar": {
              "outlinewidth": 0,
              "ticks": ""
             }
            },
            "type": "scattermapbox"
           }
          ],
          "scatterpolar": [
           {
            "marker": {
             "colorbar": {
              "outlinewidth": 0,
              "ticks": ""
             }
            },
            "type": "scatterpolar"
           }
          ],
          "scatterpolargl": [
           {
            "marker": {
             "colorbar": {
              "outlinewidth": 0,
              "ticks": ""
             }
            },
            "type": "scatterpolargl"
           }
          ],
          "scatterternary": [
           {
            "marker": {
             "colorbar": {
              "outlinewidth": 0,
              "ticks": ""
             }
            },
            "type": "scatterternary"
           }
          ],
          "surface": [
           {
            "colorbar": {
             "outlinewidth": 0,
             "ticks": ""
            },
            "colorscale": [
             [
              0,
              "#0d0887"
             ],
             [
              0.1111111111111111,
              "#46039f"
             ],
             [
              0.2222222222222222,
              "#7201a8"
             ],
             [
              0.3333333333333333,
              "#9c179e"
             ],
             [
              0.4444444444444444,
              "#bd3786"
             ],
             [
              0.5555555555555556,
              "#d8576b"
             ],
             [
              0.6666666666666666,
              "#ed7953"
             ],
             [
              0.7777777777777778,
              "#fb9f3a"
             ],
             [
              0.8888888888888888,
              "#fdca26"
             ],
             [
              1,
              "#f0f921"
             ]
            ],
            "type": "surface"
           }
          ],
          "table": [
           {
            "cells": {
             "fill": {
              "color": "#EBF0F8"
             },
             "line": {
              "color": "white"
             }
            },
            "header": {
             "fill": {
              "color": "#C8D4E3"
             },
             "line": {
              "color": "white"
             }
            },
            "type": "table"
           }
          ]
         },
         "layout": {
          "annotationdefaults": {
           "arrowcolor": "#2a3f5f",
           "arrowhead": 0,
           "arrowwidth": 1
          },
          "autotypenumbers": "strict",
          "coloraxis": {
           "colorbar": {
            "outlinewidth": 0,
            "ticks": ""
           }
          },
          "colorscale": {
           "diverging": [
            [
             0,
             "#8e0152"
            ],
            [
             0.1,
             "#c51b7d"
            ],
            [
             0.2,
             "#de77ae"
            ],
            [
             0.3,
             "#f1b6da"
            ],
            [
             0.4,
             "#fde0ef"
            ],
            [
             0.5,
             "#f7f7f7"
            ],
            [
             0.6,
             "#e6f5d0"
            ],
            [
             0.7,
             "#b8e186"
            ],
            [
             0.8,
             "#7fbc41"
            ],
            [
             0.9,
             "#4d9221"
            ],
            [
             1,
             "#276419"
            ]
           ],
           "sequential": [
            [
             0,
             "#0d0887"
            ],
            [
             0.1111111111111111,
             "#46039f"
            ],
            [
             0.2222222222222222,
             "#7201a8"
            ],
            [
             0.3333333333333333,
             "#9c179e"
            ],
            [
             0.4444444444444444,
             "#bd3786"
            ],
            [
             0.5555555555555556,
             "#d8576b"
            ],
            [
             0.6666666666666666,
             "#ed7953"
            ],
            [
             0.7777777777777778,
             "#fb9f3a"
            ],
            [
             0.8888888888888888,
             "#fdca26"
            ],
            [
             1,
             "#f0f921"
            ]
           ],
           "sequentialminus": [
            [
             0,
             "#0d0887"
            ],
            [
             0.1111111111111111,
             "#46039f"
            ],
            [
             0.2222222222222222,
             "#7201a8"
            ],
            [
             0.3333333333333333,
             "#9c179e"
            ],
            [
             0.4444444444444444,
             "#bd3786"
            ],
            [
             0.5555555555555556,
             "#d8576b"
            ],
            [
             0.6666666666666666,
             "#ed7953"
            ],
            [
             0.7777777777777778,
             "#fb9f3a"
            ],
            [
             0.8888888888888888,
             "#fdca26"
            ],
            [
             1,
             "#f0f921"
            ]
           ]
          },
          "colorway": [
           "#636efa",
           "#EF553B",
           "#00cc96",
           "#ab63fa",
           "#FFA15A",
           "#19d3f3",
           "#FF6692",
           "#B6E880",
           "#FF97FF",
           "#FECB52"
          ],
          "font": {
           "color": "#2a3f5f"
          },
          "geo": {
           "bgcolor": "white",
           "lakecolor": "white",
           "landcolor": "#E5ECF6",
           "showlakes": true,
           "showland": true,
           "subunitcolor": "white"
          },
          "hoverlabel": {
           "align": "left"
          },
          "hovermode": "closest",
          "mapbox": {
           "style": "light"
          },
          "paper_bgcolor": "white",
          "plot_bgcolor": "#E5ECF6",
          "polar": {
           "angularaxis": {
            "gridcolor": "white",
            "linecolor": "white",
            "ticks": ""
           },
           "bgcolor": "#E5ECF6",
           "radialaxis": {
            "gridcolor": "white",
            "linecolor": "white",
            "ticks": ""
           }
          },
          "scene": {
           "xaxis": {
            "backgroundcolor": "#E5ECF6",
            "gridcolor": "white",
            "gridwidth": 2,
            "linecolor": "white",
            "showbackground": true,
            "ticks": "",
            "zerolinecolor": "white"
           },
           "yaxis": {
            "backgroundcolor": "#E5ECF6",
            "gridcolor": "white",
            "gridwidth": 2,
            "linecolor": "white",
            "showbackground": true,
            "ticks": "",
            "zerolinecolor": "white"
           },
           "zaxis": {
            "backgroundcolor": "#E5ECF6",
            "gridcolor": "white",
            "gridwidth": 2,
            "linecolor": "white",
            "showbackground": true,
            "ticks": "",
            "zerolinecolor": "white"
           }
          },
          "shapedefaults": {
           "line": {
            "color": "#2a3f5f"
           }
          },
          "ternary": {
           "aaxis": {
            "gridcolor": "white",
            "linecolor": "white",
            "ticks": ""
           },
           "baxis": {
            "gridcolor": "white",
            "linecolor": "white",
            "ticks": ""
           },
           "bgcolor": "#E5ECF6",
           "caxis": {
            "gridcolor": "white",
            "linecolor": "white",
            "ticks": ""
           }
          },
          "title": {
           "x": 0.05
          },
          "xaxis": {
           "automargin": true,
           "gridcolor": "white",
           "linecolor": "white",
           "ticks": "",
           "title": {
            "standoff": 15
           },
           "zerolinecolor": "white",
           "zerolinewidth": 2
          },
          "yaxis": {
           "automargin": true,
           "gridcolor": "white",
           "linecolor": "white",
           "ticks": "",
           "title": {
            "standoff": 15
           },
           "zerolinecolor": "white",
           "zerolinewidth": 2
          }
         }
        },
        "title": {
         "text": "Winner distribution for Train Data"
        },
        "xaxis": {
         "anchor": "y",
         "categoryarray": [
          "winner_model_a",
          "winner_model_b",
          "winner_tie"
         ],
         "categoryorder": "array",
         "domain": [
          0,
          1
         ],
         "title": {
          "text": "Winner"
         }
        },
        "yaxis": {
         "anchor": "x",
         "domain": [
          0,
          1
         ],
         "title": {
          "text": "Win Count"
         }
        }
       }
      }
     },
     "metadata": {},
     "output_type": "display_data"
    }
   ],
   "source": [
    "counts = df['class_name'].value_counts().reset_index()\n",
    "counts.columns = ['Winner', 'Win Count']\n",
    "\n",
    "fig = px.bar(counts, x='Winner', y='Win Count',\n",
    "             title='Winner distribution for Train Data',\n",
    "             labels={'Winner': 'Winner', 'Win Count': 'Win Count'},\n",
    "             color='Winner', color_continuous_scale='viridis')\n",
    "\n",
    "fig.update_layout(xaxis_title=\"Winner\", yaxis_title=\"Win Count\")\n",
    "\n",
    "fig.show()"
   ]
  },
  {
   "cell_type": "code",
   "execution_count": 14,
   "id": "72d6dbbe",
   "metadata": {},
   "outputs": [],
   "source": [
    "from sklearn.model_selection import train_test_split  # Import package\n",
    "\n",
    "train_df, valid_df = train_test_split(df, test_size=0.2, stratify=df[\"class_label\"])"
   ]
  },
  {
   "cell_type": "code",
   "execution_count": 15,
   "id": "c4696ed1",
   "metadata": {},
   "outputs": [
    {
     "name": "stdout",
     "output_type": "stream",
     "text": [
      "Downloading from https://www.kaggle.com/api/v1/models/keras/deberta_v3/keras/deberta_v3_extra_small_en/3/download/config.json...\n"
     ]
    },
    {
     "name": "stderr",
     "output_type": "stream",
     "text": [
      "100%|██████████| 486/486 [00:00<00:00, 388kB/s]\n"
     ]
    },
    {
     "name": "stdout",
     "output_type": "stream",
     "text": [
      "Downloading from https://www.kaggle.com/api/v1/models/keras/deberta_v3/keras/deberta_v3_extra_small_en/3/download/tokenizer.json...\n"
     ]
    },
    {
     "name": "stderr",
     "output_type": "stream",
     "text": [
      "100%|██████████| 614/614 [00:00<00:00, 400kB/s]\n"
     ]
    },
    {
     "name": "stdout",
     "output_type": "stream",
     "text": [
      "Downloading from https://www.kaggle.com/api/v1/models/keras/deberta_v3/keras/deberta_v3_extra_small_en/3/download/assets/tokenizer/vocabulary.spm...\n"
     ]
    },
    {
     "name": "stderr",
     "output_type": "stream",
     "text": [
      "100%|██████████| 2.35M/2.35M [00:01<00:00, 1.57MB/s]\n"
     ]
    },
    {
     "name": "stdout",
     "output_type": "stream",
     "text": [
      "token_ids : (2, 512)\n",
      "padding_mask : (2, 512)\n"
     ]
    }
   ],
   "source": [
    "preprocessor = keras_nlp.models.DebertaV3Preprocessor.from_preset(\n",
    "    preset=CFG.preset, # Name of the model\n",
    "    sequence_length=CFG.sequence_length, # Max sequence length, will be padded if shorter\n",
    ")\n",
    "\n",
    "outs = preprocessor(df.options.iloc[0])  # Process options for the first row\n",
    "\n",
    "# Display the shape of each processed output\n",
    "for k, v in outs.items():\n",
    "    print(k, \":\", v.shape)\n",
    "\n",
    "def preprocess_fn(text, label=None):\n",
    "    text = preprocessor(text)  # Preprocess text\n",
    "    return (text, label) if label is not None else text  # Return processed text and label if available"
   ]
  },
  {
   "cell_type": "code",
   "execution_count": 16,
   "id": "fca1edf5",
   "metadata": {},
   "outputs": [],
   "source": [
    "def build_dataset(texts, labels=None, batch_size=32,\n",
    "                  cache=True, shuffle=1024):\n",
    "    AUTO = tf.data.AUTOTUNE  # AUTOTUNE option\n",
    "    slices = (texts,) if labels is None else (texts, keras.utils.to_categorical(labels, num_classes=3))  # Create slices\n",
    "    ds = tf.data.Dataset.from_tensor_slices(slices)  # Create dataset from slices\n",
    "    ds = ds.cache() if cache else ds  # Cache dataset if enabled\n",
    "    ds = ds.map(preprocess_fn, num_parallel_calls=AUTO)  # Map preprocessing function\n",
    "    opt = tf.data.Options()  # Create dataset options\n",
    "    if shuffle: \n",
    "        ds = ds.shuffle(shuffle, seed=CFG.seed)  # Shuffle dataset if enabled\n",
    "        opt.experimental_deterministic = False\n",
    "    ds = ds.with_options(opt)  # Set dataset options\n",
    "    ds = ds.batch(batch_size, drop_remainder=False)  # Batch dataset\n",
    "    ds = ds.prefetch(AUTO)  # Prefetch next batch\n",
    "    return ds  # Return the built dataset"
   ]
  },
  {
   "cell_type": "code",
   "execution_count": 17,
   "id": "879eea84",
   "metadata": {},
   "outputs": [],
   "source": [
    "# Train\n",
    "train_texts = train_df.options.tolist()  # Extract training texts\n",
    "train_labels = train_df.class_label.tolist()  # Extract training labels\n",
    "train_ds = build_dataset(train_texts, train_labels,\n",
    "                         batch_size=CFG.batch_size,\n",
    "                         shuffle=True)\n",
    "\n",
    "# Valid\n",
    "valid_texts = valid_df.options.tolist()  # Extract validation texts\n",
    "valid_labels = valid_df.class_label.tolist()  # Extract validation labels\n",
    "valid_ds = build_dataset(valid_texts, valid_labels,\n",
    "                         batch_size=CFG.batch_size,\n",
    "                         shuffle=False)\n"
   ]
  },
  {
   "cell_type": "code",
   "execution_count": null,
   "id": "8d7b9b05",
   "metadata": {},
   "outputs": [],
   "source": [
    "import math\n",
    "\n",
    "def get_lr_callback(batch_size=8, mode='cos', epochs=10, plot=False):\n",
    "    lr_start, lr_max, lr_min = 1.0e-6, 0.6e-6 * batch_size, 1e-6\n",
    "    lr_ramp_ep, lr_sus_ep, lr_decay = 2, 0, 0.8\n",
    "\n",
    "    def lrfn(epoch):  # Learning rate update function\n",
    "        if epoch < lr_ramp_ep: lr = (lr_max - lr_start) / lr_ramp_ep * epoch + lr_start\n",
    "        elif epoch < lr_ramp_ep + lr_sus_ep: lr = lr_max\n",
    "        elif mode == 'exp': lr = (lr_max - lr_min) * lr_decay**(epoch - lr_ramp_ep - lr_sus_ep) + lr_min\n",
    "        elif mode == 'step': lr = lr_max * lr_decay**((epoch - lr_ramp_ep - lr_sus_ep) // 2)\n",
    "        elif mode == 'cos':\n",
    "            decay_total_epochs, decay_epoch_index = epochs - lr_ramp_ep - lr_sus_ep + 3, epoch - lr_ramp_ep - lr_sus_ep\n",
    "            phase = math.pi * decay_epoch_index / decay_total_epochs\n",
    "            lr = (lr_max - lr_min) * 0.5 * (1 + math.cos(phase)) + lr_min\n",
    "        return lr\n",
    "\n",
    "    if plot:  # Plot lr curve if plot is True\n",
    "        plt.figure(figsize=(10, 5))\n",
    "        plt.plot(np.arange(epochs), [lrfn(epoch) for epoch in np.arange(epochs)], marker='o')\n",
    "        plt.xlabel('epoch'); plt.ylabel('lr')\n",
    "        plt.title('LR Scheduler')\n",
    "        plt.show()\n",
    "\n",
    "    return keras.callbacks.LearningRateScheduler(lrfn, verbose=False)  # Create lr callback"
   ]
  },
  {
   "cell_type": "code",
   "execution_count": 20,
   "id": "69d82fa8",
   "metadata": {},
   "outputs": [
    {
     "data": {
      "image/png": "[encoded data removed]",
      "text/plain": [
       "<Figure size 1000x500 with 1 Axes>"
      ]
     },
     "metadata": {},
     "output_type": "display_data"
    }
   ],
   "source": [
    "lr_cb = get_lr_callback(CFG.batch_size, plot=True)"
   ]
  },
  {
   "cell_type": "code",
   "execution_count": 21,
   "id": "1db8c3aa",
   "metadata": {},
   "outputs": [],
   "source": [
    "ckpt_cb = keras.callbacks.ModelCheckpoint(f'best_model.weights.h5',\n",
    "                                          monitor='val_log_loss',\n",
    "                                          save_best_only=True,\n",
    "                                          save_weights_only=True,\n",
    "                                          mode='min')  # Get Model checkpoint callback"
   ]
  },
  {
   "cell_type": "code",
   "execution_count": 22,
   "id": "ee6a4f5e",
   "metadata": {},
   "outputs": [],
   "source": [
    "log_loss = keras.metrics.CategoricalCrossentropy(name=\"log_loss\")"
   ]
  },
  {
   "cell_type": "code",
   "execution_count": 23,
   "id": "1de4a569",
   "metadata": {},
   "outputs": [
    {
     "name": "stdout",
     "output_type": "stream",
     "text": [
      "Downloading from https://www.kaggle.com/api/v1/models/keras/deberta_v3/keras/deberta_v3_extra_small_en/3/download/model.weights.h5...\n"
     ]
    },
    {
     "name": "stderr",
     "output_type": "stream",
     "text": [
      "100%|██████████| 270M/270M [03:26<00:00, 1.37MB/s] \n"
     ]
    }
   ],
   "source": [
    "# Define input layers\n",
    "inputs = {\n",
    "    \"token_ids\": keras.Input(shape=(2, None), dtype=tf.int32, name=\"token_ids\"),\n",
    "    \"padding_mask\": keras.Input(shape=(2, None), dtype=tf.int32, name=\"padding_mask\"),\n",
    "}\n",
    "# Create a DebertaV3Classifier backbone\n",
    "backbone = keras_nlp.models.DebertaV3Backbone.from_preset(\n",
    "    CFG.preset,\n",
    ")\n",
    "\n",
    "# Compute embeddings for first response: (P + R_A) using backbone\n",
    "response_a = {k: v[:, 0, :] for k, v in inputs.items()}\n",
    "embed_a = backbone(response_a)\n",
    "\n",
    "# Compute embeddings for second response: (P + R_B), using the same backbone\n",
    "response_b = {k: v[:, 1, :] for k, v in inputs.items()}\n",
    "embed_b = backbone(response_b)\n",
    "\n",
    "# Compute final output\n",
    "embeds = keras.layers.Concatenate(axis=-1)([embed_a, embed_b])\n",
    "embeds = keras.layers.GlobalAveragePooling1D()(embeds)\n",
    "outputs = keras.layers.Dense(3, activation=\"softmax\", name=\"classifier\")(embeds)\n",
    "model = keras.Model(inputs, outputs)\n",
    "\n",
    "# Compile the model with optimizer, loss, and metrics\n",
    "model.compile(\n",
    "    optimizer=keras.optimizers.Adam(5e-6),\n",
    "    loss=keras.losses.CategoricalCrossentropy(label_smoothing=0.02),\n",
    "    metrics=[\n",
    "        log_loss,\n",
    "        keras.metrics.CategoricalAccuracy(name=\"accuracy\"),\n",
    "    ],\n",
    ")"
   ]
  },
  {
   "cell_type": "code",
   "execution_count": 24,
   "id": "0bc3c4bb",
   "metadata": {},
   "outputs": [
    {
     "data": {
      "text/html": [
       "<pre style=\"white-space:pre;overflow-x:auto;line-height:normal;font-family:Menlo,'DejaVu Sans Mono',consolas,'Courier New',monospace\"><span style=\"font-weight: bold\">Model: \"functional\"</span>\n",
       "</pre>\n"
      ],
      "text/plain": [
       "\u001b[1mModel: \"functional\"\u001b[0m\n"
      ]
     },
     "metadata": {},
     "output_type": "display_data"
    },
    {
     "data": {
      "text/html": [
       "<pre style=\"white-space:pre;overflow-x:auto;line-height:normal;font-family:Menlo,'DejaVu Sans Mono',consolas,'Courier New',monospace\">┏━━━━━━━━━━━━━━━━━━━━━┳━━━━━━━━━━━━━━━━━━━┳━━━━━━━━━━━━┳━━━━━━━━━━━━━━━━━━━┓\n",
       "┃<span style=\"font-weight: bold\"> Layer (type)        </span>┃<span style=\"font-weight: bold\"> Output Shape      </span>┃<span style=\"font-weight: bold\">    Param # </span>┃<span style=\"font-weight: bold\"> Connected to      </span>┃\n",
       "┡━━━━━━━━━━━━━━━━━━━━━╇━━━━━━━━━━━━━━━━━━━╇━━━━━━━━━━━━╇━━━━━━━━━━━━━━━━━━━┩\n",
       "│ padding_mask        │ (<span style=\"color: #00d7ff; text-decoration-color: #00d7ff\">None</span>, <span style=\"color: #00af00; text-decoration-color: #00af00\">2</span>, <span style=\"color: #00d7ff; text-decoration-color: #00d7ff\">None</span>)   │          <span style=\"color: #00af00; text-decoration-color: #00af00\">0</span> │ -                 │\n",
       "│ (<span style=\"color: #0087ff; text-decoration-color: #0087ff\">InputLayer</span>)        │                   │            │                   │\n",
       "├─────────────────────┼───────────────────┼────────────┼───────────────────┤\n",
       "│ token_ids           │ (<span style=\"color: #00d7ff; text-decoration-color: #00d7ff\">None</span>, <span style=\"color: #00af00; text-decoration-color: #00af00\">2</span>, <span style=\"color: #00d7ff; text-decoration-color: #00d7ff\">None</span>)   │          <span style=\"color: #00af00; text-decoration-color: #00af00\">0</span> │ -                 │\n",
       "│ (<span style=\"color: #0087ff; text-decoration-color: #0087ff\">InputLayer</span>)        │                   │            │                   │\n",
       "├─────────────────────┼───────────────────┼────────────┼───────────────────┤\n",
       "│ get_item_1          │ (<span style=\"color: #00d7ff; text-decoration-color: #00d7ff\">None</span>, <span style=\"color: #00d7ff; text-decoration-color: #00d7ff\">None</span>)      │          <span style=\"color: #00af00; text-decoration-color: #00af00\">0</span> │ padding_mask[<span style=\"color: #00af00; text-decoration-color: #00af00\">0</span>][<span style=\"color: #00af00; text-decoration-color: #00af00\">…</span> │\n",
       "│ (<span style=\"color: #0087ff; text-decoration-color: #0087ff\">GetItem</span>)           │                   │            │                   │\n",
       "├─────────────────────┼───────────────────┼────────────┼───────────────────┤\n",
       "│ get_item (<span style=\"color: #0087ff; text-decoration-color: #0087ff\">GetItem</span>)  │ (<span style=\"color: #00d7ff; text-decoration-color: #00d7ff\">None</span>, <span style=\"color: #00d7ff; text-decoration-color: #00d7ff\">None</span>)      │          <span style=\"color: #00af00; text-decoration-color: #00af00\">0</span> │ token_ids[<span style=\"color: #00af00; text-decoration-color: #00af00\">0</span>][<span style=\"color: #00af00; text-decoration-color: #00af00\">0</span>]   │\n",
       "├─────────────────────┼───────────────────┼────────────┼───────────────────┤\n",
       "│ get_item_3          │ (<span style=\"color: #00d7ff; text-decoration-color: #00d7ff\">None</span>, <span style=\"color: #00d7ff; text-decoration-color: #00d7ff\">None</span>)      │          <span style=\"color: #00af00; text-decoration-color: #00af00\">0</span> │ padding_mask[<span style=\"color: #00af00; text-decoration-color: #00af00\">0</span>][<span style=\"color: #00af00; text-decoration-color: #00af00\">…</span> │\n",
       "│ (<span style=\"color: #0087ff; text-decoration-color: #0087ff\">GetItem</span>)           │                   │            │                   │\n",
       "├─────────────────────┼───────────────────┼────────────┼───────────────────┤\n",
       "│ get_item_2          │ (<span style=\"color: #00d7ff; text-decoration-color: #00d7ff\">None</span>, <span style=\"color: #00d7ff; text-decoration-color: #00d7ff\">None</span>)      │          <span style=\"color: #00af00; text-decoration-color: #00af00\">0</span> │ token_ids[<span style=\"color: #00af00; text-decoration-color: #00af00\">0</span>][<span style=\"color: #00af00; text-decoration-color: #00af00\">0</span>]   │\n",
       "│ (<span style=\"color: #0087ff; text-decoration-color: #0087ff\">GetItem</span>)           │                   │            │                   │\n",
       "├─────────────────────┼───────────────────┼────────────┼───────────────────┤\n",
       "│ deberta_v3_backbone │ (<span style=\"color: #00d7ff; text-decoration-color: #00d7ff\">None</span>, <span style=\"color: #00d7ff; text-decoration-color: #00d7ff\">None</span>, <span style=\"color: #00af00; text-decoration-color: #00af00\">384</span>) │ <span style=\"color: #00af00; text-decoration-color: #00af00\">70,682,112</span> │ get_item_1[<span style=\"color: #00af00; text-decoration-color: #00af00\">0</span>][<span style=\"color: #00af00; text-decoration-color: #00af00\">0</span>], │\n",
       "│ (<span style=\"color: #0087ff; text-decoration-color: #0087ff\">DebertaV3Backbone</span>) │                   │            │ get_item[<span style=\"color: #00af00; text-decoration-color: #00af00\">0</span>][<span style=\"color: #00af00; text-decoration-color: #00af00\">0</span>],   │\n",
       "│                     │                   │            │ get_item_3[<span style=\"color: #00af00; text-decoration-color: #00af00\">0</span>][<span style=\"color: #00af00; text-decoration-color: #00af00\">0</span>], │\n",
       "│                     │                   │            │ get_item_2[<span style=\"color: #00af00; text-decoration-color: #00af00\">0</span>][<span style=\"color: #00af00; text-decoration-color: #00af00\">0</span>]  │\n",
       "├─────────────────────┼───────────────────┼────────────┼───────────────────┤\n",
       "│ concatenate         │ (<span style=\"color: #00d7ff; text-decoration-color: #00d7ff\">None</span>, <span style=\"color: #00d7ff; text-decoration-color: #00d7ff\">None</span>, <span style=\"color: #00af00; text-decoration-color: #00af00\">768</span>) │          <span style=\"color: #00af00; text-decoration-color: #00af00\">0</span> │ deberta_v3_backb… │\n",
       "│ (<span style=\"color: #0087ff; text-decoration-color: #0087ff\">Concatenate</span>)       │                   │            │ deberta_v3_backb… │\n",
       "├─────────────────────┼───────────────────┼────────────┼───────────────────┤\n",
       "│ global_average_poo… │ (<span style=\"color: #00d7ff; text-decoration-color: #00d7ff\">None</span>, <span style=\"color: #00af00; text-decoration-color: #00af00\">768</span>)       │          <span style=\"color: #00af00; text-decoration-color: #00af00\">0</span> │ concatenate[<span style=\"color: #00af00; text-decoration-color: #00af00\">0</span>][<span style=\"color: #00af00; text-decoration-color: #00af00\">0</span>] │\n",
       "│ (<span style=\"color: #0087ff; text-decoration-color: #0087ff\">GlobalAveragePool…</span> │                   │            │                   │\n",
       "├─────────────────────┼───────────────────┼────────────┼───────────────────┤\n",
       "│ classifier (<span style=\"color: #0087ff; text-decoration-color: #0087ff\">Dense</span>)  │ (<span style=\"color: #00d7ff; text-decoration-color: #00d7ff\">None</span>, <span style=\"color: #00af00; text-decoration-color: #00af00\">3</span>)         │      <span style=\"color: #00af00; text-decoration-color: #00af00\">2,307</span> │ global_average_p… │\n",
       "└─────────────────────┴───────────────────┴────────────┴───────────────────┘\n",
       "</pre>\n"
      ],
      "text/plain": [
       "┏━━━━━━━━━━━━━━━━━━━━━┳━━━━━━━━━━━━━━━━━━━┳━━━━━━━━━━━━┳━━━━━━━━━━━━━━━━━━━┓\n",
       "┃\u001b[1m \u001b[0m\u001b[1mLayer (type)       \u001b[0m\u001b[1m \u001b[0m┃\u001b[1m \u001b[0m\u001b[1mOutput Shape     \u001b[0m\u001b[1m \u001b[0m┃\u001b[1m \u001b[0m\u001b[1m   Param #\u001b[0m\u001b[1m \u001b[0m┃\u001b[1m \u001b[0m\u001b[1mConnected to     \u001b[0m\u001b[1m \u001b[0m┃\n",
       "┡━━━━━━━━━━━━━━━━━━━━━╇━━━━━━━━━━━━━━━━━━━╇━━━━━━━━━━━━╇━━━━━━━━━━━━━━━━━━━┩\n",
       "│ padding_mask        │ (\u001b[38;5;45mNone\u001b[0m, \u001b[38;5;34m2\u001b[0m, \u001b[38;5;45mNone\u001b[0m)   │          \u001b[38;5;34m0\u001b[0m │ -                 │\n",
       "│ (\u001b[38;5;33mInputLayer\u001b[0m)        │                   │            │                   │\n",
       "├─────────────────────┼───────────────────┼────────────┼───────────────────┤\n",
       "│ token_ids           │ (\u001b[38;5;45mNone\u001b[0m, \u001b[38;5;34m2\u001b[0m, \u001b[38;5;45mNone\u001b[0m)   │          \u001b[38;5;34m0\u001b[0m │ -                 │\n",
       "│ (\u001b[38;5;33mInputLayer\u001b[0m)        │                   │            │                   │\n",
       "├─────────────────────┼───────────────────┼────────────┼───────────────────┤\n",
       "│ get_item_1          │ (\u001b[38;5;45mNone\u001b[0m, \u001b[38;5;45mNone\u001b[0m)      │          \u001b[38;5;34m0\u001b[0m │ padding_mask[\u001b[38;5;34m0\u001b[0m][\u001b[38;5;34m…\u001b[0m │\n",
       "│ (\u001b[38;5;33mGetItem\u001b[0m)           │                   │            │                   │\n",
       "├─────────────────────┼───────────────────┼────────────┼───────────────────┤\n",
       "│ get_item (\u001b[38;5;33mGetItem\u001b[0m)  │ (\u001b[38;5;45mNone\u001b[0m, \u001b[38;5;45mNone\u001b[0m)      │          \u001b[38;5;34m0\u001b[0m │ token_ids[\u001b[38;5;34m0\u001b[0m][\u001b[38;5;34m0\u001b[0m]   │\n",
       "├─────────────────────┼───────────────────┼────────────┼───────────────────┤\n",
       "│ get_item_3          │ (\u001b[38;5;45mNone\u001b[0m, \u001b[38;5;45mNone\u001b[0m)      │          \u001b[38;5;34m0\u001b[0m │ padding_mask[\u001b[38;5;34m0\u001b[0m][\u001b[38;5;34m…\u001b[0m │\n",
       "│ (\u001b[38;5;33mGetItem\u001b[0m)           │                   │            │                   │\n",
       "├─────────────────────┼───────────────────┼────────────┼───────────────────┤\n",
       "│ get_item_2          │ (\u001b[38;5;45mNone\u001b[0m, \u001b[38;5;45mNone\u001b[0m)      │          \u001b[38;5;34m0\u001b[0m │ token_ids[\u001b[38;5;34m0\u001b[0m][\u001b[38;5;34m0\u001b[0m]   │\n",
       "│ (\u001b[38;5;33mGetItem\u001b[0m)           │                   │            │                   │\n",
       "├─────────────────────┼───────────────────┼────────────┼───────────────────┤\n",
       "│ deberta_v3_backbone │ (\u001b[38;5;45mNone\u001b[0m, \u001b[38;5;45mNone\u001b[0m, \u001b[38;5;34m384\u001b[0m) │ \u001b[38;5;34m70,682,112\u001b[0m │ get_item_1[\u001b[38;5;34m0\u001b[0m][\u001b[38;5;34m0\u001b[0m], │\n",
       "│ (\u001b[38;5;33mDebertaV3Backbone\u001b[0m) │                   │            │ get_item[\u001b[38;5;34m0\u001b[0m][\u001b[38;5;34m0\u001b[0m],   │\n",
       "│                     │                   │            │ get_item_3[\u001b[38;5;34m0\u001b[0m][\u001b[38;5;34m0\u001b[0m], │\n",
       "│                     │                   │            │ get_item_2[\u001b[38;5;34m0\u001b[0m][\u001b[38;5;34m0\u001b[0m]  │\n",
       "├─────────────────────┼───────────────────┼────────────┼───────────────────┤\n",
       "│ concatenate         │ (\u001b[38;5;45mNone\u001b[0m, \u001b[38;5;45mNone\u001b[0m, \u001b[38;5;34m768\u001b[0m) │          \u001b[38;5;34m0\u001b[0m │ deberta_v3_backb… │\n",
       "│ (\u001b[38;5;33mConcatenate\u001b[0m)       │                   │            │ deberta_v3_backb… │\n",
       "├─────────────────────┼───────────────────┼────────────┼───────────────────┤\n",
       "│ global_average_poo… │ (\u001b[38;5;45mNone\u001b[0m, \u001b[38;5;34m768\u001b[0m)       │          \u001b[38;5;34m0\u001b[0m │ concatenate[\u001b[38;5;34m0\u001b[0m][\u001b[38;5;34m0\u001b[0m] │\n",
       "│ (\u001b[38;5;33mGlobalAveragePool…\u001b[0m │                   │            │                   │\n",
       "├─────────────────────┼───────────────────┼────────────┼───────────────────┤\n",
       "│ classifier (\u001b[38;5;33mDense\u001b[0m)  │ (\u001b[38;5;45mNone\u001b[0m, \u001b[38;5;34m3\u001b[0m)         │      \u001b[38;5;34m2,307\u001b[0m │ global_average_p… │\n",
       "└─────────────────────┴───────────────────┴────────────┴───────────────────┘\n"
      ]
     },
     "metadata": {},
     "output_type": "display_data"
    },
    {
     "data": {
      "text/html": [
       "<pre style=\"white-space:pre;overflow-x:auto;line-height:normal;font-family:Menlo,'DejaVu Sans Mono',consolas,'Courier New',monospace\"><span style=\"font-weight: bold\"> Total params: </span><span style=\"color: #00af00; text-decoration-color: #00af00\">70,684,419</span> (269.64 MB)\n",
       "</pre>\n"
      ],
      "text/plain": [
       "\u001b[1m Total params: \u001b[0m\u001b[38;5;34m70,684,419\u001b[0m (269.64 MB)\n"
      ]
     },
     "metadata": {},
     "output_type": "display_data"
    },
    {
     "data": {
      "text/html": [
       "<pre style=\"white-space:pre;overflow-x:auto;line-height:normal;font-family:Menlo,'DejaVu Sans Mono',consolas,'Courier New',monospace\"><span style=\"font-weight: bold\"> Trainable params: </span><span style=\"color: #00af00; text-decoration-color: #00af00\">70,684,419</span> (269.64 MB)\n",
       "</pre>\n"
      ],
      "text/plain": [
       "\u001b[1m Trainable params: \u001b[0m\u001b[38;5;34m70,684,419\u001b[0m (269.64 MB)\n"
      ]
     },
     "metadata": {},
     "output_type": "display_data"
    },
    {
     "data": {
      "text/html": [
       "<pre style=\"white-space:pre;overflow-x:auto;line-height:normal;font-family:Menlo,'DejaVu Sans Mono',consolas,'Courier New',monospace\"><span style=\"font-weight: bold\"> Non-trainable params: </span><span style=\"color: #00af00; text-decoration-color: #00af00\">0</span> (0.00 B)\n",
       "</pre>\n"
      ],
      "text/plain": [
       "\u001b[1m Non-trainable params: \u001b[0m\u001b[38;5;34m0\u001b[0m (0.00 B)\n"
      ]
     },
     "metadata": {},
     "output_type": "display_data"
    }
   ],
   "source": [
    "model.summary()"
   ]
  },
  {
   "cell_type": "code",
   "execution_count": null,
   "id": "bb6389a4",
   "metadata": {},
   "outputs": [
    {
     "name": "stdout",
     "output_type": "stream",
     "text": [
      "Epoch 1/3\n"
     ]
    },
    {
     "name": "stderr",
     "output_type": "stream",
     "text": [
      "2025-08-21 13:23:40.117782: W tensorflow/core/kernels/data/cache_dataset_ops.cc:916] The calling iterator did not fully read the dataset being cached. In order to avoid unexpected truncation of the dataset, the partially cached contents of the dataset  will be discarded. This can happen if you have an input pipeline similar to `dataset.cache().take(k).repeat()`. You should use `dataset.take(k).cache().repeat()` instead.\n"
     ]
    }
   ],
   "source": [
    "# Start training the model\n",
    "history = model.fit(\n",
    "    train_ds,\n",
    "    epochs=CFG.epochs,\n",
    "    validation_data=valid_ds,\n",
    "    callbacks=[lr_cb, ckpt_cb]\n",
    ")"
   ]
  },
  {
   "cell_type": "code",
   "execution_count": null,
   "id": "53ed4760",
   "metadata": {},
   "outputs": [
    {
     "ename": "FileNotFoundError",
     "evalue": "[Errno 2] Unable to synchronously open file (unable to open file: name = '/kaggle/working/best_model.weights.h5', errno = 2, error message = 'No such file or directory', flags = 0, o_flags = 0)",
     "output_type": "error",
     "traceback": [
      "\u001b[31m---------------------------------------------------------------------------\u001b[39m",
      "\u001b[31mFileNotFoundError\u001b[39m                         Traceback (most recent call last)",
      "\u001b[36mCell\u001b[39m\u001b[36m \u001b[39m\u001b[32mIn[25]\u001b[39m\u001b[32m, line 1\u001b[39m\n\u001b[32m----> \u001b[39m\u001b[32m1\u001b[39m \u001b[43mmodel\u001b[49m\u001b[43m.\u001b[49m\u001b[43mload_weights\u001b[49m\u001b[43m(\u001b[49m\u001b[33;43m'\u001b[39;49m\u001b[33;43m/kaggle/working/best_model.weights.h5\u001b[39;49m\u001b[33;43m'\u001b[39;49m\u001b[43m)\u001b[49m\n\u001b[32m      3\u001b[39m \u001b[38;5;66;03m# Build test dataset\u001b[39;00m\n\u001b[32m      4\u001b[39m test_texts = test_df.options.tolist()\n",
      "\u001b[36mFile \u001b[39m\u001b[32m/Library/Frameworks/Python.framework/Versions/3.12/lib/python3.12/site-packages/keras/src/utils/traceback_utils.py:122\u001b[39m, in \u001b[36mfilter_traceback.<locals>.error_handler\u001b[39m\u001b[34m(*args, **kwargs)\u001b[39m\n\u001b[32m    119\u001b[39m     filtered_tb = _process_traceback_frames(e.__traceback__)\n\u001b[32m    120\u001b[39m     \u001b[38;5;66;03m# To get the full stack trace, call:\u001b[39;00m\n\u001b[32m    121\u001b[39m     \u001b[38;5;66;03m# `keras.config.disable_traceback_filtering()`\u001b[39;00m\n\u001b[32m--> \u001b[39m\u001b[32m122\u001b[39m     \u001b[38;5;28;01mraise\u001b[39;00m e.with_traceback(filtered_tb) \u001b[38;5;28;01mfrom\u001b[39;00m\u001b[38;5;250m \u001b[39m\u001b[38;5;28;01mNone\u001b[39;00m\n\u001b[32m    123\u001b[39m \u001b[38;5;28;01mfinally\u001b[39;00m:\n\u001b[32m    124\u001b[39m     \u001b[38;5;28;01mdel\u001b[39;00m filtered_tb\n",
      "\u001b[36mFile \u001b[39m\u001b[32m/Library/Frameworks/Python.framework/Versions/3.12/lib/python3.12/site-packages/h5py/_hl/files.py:564\u001b[39m, in \u001b[36mFile.__init__\u001b[39m\u001b[34m(self, name, mode, driver, libver, userblock_size, swmr, rdcc_nslots, rdcc_nbytes, rdcc_w0, track_order, fs_strategy, fs_persist, fs_threshold, fs_page_size, page_buf_size, min_meta_keep, min_raw_keep, locking, alignment_threshold, alignment_interval, meta_block_size, **kwds)\u001b[39m\n\u001b[32m    555\u001b[39m     fapl = make_fapl(driver, libver, rdcc_nslots, rdcc_nbytes, rdcc_w0,\n\u001b[32m    556\u001b[39m                      locking, page_buf_size, min_meta_keep, min_raw_keep,\n\u001b[32m    557\u001b[39m                      alignment_threshold=alignment_threshold,\n\u001b[32m    558\u001b[39m                      alignment_interval=alignment_interval,\n\u001b[32m    559\u001b[39m                      meta_block_size=meta_block_size,\n\u001b[32m    560\u001b[39m                      **kwds)\n\u001b[32m    561\u001b[39m     fcpl = make_fcpl(track_order=track_order, fs_strategy=fs_strategy,\n\u001b[32m    562\u001b[39m                      fs_persist=fs_persist, fs_threshold=fs_threshold,\n\u001b[32m    563\u001b[39m                      fs_page_size=fs_page_size)\n\u001b[32m--> \u001b[39m\u001b[32m564\u001b[39m     fid = \u001b[43mmake_fid\u001b[49m\u001b[43m(\u001b[49m\u001b[43mname\u001b[49m\u001b[43m,\u001b[49m\u001b[43m \u001b[49m\u001b[43mmode\u001b[49m\u001b[43m,\u001b[49m\u001b[43m \u001b[49m\u001b[43muserblock_size\u001b[49m\u001b[43m,\u001b[49m\u001b[43m \u001b[49m\u001b[43mfapl\u001b[49m\u001b[43m,\u001b[49m\u001b[43m \u001b[49m\u001b[43mfcpl\u001b[49m\u001b[43m,\u001b[49m\u001b[43m \u001b[49m\u001b[43mswmr\u001b[49m\u001b[43m=\u001b[49m\u001b[43mswmr\u001b[49m\u001b[43m)\u001b[49m\n\u001b[32m    566\u001b[39m \u001b[38;5;28;01mif\u001b[39;00m \u001b[38;5;28misinstance\u001b[39m(libver, \u001b[38;5;28mtuple\u001b[39m):\n\u001b[32m    567\u001b[39m     \u001b[38;5;28mself\u001b[39m._libver = libver\n",
      "\u001b[36mFile \u001b[39m\u001b[32m/Library/Frameworks/Python.framework/Versions/3.12/lib/python3.12/site-packages/h5py/_hl/files.py:238\u001b[39m, in \u001b[36mmake_fid\u001b[39m\u001b[34m(name, mode, userblock_size, fapl, fcpl, swmr)\u001b[39m\n\u001b[32m    236\u001b[39m     \u001b[38;5;28;01mif\u001b[39;00m swmr \u001b[38;5;129;01mand\u001b[39;00m swmr_support:\n\u001b[32m    237\u001b[39m         flags |= h5f.ACC_SWMR_READ\n\u001b[32m--> \u001b[39m\u001b[32m238\u001b[39m     fid = \u001b[43mh5f\u001b[49m\u001b[43m.\u001b[49m\u001b[43mopen\u001b[49m\u001b[43m(\u001b[49m\u001b[43mname\u001b[49m\u001b[43m,\u001b[49m\u001b[43m \u001b[49m\u001b[43mflags\u001b[49m\u001b[43m,\u001b[49m\u001b[43m \u001b[49m\u001b[43mfapl\u001b[49m\u001b[43m=\u001b[49m\u001b[43mfapl\u001b[49m\u001b[43m)\u001b[49m\n\u001b[32m    239\u001b[39m \u001b[38;5;28;01melif\u001b[39;00m mode == \u001b[33m'\u001b[39m\u001b[33mr+\u001b[39m\u001b[33m'\u001b[39m:\n\u001b[32m    240\u001b[39m     fid = h5f.open(name, h5f.ACC_RDWR, fapl=fapl)\n",
      "\u001b[36mFile \u001b[39m\u001b[32mh5py/_objects.pyx:56\u001b[39m, in \u001b[36mh5py._objects.with_phil.wrapper\u001b[39m\u001b[34m()\u001b[39m\n",
      "\u001b[36mFile \u001b[39m\u001b[32mh5py/_objects.pyx:57\u001b[39m, in \u001b[36mh5py._objects.with_phil.wrapper\u001b[39m\u001b[34m()\u001b[39m\n",
      "\u001b[36mFile \u001b[39m\u001b[32mh5py/h5f.pyx:102\u001b[39m, in \u001b[36mh5py.h5f.open\u001b[39m\u001b[34m()\u001b[39m\n",
      "\u001b[31mFileNotFoundError\u001b[39m: [Errno 2] Unable to synchronously open file (unable to open file: name = '/kaggle/working/best_model.weights.h5', errno = 2, error message = 'No such file or directory', flags = 0, o_flags = 0)"
     ]
    }
   ],
   "source": [
    "model.load_weights('/kaggle/working/best_model.weights.h5')\n",
    "\n",
    "\n",
    "# Build test dataset\n",
    "test_texts = test_df.options.tolist()\n",
    "test_ds = build_dataset(test_texts,\n",
    "                         batch_size=min(len(test_df), CFG.batch_size),\n",
    "                         shuffle=False)"
   ]
  }
 ],
 "metadata": {
  "kernelspec": {
   "display_name": "Python 3",
   "language": "python",
   "name": "python3"
  },
  "language_info": {
   "codemirror_mode": {
    "name": "ipython",
    "version": 3
   },
   "file_extension": ".py",
   "mimetype": "text/x-python",
   "name": "python",
   "nbconvert_exporter": "python",
   "pygments_lexer": "ipython3",
   "version": "3.12.5"
  }
 },
 "nbformat": 4,
 "nbformat_minor": 5
}
