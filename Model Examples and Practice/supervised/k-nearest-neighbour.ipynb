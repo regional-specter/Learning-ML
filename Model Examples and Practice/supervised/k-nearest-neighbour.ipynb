{
 "cells": [
  {
   "cell_type": "markdown",
   "id": "74a085fc",
   "metadata": {},
   "source": [
    "# k-Nearest Neighbor Model (Supervised Learning task)\n",
    "\n",
    "New point on a dataset is classified in a class depending on a classification and distance basis"
   ]
  },
  {
   "cell_type": "code",
   "execution_count": 2,
   "id": "af8b5e48",
   "metadata": {},
   "outputs": [],
   "source": [
    "import random\n",
    "import math\n",
    "from collections import Counter\n",
    "import matplotlib.pyplot as plt"
   ]
  },
  {
   "cell_type": "code",
   "execution_count": 3,
   "id": "d5ddd085",
   "metadata": {},
   "outputs": [],
   "source": [
    "# Generate random training data\n",
    "def generate_random_data(n_samples=50, n_features=2, n_classes=3):\n",
    "    \"\"\"Generate random training data with specified classes\"\"\"\n",
    "    X = []\n",
    "    y = []\n",
    "    \n",
    "    # Create clusters for each class\n",
    "    for class_label in range(n_classes):\n",
    "        # Random center for each class cluster\n",
    "        center_x = random.uniform(-10, 10)\n",
    "        center_y = random.uniform(-10, 10)\n",
    "        \n",
    "        # Generate points around this center\n",
    "        for _ in range(n_samples // n_classes):\n",
    "            x = center_x + random.gauss(0, 3)  # Add some noise\n",
    "            y_coord = center_y + random.gauss(0, 3)\n",
    "            X.append([x, y_coord])\n",
    "            y.append(class_label)\n",
    "    \n",
    "    return X, y"
   ]
  },
  {
   "cell_type": "code",
   "execution_count": 4,
   "id": "142407d0",
   "metadata": {},
   "outputs": [],
   "source": [
    "# Calculate Euclidean distance between two points\n",
    "def euclidean_distance(point1, point2):\n",
    "    \"\"\"Calculate the Euclidean distance between two points\"\"\"\n",
    "    distance = 0  # Initialize distance accumulator\n",
    "    \n",
    "    # Loop through each feature/dimension\n",
    "    for i in range(len(point1)):\n",
    "        # Calculate squared difference for this dimension\n",
    "        # (x1 - x2)² for each feature\n",
    "        distance += (point1[i] - point2[i]) ** 2\n",
    "    \n",
    "    # Take square root to get final Euclidean distance\n",
    "    # Formula: √[(x1-x2)² + (y1-y2)² + ... + (n1-n2)²]\n",
    "    return math.sqrt(distance)\n",
    "\n",
    "# KNN Classifier\n",
    "class SimpleKNN:\n",
    "    def __init__(self, k=3):\n",
    "        self.k = k\n",
    "        self.X_train = None\n",
    "        self.y_train = None\n",
    "    \n",
    "    def fit(self, X, y):\n",
    "        \"\"\"Store the training data\"\"\"\n",
    "        self.X_train = X\n",
    "        self.y_train = y\n",
    "    \n",
    "    def predict_single(self, test_point):\n",
    "        \"\"\"Predict the class for a single test point\"\"\"\n",
    "        # Calculate distances to all training points\n",
    "        distances = []\n",
    "        for i, train_point in enumerate(self.X_train):\n",
    "            dist = euclidean_distance(test_point, train_point)\n",
    "            distances.append((dist, self.y_train[i]))\n",
    "        \n",
    "        # Sort by distance and get k nearest neighbors\n",
    "        distances.sort(key=lambda x: x[0])\n",
    "        k_nearest = distances[:self.k]\n",
    "        \n",
    "        # Get the labels of k nearest neighbors\n",
    "        neighbor_labels = [label for _, label in k_nearest]\n",
    "        \n",
    "        # Return the most common label (majority vote)\n",
    "        most_common = Counter(neighbor_labels).most_common(1)\n",
    "        return most_common[0][0]\n",
    "    \n",
    "    def predict(self, X_test):\n",
    "        \"\"\"Predict classes for multiple test points\"\"\"\n",
    "        predictions = []\n",
    "        for test_point in X_test:\n",
    "            pred = self.predict_single(test_point)\n",
    "            predictions.append(pred)\n",
    "        return predictions\n",
    "    \n",
    "    def accuracy(self, X_test, y_test):\n",
    "        \"\"\"Calculate accuracy on test data\"\"\"\n",
    "        predictions = self.predict(X_test)\n",
    "        correct = sum(1 for pred, actual in zip(predictions, y_test) if pred == actual)\n",
    "        return correct / len(y_test)"
   ]
  },
  {
   "cell_type": "code",
   "execution_count": 5,
   "id": "3297fbc3",
   "metadata": {},
   "outputs": [
    {
     "name": "stdout",
     "output_type": "stream",
     "text": [
      "Generating random training data...\n",
      "Generating random test data...\n",
      "Training data: 60 samples\n",
      "Test data: 30 samples\n",
      "Features per sample: 2\n"
     ]
    }
   ],
   "source": [
    "# Generate sample data\n",
    "print(\"Generating random training data...\")\n",
    "X_train, y_train = generate_random_data(n_samples=60, n_features=2, n_classes=3)\n",
    "\n",
    "# Generate test data\n",
    "print(\"Generating random test data...\")\n",
    "X_test, y_test = generate_random_data(n_samples=30, n_features=2, n_classes=3)\n",
    "\n",
    "print(f\"Training data: {len(X_train)} samples\")\n",
    "print(f\"Test data: {len(X_test)} samples\")\n",
    "print(f\"Features per sample: {len(X_train[0])}\")"
   ]
  },
  {
   "cell_type": "code",
   "execution_count": 6,
   "id": "9149210d",
   "metadata": {},
   "outputs": [
    {
     "name": "stdout",
     "output_type": "stream",
     "text": [
      "\n",
      "Training KNN with k=5\n"
     ]
    }
   ],
   "source": [
    "# Create and train the KNN model\n",
    "k = 5\n",
    "knn = SimpleKNN(k=k)\n",
    "knn.fit(X_train, y_train)\n",
    "\n",
    "# Make predictions\n",
    "print(f\"\\nTraining KNN with k={k}\")\n",
    "predictions = knn.predict(X_test)"
   ]
  },
  {
   "cell_type": "code",
   "execution_count": 9,
   "id": "61f9e26c",
   "metadata": {},
   "outputs": [
    {
     "data": {
      "image/png": "[encoded data removed]",
      "text/plain": [
       "<Figure size 640x480 with 1 Axes>"
      ]
     },
     "metadata": {},
     "output_type": "display_data"
    }
   ],
   "source": [
    "# Plot training data\n",
    "plt.subplot(1, 2, 1)\n",
    "colors = ['red', 'blue', 'green', 'orange', 'purple']\n",
    "for class_label in set(y_train):\n",
    "    class_points = [X_train[i] for i in range(len(X_train)) if y_train[i] == class_label]\n",
    "    x_coords = [point[0] for point in class_points]\n",
    "    y_coords = [point[1] for point in class_points]\n",
    "    plt.scatter(x_coords, y_coords, c=colors[class_label], label=f'Class {class_label}', alpha=0.7)\n",
    "\n",
    "plt.title('Training Data')\n",
    "plt.xlabel('Feature 1')\n",
    "plt.ylabel('Feature 2')\n",
    "plt.legend()\n",
    "plt.grid(True)"
   ]
  },
  {
   "cell_type": "code",
   "execution_count": 10,
   "id": "0eb6ec89",
   "metadata": {},
   "outputs": [
    {
     "data": {
      "image/png": "[encoded data removed]",
      "text/plain": [
       "<Figure size 640x480 with 1 Axes>"
      ]
     },
     "metadata": {},
     "output_type": "display_data"
    }
   ],
   "source": [
    "# Plot test data with predictions\n",
    "plt.subplot(1, 2, 2)\n",
    "for i, (test_point, pred, actual) in enumerate(zip(X_test, predictions, y_test)):\n",
    "    color = colors[pred]\n",
    "    marker = 'o' if pred == actual else 'x'  # X for wrong predictions\n",
    "    plt.scatter(test_point[0], test_point[1], c=color, marker=marker, s=100, alpha=0.8)\n",
    "\n",
    "plt.title('Test Data (o=correct, x=incorrect)')\n",
    "plt.xlabel('Feature 1')\n",
    "plt.ylabel('Feature 2')\n",
    "plt.grid(True)\n",
    "\n",
    "plt.tight_layout()\n",
    "plt.show()"
   ]
  },
  {
   "cell_type": "code",
   "execution_count": 11,
   "id": "c4cab911",
   "metadata": {},
   "outputs": [
    {
     "name": "stdout",
     "output_type": "stream",
     "text": [
      "\n",
      "==================================================\n",
      "Testing different k values:\n",
      "==================================================\n",
      "k=1: Accuracy = 0.500\n",
      "k=3: Accuracy = 0.500\n",
      "k=5: Accuracy = 0.467\n",
      "k=7: Accuracy = 0.500\n",
      "k=9: Accuracy = 0.467\n"
     ]
    }
   ],
   "source": [
    "# Test with different k values\n",
    "print(\"\\n\" + \"=\"*50)\n",
    "print(\"Testing different k values:\")\n",
    "print(\"=\"*50)\n",
    "\n",
    "k_values = [1, 3, 5, 7, 9]\n",
    "for k in k_values:\n",
    "    knn_temp = SimpleKNN(k=k)\n",
    "    knn_temp.fit(X_train, y_train)\n",
    "    acc = knn_temp.accuracy(X_test, y_test)\n",
    "    print(f\"k={k}: Accuracy = {acc:.3f}\")"
   ]
  }
 ],
 "metadata": {
  "kernelspec": {
   "display_name": "ML",
   "language": "python",
   "name": "python3"
  },
  "language_info": {
   "codemirror_mode": {
    "name": "ipython",
    "version": 3
   },
   "file_extension": ".py",
   "mimetype": "text/x-python",
   "name": "python",
   "nbconvert_exporter": "python",
   "pygments_lexer": "ipython3",
   "version": "3.11.13"
  }
 },
 "nbformat": 4,
 "nbformat_minor": 5
}
